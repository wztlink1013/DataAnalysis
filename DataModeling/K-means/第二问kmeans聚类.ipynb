{
 "cells": [
  {
   "cell_type": "code",
   "execution_count": 1,
   "metadata": {},
   "outputs": [],
   "source": [
    "'''手工实现k_means聚类'''\n",
    "import numpy as np\n",
    "import pandas as pd\n",
    "import matplotlib\n",
    "import matplotlib.pyplot as plt\n",
    "%matplotlib inline\n",
    "#jupyter notebook需要加上该命令\n",
    "matplotlib.rcParams['font.sans-serif']=['SimHei']   # 用黑体显示中文=====不要改matplotlib里面的配置\n",
    "matplotlib.rcParams['axes.unicode_minus']=False     # 正常显示负号\n",
    "# 设置matplotlib正常显示中文和负号!!!"
   ]
  },
  {
   "cell_type": "code",
   "execution_count": 2,
   "metadata": {},
   "outputs": [],
   "source": [
    "###读取数据\n",
    "# df_data = pd.read_csv('./data/data.csv')\n",
    "# df_data = pd.read_csv('./data/K-means-input.csv') # 贷款额度划分 聚4类\n",
    "df_data = pd.read_csv('./data/P2-K-means-fengxianzhi.csv') # 企业风险评估 聚4类===arange里面的114\n",
    "list2 = []\n",
    "for i in df_data.values:\n",
    "    for m in i:\n",
    "        list2.append(m)\n",
    "list1 = list(np.arange(267))"
   ]
  },
  {
   "cell_type": "code",
   "execution_count": 3,
   "metadata": {},
   "outputs": [
    {
     "data": {
      "image/png": "[encoded data removed]",
      "text/plain": [
       "<Figure size 432x288 with 1 Axes>"
      ]
     },
     "metadata": {
      "needs_background": "light"
     },
     "output_type": "display_data"
    }
   ],
   "source": [
    "# 第一步，随机选择 K 个点\n",
    "K         = 4\n",
    "p_list    = np.stack([list1, list2], axis=1)\n",
    "\n",
    "index     = np.random.choice(len(p_list), size=K)\n",
    "# print(index)\n",
    "centeroid = p_list[index]\n",
    "# print(centeroid)\n",
    "\n",
    "# 以下是画图部分\n",
    "# for p in centeroid:\n",
    "#     plt.scatter(p[0], p[1], marker='x')\n",
    "plt.scatter(63, 0.439, color='red',marker='x',label='K-means风险值')\n",
    "plt.scatter(143, 0.574, color='red',marker='x')\n",
    "plt.scatter(242, 0.898, color='red',marker='x')\n",
    "plt.plot(list1,list2,'.',color='b',alpha=0.5,label='风险值')\n",
    "plt.legend()\n",
    "plt.xlim(0, 270)\n",
    "plt.ylim(0, 1.1)\n",
    "\n",
    "plt.xlabel('各个企业',fontsize=12)\n",
    "plt.ylabel('风险值',fontsize=12)\n",
    "plt.savefig('./output/P2-风险值聚类.png',dpi = 400)\n",
    "plt.show()\n"
   ]
  },
  {
   "cell_type": "code",
   "execution_count": null,
   "metadata": {},
   "outputs": [],
   "source": []
  }
 ],
 "metadata": {
  "kernelspec": {
   "display_name": "Python 3",
   "language": "python",
   "name": "python3"
  },
  "language_info": {
   "codemirror_mode": {
    "name": "ipython",
    "version": 3
   },
   "file_extension": ".py",
   "mimetype": "text/x-python",
   "name": "python",
   "nbconvert_exporter": "python",
   "pygments_lexer": "ipython3",
   "version": "3.7.6"
  },
  "toc": {
   "base_numbering": 1,
   "nav_menu": {},
   "number_sections": true,
   "sideBar": true,
   "skip_h1_title": false,
   "title_cell": "Table of Contents",
   "title_sidebar": "Contents",
   "toc_cell": false,
   "toc_position": {},
   "toc_section_display": true,
   "toc_window_display": false
  }
 },
 "nbformat": 4,
 "nbformat_minor": 4
}
