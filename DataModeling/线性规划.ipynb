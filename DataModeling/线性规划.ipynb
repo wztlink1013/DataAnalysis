{
 "cells": [
  {
   "cell_type": "markdown",
   "metadata": {},
   "source": [
    "# 数学建模能用到的知识\n",
    "    只涉及数学方程转换成函数语言进行求解的过程，参考书籍：《数学建模算法与应用》"
   ]
  },
  {
   "cell_type": "code",
   "execution_count": 1,
   "metadata": {},
   "outputs": [],
   "source": [
    "import matplotlib.pyplot as plt\n",
    "import numpy as np\n",
    "import matplotlib\n",
    "#jupyter notebook需要加上该命令\n",
    "%matplotlib inline\n",
    "# 设置matplotlib正常显示中文和负号!!!\n",
    "matplotlib.rcParams['font.sans-serif']=['SimHei']   # 用黑体显示中文=====不要改matplotlib里面的配置\n",
    "matplotlib.rcParams['axes.unicode_minus']=False     # 正常显示负号"
   ]
  },
  {
   "cell_type": "code",
   "execution_count": 2,
   "metadata": {},
   "outputs": [
    {
     "name": "stdout",
     "output_type": "stream",
     "text": [
      "[1. 2. 3.]\n",
      "[[1 2]\n",
      " [3 4]]\n",
      "[[1 2 3]]\n",
      "[1.+0.j 2.+0.j 3.+0.j]\n",
      "[(1, 2) (3, 4)]\n"
     ]
    }
   ],
   "source": [
    "#向上转型\n",
    "print(np.array([1,2,3.0])    )\n",
    "#多维度\n",
    "print(np.array([[1, 2], [3, 4]]))\n",
    "#预设维度=== ?\n",
    "print(np.array([1, 2, 3], ndmin=2))\n",
    "#复数=== ?\n",
    "print(np.array([1, 2, 3], dtype=complex))\n",
    "#多种数据类型=== ?\n",
    "x = np.array([(1,2),(3,4)],dtype=[('a','<i4'),('b','<i4')])\n",
    "print(x)"
   ]
  },
  {
   "cell_type": "markdown",
   "metadata": {},
   "source": [
    "### 1. 线性规划"
   ]
  },
  {
   "cell_type": "code",
   "execution_count": 6,
   "metadata": {},
   "outputs": [
    {
     "name": "stdout",
     "output_type": "stream",
     "text": [
      "     con: array([], dtype=float64)\n",
      "     fun: 0.0\n",
      " message: 'Optimization terminated successfully.'\n",
      "     nit: 4\n",
      "   slack: array([10.,  8.])\n",
      "  status: 0\n",
      " success: True\n",
      "       x: array([0., 0.])\n"
     ]
    }
   ],
   "source": [
    "'''\n",
    "max： z = 4x1 + 3x2\n",
    "st:      2x1 + 3x2<=10\n",
    "           x1 + x2 <=8\n",
    "           x2 <= 7\n",
    "           x1,x2 > 0\n",
    "'''\n",
    "\n",
    "from scipy.optimize import linprog\n",
    "\n",
    "c = [4,3]        #默认linprog求解的是最小值，若求最大值，此处c取反即可得到最大值的相反数。\n",
    "A = [[2,3],[1,1]]\n",
    "b = [10,8]\n",
    "x1_bounds = [0,None]\n",
    "x2_bounds =[0,7]\n",
    "res = linprog(c,A,b,bounds=(x1_bounds,x2_bounds))\n",
    "print(res)"
   ]
  },
  {
   "cell_type": "markdown",
   "metadata": {},
   "source": [
    "### 2. 多项式拟合"
   ]
  },
  {
   "cell_type": "code",
   "execution_count": 4,
   "metadata": {},
   "outputs": [
    {
     "ename": "NameError",
     "evalue": "name 'ployfit' is not defined",
     "output_type": "error",
     "traceback": [
      "\u001b[1;31m---------------------------------------------------------------------------\u001b[0m",
      "\u001b[1;31mNameError\u001b[0m                                 Traceback (most recent call last)",
      "\u001b[1;32m<ipython-input-4-ed5af4d3ba83>\u001b[0m in \u001b[0;36m<module>\u001b[1;34m\u001b[0m\n\u001b[0;32m      7\u001b[0m \u001b[0my\u001b[0m \u001b[1;33m=\u001b[0m \u001b[0mnp\u001b[0m\u001b[1;33m.\u001b[0m\u001b[0marray\u001b[0m\u001b[1;33m(\u001b[0m\u001b[1;33m[\u001b[0m\u001b[1;36m70\u001b[0m \u001b[1;33m,\u001b[0m\u001b[1;36m122\u001b[0m \u001b[1;33m,\u001b[0m\u001b[1;36m144\u001b[0m \u001b[1;33m,\u001b[0m\u001b[1;36m152\u001b[0m\u001b[1;33m,\u001b[0m \u001b[1;36m174\u001b[0m\u001b[1;33m,\u001b[0m \u001b[1;36m196\u001b[0m\u001b[1;33m,\u001b[0m \u001b[1;36m202\u001b[0m\u001b[1;33m]\u001b[0m\u001b[1;33m)\u001b[0m\u001b[1;33m\u001b[0m\u001b[1;33m\u001b[0m\u001b[0m\n\u001b[0;32m      8\u001b[0m \u001b[1;33m\u001b[0m\u001b[0m\n\u001b[1;32m----> 9\u001b[1;33m \u001b[0mz1\u001b[0m \u001b[1;33m=\u001b[0m \u001b[0mployfit\u001b[0m\u001b[1;33m(\u001b[0m\u001b[0mx\u001b[0m\u001b[1;33m,\u001b[0m\u001b[0my\u001b[0m\u001b[1;33m,\u001b[0m\u001b[1;36m1\u001b[0m\u001b[1;33m)\u001b[0m  \u001b[1;31m#之前画过原始数据，数据走向为ax+b类型。故采用一次多项式拟合\u001b[0m\u001b[1;33m\u001b[0m\u001b[1;33m\u001b[0m\u001b[0m\n\u001b[0m\u001b[0;32m     10\u001b[0m \u001b[0mp1\u001b[0m \u001b[1;33m=\u001b[0m \u001b[0mnp\u001b[0m\u001b[1;33m.\u001b[0m\u001b[0mploy1d\u001b[0m\u001b[1;33m(\u001b[0m\u001b[0mz1\u001b[0m\u001b[1;33m)\u001b[0m\u001b[1;33m\u001b[0m\u001b[1;33m\u001b[0m\u001b[0m\n\u001b[0;32m     11\u001b[0m \u001b[0myvalue\u001b[0m \u001b[1;33m=\u001b[0m \u001b[0mp1\u001b[0m\u001b[1;33m(\u001b[0m\u001b[0mx\u001b[0m\u001b[1;33m)\u001b[0m\u001b[1;33m\u001b[0m\u001b[1;33m\u001b[0m\u001b[0m\n",
      "\u001b[1;31mNameError\u001b[0m: name 'ployfit' is not defined"
     ]
    }
   ],
   "source": [
    "import numpy as np\n",
    "import matplotlib.pyplot as plt\n",
    "\n",
    "'''\n",
    "'''\n",
    "x = np.arange(1990,1997,1)\n",
    "y = np.array([70 ,122 ,144 ,152, 174, 196, 202])\n",
    "\n",
    "z1 = ployfit(x,y,1)  #之前画过原始数据，数据走向为ax+b类型。故采用一次多项式拟合\n",
    "p1 = np.ploy1d(z1)\n",
    "yvalue = p1(x)\n",
    "\n",
    "plt.plot(x,y,'*',label = '原始数据')\n",
    "plt.plot(z1,yvalue,label = '拟合曲线')\n",
    "\n",
    "plt.xlabel('x axis')\n",
    "plt.ylabel('y axis')\n",
    "\n",
    "plt.legend(loc = 4 )\n",
    "\n",
    "plt.tittle('多项式拟合')\n",
    "plt.show()"
   ]
  },
  {
   "cell_type": "code",
   "execution_count": null,
   "metadata": {},
   "outputs": [],
   "source": []
  }
 ],
 "metadata": {
  "kernelspec": {
   "display_name": "Python 3",
   "language": "python",
   "name": "python3"
  },
  "language_info": {
   "codemirror_mode": {
    "name": "ipython",
    "version": 3
   },
   "file_extension": ".py",
   "mimetype": "text/x-python",
   "name": "python",
   "nbconvert_exporter": "python",
   "pygments_lexer": "ipython3",
   "version": "3.7.4"
  }
 },
 "nbformat": 4,
 "nbformat_minor": 2
}
