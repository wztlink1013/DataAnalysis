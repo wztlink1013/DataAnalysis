{
 "cells": [
  {
   "cell_type": "markdown",
   "metadata": {},
   "source": [
    "# 时间数据重采样"
   ]
  },
  {
   "cell_type": "markdown",
   "metadata": {},
   "source": [
    "## 0. resample"
   ]
  },
  {
   "cell_type": "code",
   "execution_count": null,
   "metadata": {},
   "outputs": [],
   "source": [
    "import pandas as pd\n",
    "import numpy as np\n",
    "\n",
    "date_rng = pd.date_range('20170101', periods=100, freq='D')\n",
    "ser_obj = pd.Series(range(len(date_rng)), index=date_rng)\n",
    "print(ser_obj.head(7))"
   ]
  },
  {
   "cell_type": "code",
   "execution_count": null,
   "metadata": {},
   "outputs": [],
   "source": [
    "# 统计每个月的数据总和\n",
    "resample_month_sum = ser_obj.resample('M').sum()\n",
    "# 统计每个月的数据平均\n",
    "resample_month_mean = ser_obj.resample('M').mean()\n",
    "\n",
    "print('按月求和：', resample_month_sum)\n",
    "print('按月求均值：', resample_month_mean)"
   ]
  },
  {
   "cell_type": "markdown",
   "metadata": {},
   "source": [
    "## 1. 降采样"
   ]
  },
  {
   "cell_type": "code",
   "execution_count": null,
   "metadata": {},
   "outputs": [],
   "source": [
    "# 将数据聚合到5天的频率\n",
    "five_day_sum_sample = ser_obj.resample('5D').sum()\n",
    "five_day_mean_sample = ser_obj.resample('5D').mean()\n",
    "five_day_ohlc_sample = ser_obj.resample('5D').ohlc()\n",
    "\n",
    "print('降采样，sum')\n",
    "print(five_day_sum_sample)"
   ]
  },
  {
   "cell_type": "code",
   "execution_count": null,
   "metadata": {},
   "outputs": [],
   "source": [
    "print('降采样，mean')\n",
    "print(five_day_mean_sample)"
   ]
  },
  {
   "cell_type": "code",
   "execution_count": null,
   "metadata": {},
   "outputs": [],
   "source": [
    "print('降采样，ohlc')\n",
    "print(five_day_ohlc_sample)"
   ]
  },
  {
   "cell_type": "code",
   "execution_count": null,
   "metadata": {},
   "outputs": [],
   "source": [
    "# 使用groupby降采样\n",
    "print(ser_obj.groupby(lambda x: x.month).sum())"
   ]
  },
  {
   "cell_type": "code",
   "execution_count": null,
   "metadata": {},
   "outputs": [],
   "source": [
    "print(ser_obj.groupby(lambda x: x.weekday).sum())"
   ]
  },
  {
   "cell_type": "markdown",
   "metadata": {},
   "source": [
    "## 2. 升采样"
   ]
  },
  {
   "cell_type": "code",
   "execution_count": null,
   "metadata": {},
   "outputs": [],
   "source": [
    "df = pd.DataFrame(np.random.randn(5, 3),\n",
    "                 index=pd.date_range('20170101', periods=5, freq='W-MON'),\n",
    "                 columns=['S1', 'S2', 'S3'])\n",
    "print(df)"
   ]
  },
  {
   "cell_type": "code",
   "execution_count": null,
   "metadata": {},
   "outputs": [],
   "source": [
    "# 直接重采样会产生空值\n",
    "print(df.resample('D').asfreq())"
   ]
  },
  {
   "cell_type": "code",
   "execution_count": null,
   "metadata": {},
   "outputs": [],
   "source": [
    "#ffill\n",
    "print(df.resample('D').ffill(2))"
   ]
  },
  {
   "cell_type": "code",
   "execution_count": null,
   "metadata": {},
   "outputs": [],
   "source": [
    "print(df.resample('D').bfill())"
   ]
  },
  {
   "cell_type": "code",
   "execution_count": null,
   "metadata": {},
   "outputs": [],
   "source": [
    "print(df.resample('D').fillna('ffill'))"
   ]
  },
  {
   "cell_type": "code",
   "execution_count": null,
   "metadata": {},
   "outputs": [],
   "source": [
    "print(df.resample('D').interpolate('linear'))\n",
    "#根据插值算法补全数据 == 回归拟合\n",
    "#linear是线性"
   ]
  },
  {
   "cell_type": "code",
   "execution_count": null,
   "metadata": {},
   "outputs": [],
   "source": []
  }
 ],
 "metadata": {
  "kernelspec": {
   "display_name": "Python 3",
   "language": "python",
   "name": "python3"
  },
  "language_info": {
   "codemirror_mode": {
    "name": "ipython",
    "version": 3
   },
   "file_extension": ".py",
   "mimetype": "text/x-python",
   "name": "python",
   "nbconvert_exporter": "python",
   "pygments_lexer": "ipython3",
   "version": "3.7.3"
  }
 },
 "nbformat": 4,
 "nbformat_minor": 1
}
