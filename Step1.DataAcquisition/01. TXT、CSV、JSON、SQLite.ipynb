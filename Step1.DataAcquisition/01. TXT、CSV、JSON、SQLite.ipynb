{
 "cells": [
  {
   "cell_type": "markdown",
   "metadata": {},
   "source": [
    "# TXT文件操作"
   ]
  },
  {
   "cell_type": "markdown",
   "metadata": {},
   "source": [
    "## 读取全部内容"
   ]
  },
  {
   "cell_type": "code",
   "execution_count": 1,
   "metadata": {},
   "outputs": [],
   "source": [
    "import numpy as np\n",
    "import pandas as pd"
   ]
  },
  {
   "cell_type": "code",
   "execution_count": 5,
   "metadata": {},
   "outputs": [
    {
     "name": "stdout",
     "output_type": "stream",
     "text": [
      "Python is a widely used high-level, general-purpose, interpreted, dynamic programming language.[24][25] Its design philosophy emphasizes code readability, and its syntax allows programmers to express concepts in fewer lines of code than possible in languages such as C++ or Java.[26][27] The language provides constructs intended to enable writing clear programs on both a small and large scale.[28]\n",
      "Python supports multiple programming paradigms, including object-oriented, imperative and functional programming or procedural styles. It features a dynamic type system and automatic memory management and has a large and comprehensive standard library.[29]\n",
      "Python interpreters are available for many operating systems, allowing Python code to run on a wide variety of systems. CPython, the reference implementation of Python, is open source software[30] and has a community-based development model, as do nearly all of its variant implementations. CPython is managed by the non-profit Python Software Foundation.\n"
     ]
    }
   ],
   "source": [
    "txt_filename = './files/python_wiki.txt'\n",
    "\n",
    "# 打开文件\n",
    "file_obj = open(txt_filename,'r')\n",
    "\n",
    "# 读取整个文件内容\n",
    "all_content = file_obj.read()\n",
    "\n",
    "# 关闭文件\n",
    "file_obj.close()\n",
    "\n",
    "print (all_content)"
   ]
  },
  {
   "cell_type": "markdown",
   "metadata": {},
   "source": [
    "## 逐行读取"
   ]
  },
  {
   "cell_type": "code",
   "execution_count": 2,
   "metadata": {},
   "outputs": [
    {
     "name": "stdout",
     "output_type": "stream",
     "text": [
      "Python is a widely used high-level, general-purpose, interpreted, dynamic programming language.[24][25] Its design philosophy emphasizes code readability, and its syntax allows programmers to express concepts in fewer lines of code than possible in languages such as C++ or Java.[26][27] The language provides constructs intended to enable writing clear programs on both a small and large scale.[28]\n",
      "\n"
     ]
    }
   ],
   "source": [
    "txt_filename = './files/python_wiki.txt'\n",
    "\n",
    "# 打开文件\n",
    "file_obj = open(txt_filename, 'r')\n",
    "\n",
    "# 逐行读取\n",
    "line1 = file_obj.readline()\n",
    "print (line1)"
   ]
  },
  {
   "cell_type": "code",
   "execution_count": 13,
   "metadata": {},
   "outputs": [
    {
     "name": "stdout",
     "output_type": "stream",
     "text": [
      "Python supports multiple programming paradigms, including object-oriented, imperative and functional programming or procedural styles. It features a dynamic type system and automatic memory management and has a large and comprehensive standard library.[29]\n",
      "\n"
     ]
    }
   ],
   "source": [
    "# 继续读下一行【不会全部读完】\n",
    "line2 = file_obj.readline()\n",
    "print (line2)\n",
    "\n",
    "# 关闭文件\n",
    "file_obj.close()"
   ]
  },
  {
   "cell_type": "markdown",
   "metadata": {},
   "source": [
    "## 读取全部内容，返回列表"
   ]
  },
  {
   "cell_type": "code",
   "execution_count": 14,
   "metadata": {
    "scrolled": true
   },
   "outputs": [
    {
     "name": "stdout",
     "output_type": "stream",
     "text": [
      "0: Python is a widely used high-level, general-purpose, interpreted, dynamic programming language.[24][25] Its design philosophy emphasizes code readability, and its syntax allows programmers to express concepts in fewer lines of code than possible in languages such as C++ or Java.[26][27] The language provides constructs intended to enable writing clear programs on both a small and large scale.[28]\n",
      "\n",
      "1: Python supports multiple programming paradigms, including object-oriented, imperative and functional programming or procedural styles. It features a dynamic type system and automatic memory management and has a large and comprehensive standard library.[29]\n",
      "\n",
      "2: Python interpreters are available for many operating systems, allowing Python code to run on a wide variety of systems. CPython, the reference implementation of Python, is open source software[30] and has a community-based development model, as do nearly all of its variant implementations. CPython is managed by the non-profit Python Software Foundation.\n"
     ]
    }
   ],
   "source": [
    "txt_filename = './files/python_wiki.txt'\n",
    "\n",
    "# 打开文件\n",
    "file_obj = open(txt_filename, 'r')\n",
    "\n",
    "lines = file_obj.readlines()\n",
    "\n",
    "for i, line in enumerate(lines):\n",
    "    print ('%i: %s' %(i, line))\n",
    "\n",
    "# 关闭文件\n",
    "file_obj.close()"
   ]
  },
  {
   "cell_type": "markdown",
   "metadata": {},
   "source": [
    "## 写操作"
   ]
  },
  {
   "cell_type": "code",
   "execution_count": 15,
   "metadata": {},
   "outputs": [],
   "source": [
    "txt_filename = './files/test_write.txt'\n",
    "\n",
    "# 打开文件\n",
    "file_obj = open(txt_filename, 'w')\n",
    "\n",
    "# 写入全部内容\n",
    "file_obj.write(\"《Python数据分析》\")\n",
    "file_obj.close()\n"
   ]
  },
  {
   "cell_type": "code",
   "execution_count": 3,
   "metadata": {},
   "outputs": [],
   "source": [
    "txt_filename = './files/test_write.txt'\n",
    "\n",
    "# 打开文件\n",
    "file_obj = open(txt_filename, 'w')\n",
    "\n",
    "# 写入字符串列表\n",
    "lines = ['这是第%i行\\n' %n for n in range(10)]\n",
    "file_obj.writelines(lines)\n",
    "file_obj.close()"
   ]
  },
  {
   "cell_type": "markdown",
   "metadata": {},
   "source": [
    "## with语句"
   ]
  },
  {
   "cell_type": "code",
   "execution_count": 4,
   "metadata": {},
   "outputs": [
    {
     "name": "stdout",
     "output_type": "stream",
     "text": [
      "这是第0行\n",
      "这是第1行\n",
      "这是第2行\n",
      "这是第3行\n",
      "这是第4行\n",
      "这是第5行\n",
      "这是第6行\n",
      "这是第7行\n",
      "这是第8行\n",
      "这是第9行\n",
      "\n"
     ]
    }
   ],
   "source": [
    "txt_filename = './files/test_write.txt'\n",
    "with open(txt_filename, 'r') as f_obj:\n",
    "    print (f_obj.read())\n"
   ]
  },
  {
   "cell_type": "markdown",
   "metadata": {},
   "source": [
    "# CSV文件操作"
   ]
  },
  {
   "cell_type": "markdown",
   "metadata": {},
   "source": [
    "## pandas读CSV"
   ]
  },
  {
   "cell_type": "code",
   "execution_count": 8,
   "metadata": {},
   "outputs": [
    {
     "name": "stdout",
     "output_type": "stream",
     "text": [
      "<class 'pandas.core.frame.DataFrame'>\n",
      "   cycle        type   startdate\n",
      "0   2016  polls-plus  10/25/2016\n",
      "1   2016  polls-plus  10/27/2016\n",
      "2   2016  polls-plus  10/27/2016\n",
      "3   2016  polls-plus  10/20/2016\n",
      "4   2016  polls-plus  10/20/2016\n"
     ]
    }
   ],
   "source": [
    "import pandas as pd\n",
    "\n",
    "filename = './files/presidential_polls.csv'\n",
    "df = pd.read_csv(filename, usecols=['cycle', 'type', 'startdate'])#导入指定列\n",
    "\n",
    "print (type(df))\n",
    "print (df.head())"
   ]
  },
  {
   "cell_type": "code",
   "execution_count": 3,
   "metadata": {},
   "outputs": [
    {
     "name": "stdout",
     "output_type": "stream",
     "text": [
      "<class 'pandas.core.series.Series'>\n",
      "0    2016\n",
      "1    2016\n",
      "2    2016\n",
      "3    2016\n",
      "4    2016\n",
      "Name: cycle, dtype: int64\n"
     ]
    }
   ],
   "source": [
    "#引用指定的列\n",
    "cycle_se = df['cycle']\n",
    "print (type(cycle_se))\n",
    "print (cycle_se.head())"
   ]
  },
  {
   "cell_type": "code",
   "execution_count": 4,
   "metadata": {},
   "outputs": [
    {
     "name": "stdout",
     "output_type": "stream",
     "text": [
      "                cycle        type   startdate\n",
      "state    grade                               \n",
      "U.S.     B       2016  polls-plus  10/25/2016\n",
      "         A+      2016  polls-plus  10/27/2016\n",
      "Virginia A+      2016  polls-plus  10/27/2016\n",
      "Florida  A       2016  polls-plus  10/20/2016\n",
      "U.S.     B+      2016  polls-plus  10/20/2016\n"
     ]
    }
   ],
   "source": [
    "filename = './files/presidential_polls.csv'\n",
    "df1 = pd.read_csv(filename,usecols=['cycle', 'type', 'startdate','state','grade'],index_col = ['state','grade'])\n",
    "#多层索引成dataframe类型\n",
    "print(df1.head())"
   ]
  },
  {
   "cell_type": "code",
   "execution_count": 6,
   "metadata": {},
   "outputs": [
    {
     "name": "stdout",
     "output_type": "stream",
     "text": [
      "   cycle        type         state   startdate grade\n",
      "0   2016  polls-plus       Florida  10/20/2016     A\n",
      "1   2016  polls-plus          U.S.  10/20/2016    B+\n",
      "2   2016  polls-plus          U.S.  10/22/2016     A\n",
      "3   2016  polls-plus          U.S.  10/26/2016    A-\n",
      "4   2016  polls-plus  Pennsylvania  10/25/2016    B-\n"
     ]
    }
   ],
   "source": [
    "filename = './files/presidential_polls.csv'\n",
    "df2 = pd.read_csv(filename,usecols=['cycle', 'type', 'startdate','state','grade'],skiprows=[1, 2, 3])\n",
    "#跳过指定的行\n",
    "print(df2.head())"
   ]
  },
  {
   "cell_type": "markdown",
   "metadata": {},
   "source": [
    "## pandas写CSV"
   ]
  },
  {
   "cell_type": "markdown",
   "metadata": {},
   "source": [
    "##### ·to_csv里面的index参数作用？===可能是不要索引的意思。"
   ]
  },
  {
   "cell_type": "code",
   "execution_count": 9,
   "metadata": {},
   "outputs": [],
   "source": [
    "filename = './files/pandas_output.csv'\n",
    "#df.to_csv(filename)\n",
    "df.to_csv(filename, index=None)"
   ]
  },
  {
   "cell_type": "markdown",
   "metadata": {},
   "source": [
    "# JSON文件操作"
   ]
  },
  {
   "cell_type": "markdown",
   "metadata": {},
   "source": [
    "## json读操作"
   ]
  },
  {
   "cell_type": "code",
   "execution_count": 11,
   "metadata": {},
   "outputs": [
    {
     "name": "stdout",
     "output_type": "stream",
     "text": [
      "<class 'dict'>\n"
     ]
    }
   ],
   "source": [
    "import json\n",
    "\n",
    "filename = './files/global_temperature.json'\n",
    "with open(filename, 'r') as f_obj:\n",
    "    json_data = json.load(f_obj)\n",
    "\n",
    "# 返回值是dict类型\n",
    "print (type(json_data))"
   ]
  },
  {
   "cell_type": "code",
   "execution_count": 12,
   "metadata": {},
   "outputs": [
    {
     "name": "stdout",
     "output_type": "stream",
     "text": [
      "dict_keys(['description', 'data'])\n"
     ]
    }
   ],
   "source": [
    "print (json_data.keys())"
   ]
  },
  {
   "cell_type": "markdown",
   "metadata": {},
   "source": [
    "## json转CSV"
   ]
  },
  {
   "cell_type": "code",
   "execution_count": 13,
   "metadata": {},
   "outputs": [
    {
     "name": "stdout",
     "output_type": "stream",
     "text": [
      "dict_values(['-0.1247', '-0.0707', '-0.0710', '-0.1481', '-0.2099', '-0.2220', '-0.2101', '-0.2559', '-0.1541', '-0.1032', '-0.3233', '-0.2552', '-0.3079', '-0.3221', '-0.2828', '-0.2279', '-0.0971', '-0.1232', '-0.2578', '-0.1172', '-0.0704', '-0.1471', '-0.2535', '-0.3442', '-0.4240', '-0.2967', '-0.2208', '-0.3767', '-0.4441', '-0.4332', '-0.3862', '-0.4367', '-0.3318', '-0.3205', '-0.1444', '-0.0747', '-0.2979', '-0.3193', '-0.2118', '-0.2082', '-0.2152', '-0.1517', '-0.2318', '-0.2161', '-0.2510', '-0.1464', '-0.0618', '-0.1506', '-0.1749', '-0.2982', '-0.1016', '-0.0714', '-0.1214', '-0.2481', '-0.1075', '-0.1445', '-0.1173', '-0.0204', '-0.0318', '-0.0157', '0.0927', '0.1974', '0.1549', '0.1598', '0.2948', '0.1754', '-0.0013', '-0.0455', '-0.0471', '-0.0550', '-0.1579', '-0.0095', '0.0288', '0.0997', '-0.1118', '-0.1305', '-0.1945', '0.0538', '0.1145', '0.0640', '0.0252', '0.0818', '0.0924', '0.1100', '-0.1461', '-0.0752', '-0.0204', '-0.0112', '-0.0282', '0.0937', '0.0383', '-0.0775', '0.0280', '0.1654', '-0.0698', '0.0060', '-0.0769', '0.1996', '0.1139', '0.2288', '0.2651', '0.3024', '0.1836', '0.3429', '0.1510', '0.1357', '0.2308', '0.3710', '0.3770', '0.2982', '0.4350', '0.4079', '0.2583', '0.2857', '0.3420', '0.4593', '0.3225', '0.5185', '0.6335', '0.4427', '0.4255', '0.5455', '0.6018', '0.6145', '0.5806', '0.6583', '0.6139', '0.6113', '0.5415', '0.6354', '0.7008', '0.5759', '0.6219', '0.6687', '0.7402', '0.8990'])\n"
     ]
    }
   ],
   "source": [
    "#print json_data['data'].keys()\n",
    "print (json_data['data'].values())"
   ]
  },
  {
   "cell_type": "code",
   "execution_count": 14,
   "metadata": {},
   "outputs": [
    {
     "name": "stdout",
     "output_type": "stream",
     "text": [
      "[1880, 1881, 1882, 1883, 1884, 1885, 1886, 1887, 1888, 1889, 1890, 1891, 1892, 1893, 1894, 1895, 1896, 1897, 1898, 1899, 1900, 1901, 1902, 1903, 1904, 1905, 1906, 1907, 1908, 1909, 1910, 1911, 1912, 1913, 1914, 1915, 1916, 1917, 1918, 1919, 1920, 1921, 1922, 1923, 1924, 1925, 1926, 1927, 1928, 1929, 1930, 1931, 1932, 1933, 1934, 1935, 1936, 1937, 1938, 1939, 1940, 1941, 1942, 1943, 1944, 1945, 1946, 1947, 1948, 1949, 1950, 1951, 1952, 1953, 1954, 1955, 1956, 1957, 1958, 1959, 1960, 1961, 1962, 1963, 1964, 1965, 1966, 1967, 1968, 1969, 1970, 1971, 1972, 1973, 1974, 1975, 1976, 1977, 1978, 1979, 1980, 1981, 1982, 1983, 1984, 1985, 1986, 1987, 1988, 1989, 1990, 1991, 1992, 1993, 1994, 1995, 1996, 1997, 1998, 1999, 2000, 2001, 2002, 2003, 2004, 2005, 2006, 2007, 2008, 2009, 2010, 2011, 2012, 2013, 2014, 2015]\n"
     ]
    }
   ],
   "source": [
    "# 转换key\n",
    "year_str_lst = json_data['data'].keys()\n",
    "year_lst = [int(year_str) for year_str in year_str_lst]\n",
    "print (year_lst)"
   ]
  },
  {
   "cell_type": "code",
   "execution_count": 15,
   "metadata": {},
   "outputs": [
    {
     "name": "stdout",
     "output_type": "stream",
     "text": [
      "[-0.1247, -0.0707, -0.071, -0.1481, -0.2099, -0.222, -0.2101, -0.2559, -0.1541, -0.1032, -0.3233, -0.2552, -0.3079, -0.3221, -0.2828, -0.2279, -0.0971, -0.1232, -0.2578, -0.1172, -0.0704, -0.1471, -0.2535, -0.3442, -0.424, -0.2967, -0.2208, -0.3767, -0.4441, -0.4332, -0.3862, -0.4367, -0.3318, -0.3205, -0.1444, -0.0747, -0.2979, -0.3193, -0.2118, -0.2082, -0.2152, -0.1517, -0.2318, -0.2161, -0.251, -0.1464, -0.0618, -0.1506, -0.1749, -0.2982, -0.1016, -0.0714, -0.1214, -0.2481, -0.1075, -0.1445, -0.1173, -0.0204, -0.0318, -0.0157, 0.0927, 0.1974, 0.1549, 0.1598, 0.2948, 0.1754, -0.0013, -0.0455, -0.0471, -0.055, -0.1579, -0.0095, 0.0288, 0.0997, -0.1118, -0.1305, -0.1945, 0.0538, 0.1145, 0.064, 0.0252, 0.0818, 0.0924, 0.11, -0.1461, -0.0752, -0.0204, -0.0112, -0.0282, 0.0937, 0.0383, -0.0775, 0.028, 0.1654, -0.0698, 0.006, -0.0769, 0.1996, 0.1139, 0.2288, 0.2651, 0.3024, 0.1836, 0.3429, 0.151, 0.1357, 0.2308, 0.371, 0.377, 0.2982, 0.435, 0.4079, 0.2583, 0.2857, 0.342, 0.4593, 0.3225, 0.5185, 0.6335, 0.4427, 0.4255, 0.5455, 0.6018, 0.6145, 0.5806, 0.6583, 0.6139, 0.6113, 0.5415, 0.6354, 0.7008, 0.5759, 0.6219, 0.6687, 0.7402, 0.899]\n"
     ]
    }
   ],
   "source": [
    "# 转换value\n",
    "temp_str_lst = json_data['data'].values()\n",
    "temp_lst = [float(temp_str) for temp_str in temp_str_lst]\n",
    "print (temp_lst)"
   ]
  },
  {
   "cell_type": "code",
   "execution_count": 16,
   "metadata": {},
   "outputs": [
    {
     "name": "stdout",
     "output_type": "stream",
     "text": [
      "   year  temperature\n",
      "0  1880      -0.1247\n",
      "1  1881      -0.0707\n",
      "2  1882      -0.0710\n",
      "3  1883      -0.1481\n",
      "4  1884      -0.2099\n"
     ]
    }
   ],
   "source": [
    "import pandas as pd\n",
    "\n",
    "# 构建 dataframe\n",
    "year_se = pd.Series(year_lst, name = 'year')\n",
    "temp_se = pd.Series(temp_lst, name = 'temperature')\n",
    "result_df = pd.concat([year_se, temp_se], axis = 1)\n",
    "print (result_df.head())\n",
    "\n",
    "# 保存csv\n",
    "result_df.to_csv('./files/json_to_csv.csv', index = None)"
   ]
  },
  {
   "cell_type": "markdown",
   "metadata": {},
   "source": [
    "## 写json操作"
   ]
  },
  {
   "cell_type": "code",
   "execution_count": 18,
   "metadata": {},
   "outputs": [],
   "source": [
    "book_dict = [{'书名':'无声告白', '作者':'伍绮诗'}, {'书名':'我不是潘金莲', '作者':'刘震云'}, {'书名':'沉默的大多数 (王小波集)', '作者':'王小波'}]\n",
    "\n",
    "filename = './files/json_output.json'\n",
    "with open(filename, 'w') as f_obj:\n",
    "    f_obj.write(json.dumps(book_dict, ensure_ascii=False))\n",
    "# 不需要加, encoding='utf-8'参数"
   ]
  },
  {
   "cell_type": "markdown",
   "metadata": {},
   "source": [
    "# SQLite基本操作"
   ]
  },
  {
   "cell_type": "markdown",
   "metadata": {},
   "source": [
    "## 连接数据库"
   ]
  },
  {
   "cell_type": "code",
   "execution_count": 19,
   "metadata": {},
   "outputs": [],
   "source": [
    "import sqlite3\n",
    "\n",
    "db_path = './files/test.sqlite'\n",
    "\n",
    "conn = sqlite3.connect(db_path)\n",
    "cur = conn.cursor()\n",
    "conn.text_factory = str  # 处理中文"
   ]
  },
  {
   "cell_type": "markdown",
   "metadata": {},
   "source": [
    "## 获取基本信息"
   ]
  },
  {
   "cell_type": "code",
   "execution_count": 22,
   "metadata": {},
   "outputs": [
    {
     "name": "stdout",
     "output_type": "stream",
     "text": [
      "SQLite版本：3.30.0\n"
     ]
    }
   ],
   "source": [
    "cur.execute('SELECT SQLITE_VERSION()')\n",
    "\n",
    "print ('SQLite版本：%s' %str(cur.fetchone()[0]))"
   ]
  },
  {
   "cell_type": "markdown",
   "metadata": {},
   "source": [
    "## 逐条插入数据"
   ]
  },
  {
   "cell_type": "code",
   "execution_count": 23,
   "metadata": {},
   "outputs": [
    {
     "data": {
      "text/plain": [
       "<sqlite3.Cursor at 0x2d2d64e7c00>"
      ]
     },
     "execution_count": 23,
     "metadata": {},
     "output_type": "execute_result"
    }
   ],
   "source": [
    "cur.execute(\"DROP TABLE IF EXISTS book\")\n",
    "cur.execute(\"CREATE TABLE book(id INT, name TEXT, price DOUBLE)\")\n",
    "cur.execute(\"INSERT INTO book VALUES(1,'肖秀荣考研书系列:肖秀荣(2017)考研政治命题人终极预测4套卷',14.40)\")\n",
    "cur.execute(\"INSERT INTO book VALUES(2,'法医秦明作品集:幸存者+清道夫+尸语者+无声的证词+第十一根手指(套装共5册) (两种封面随机发货)',100.00)\")\n",
    "cur.execute(\"INSERT INTO book VALUES(3,'活着本来单纯:丰子恺散文漫画精品集(收藏本)',30.90)\")\n",
    "cur.execute(\"INSERT INTO book VALUES(4,'自在独行:贾平凹的独行世界',26.80)\")\n",
    "cur.execute(\"INSERT INTO book VALUES(5,'当你的才华还撑不起你的梦想时',23.00)\")\n",
    "cur.execute(\"INSERT INTO book VALUES(6,'巨人的陨落(套装共3册)',84.90)\")\n",
    "cur.execute(\"INSERT INTO book VALUES(7,'孤独深处(收录雨果奖获奖作品《北京折叠》)',21.90)\")\n",
    "cur.execute(\"INSERT INTO book VALUES(8,'世界知名企业员工指定培训教材:所谓情商高,就是会说话',22.00)\")"
   ]
  },
  {
   "cell_type": "markdown",
   "metadata": {},
   "source": [
    "## 批量插入数据"
   ]
  },
  {
   "cell_type": "code",
   "execution_count": 24,
   "metadata": {},
   "outputs": [
    {
     "data": {
      "text/plain": [
       "<sqlite3.Cursor at 0x2d2d64e7c00>"
      ]
     },
     "execution_count": 24,
     "metadata": {},
     "output_type": "execute_result"
    }
   ],
   "source": [
    "books = (\n",
    "    (9, '人间草木', 30.00),\n",
    "    (10,'你的善良必须有点锋芒', 20.50),\n",
    "    (11, '这么慢,那么美', 24.80),\n",
    "    (12, '考拉小巫的英语学习日记:写给为梦想而奋斗的人(全新修订版)', 23.90)\n",
    ")\n",
    "cur.executemany(\"INSERT INTO book VALUES(?, ?, ?)\", books)"
   ]
  },
  {
   "cell_type": "code",
   "execution_count": 25,
   "metadata": {},
   "outputs": [],
   "source": [
    "conn.commit()"
   ]
  },
  {
   "cell_type": "markdown",
   "metadata": {},
   "source": [
    "## 查找数据"
   ]
  },
  {
   "cell_type": "code",
   "execution_count": 27,
   "metadata": {},
   "outputs": [
    {
     "name": "stdout",
     "output_type": "stream",
     "text": [
      "序号: 1, 书名: 肖秀荣考研书系列:肖秀荣(2017)考研政治命题人终极预测4套卷, 价格: 14.40\n",
      "序号: 2, 书名: 法医秦明作品集:幸存者+清道夫+尸语者+无声的证词+第十一根手指(套装共5册) (两种封面随机发货), 价格: 100.00\n",
      "序号: 3, 书名: 活着本来单纯:丰子恺散文漫画精品集(收藏本), 价格: 30.90\n",
      "序号: 4, 书名: 自在独行:贾平凹的独行世界, 价格: 26.80\n",
      "序号: 5, 书名: 当你的才华还撑不起你的梦想时, 价格: 23.00\n",
      "序号: 6, 书名: 巨人的陨落(套装共3册), 价格: 84.90\n",
      "序号: 7, 书名: 孤独深处(收录雨果奖获奖作品《北京折叠》), 价格: 21.90\n",
      "序号: 8, 书名: 世界知名企业员工指定培训教材:所谓情商高,就是会说话, 价格: 22.00\n",
      "序号: 9, 书名: 人间草木, 价格: 30.00\n",
      "序号: 10, 书名: 你的善良必须有点锋芒, 价格: 20.50\n",
      "序号: 11, 书名: 这么慢,那么美, 价格: 24.80\n",
      "序号: 12, 书名: 考拉小巫的英语学习日记:写给为梦想而奋斗的人(全新修订版), 价格: 23.90\n"
     ]
    }
   ],
   "source": [
    "cur.execute('SELECT * FROM book')\n",
    "rows = cur.fetchall()\n",
    "\n",
    "# 通过索引号访问\n",
    "for row in rows:\n",
    "    print ('序号: %i, 书名: %s, 价格: %.2f' %(row[0], row[1], row[2]))"
   ]
  },
  {
   "cell_type": "code",
   "execution_count": 28,
   "metadata": {},
   "outputs": [
    {
     "name": "stdout",
     "output_type": "stream",
     "text": [
      "序号: 1, 书名: 肖秀荣考研书系列:肖秀荣(2017)考研政治命题人终极预测4套卷, 价格: 14.40\n",
      "序号: 2, 书名: 法医秦明作品集:幸存者+清道夫+尸语者+无声的证词+第十一根手指(套装共5册) (两种封面随机发货), 价格: 100.00\n",
      "序号: 3, 书名: 活着本来单纯:丰子恺散文漫画精品集(收藏本), 价格: 30.90\n",
      "序号: 4, 书名: 自在独行:贾平凹的独行世界, 价格: 26.80\n",
      "序号: 5, 书名: 当你的才华还撑不起你的梦想时, 价格: 23.00\n",
      "序号: 6, 书名: 巨人的陨落(套装共3册), 价格: 84.90\n",
      "序号: 7, 书名: 孤独深处(收录雨果奖获奖作品《北京折叠》), 价格: 21.90\n",
      "序号: 8, 书名: 世界知名企业员工指定培训教材:所谓情商高,就是会说话, 价格: 22.00\n",
      "序号: 9, 书名: 人间草木, 价格: 30.00\n",
      "序号: 10, 书名: 你的善良必须有点锋芒, 价格: 20.50\n",
      "序号: 11, 书名: 这么慢,那么美, 价格: 24.80\n",
      "序号: 12, 书名: 考拉小巫的英语学习日记:写给为梦想而奋斗的人(全新修订版), 价格: 23.90\n"
     ]
    }
   ],
   "source": [
    "conn.row_factory = sqlite3.Row\n",
    "cur = conn.cursor() \n",
    "cur.execute('SELECT * FROM book')\n",
    "rows = cur.fetchall()\n",
    "\n",
    "# 通过列名访问\n",
    "for row in rows:\n",
    "    print ('序号: %i, 书名: %s, 价格: %.2f' %(row['id'], row['name'], row['price']))"
   ]
  },
  {
   "cell_type": "code",
   "execution_count": 29,
   "metadata": {},
   "outputs": [],
   "source": [
    "conn.close()"
   ]
  },
  {
   "cell_type": "markdown",
   "metadata": {},
   "source": [
    "# SQLite_json操作"
   ]
  },
  {
   "cell_type": "code",
   "execution_count": 31,
   "metadata": {},
   "outputs": [],
   "source": [
    "import sqlite3\n",
    "\n",
    "db_path = './files/test_join.sqlite'\n",
    "\n",
    "conn = sqlite3.connect(db_path)\n",
    "cur = conn.cursor()"
   ]
  },
  {
   "cell_type": "code",
   "execution_count": 32,
   "metadata": {},
   "outputs": [
    {
     "data": {
      "text/plain": [
       "<sqlite3.Cursor at 0x2d2d64f70a0>"
      ]
     },
     "execution_count": 32,
     "metadata": {},
     "output_type": "execute_result"
    }
   ],
   "source": [
    "# 建 depaetment 表，并插入数据\n",
    "cur.execute(\"DROP TABLE IF EXISTS department\")\n",
    "cur.execute(\"CREATE TABLE department(\\\n",
    "                id INT PRIMARY KEY NOT NULL, \\\n",
    "                dept CHAR(50) NOT NULL, \\\n",
    "                emp_id INT NOT NULL)\")\n",
    "depts = (\n",
    "        (1, 'IT Builing', 1),\n",
    "        (2, 'Engineerin', 2),\n",
    "        (3, 'Finance', 7)\n",
    ")\n",
    "cur.executemany(\"INSERT INTO department VALUES(?, ?, ?)\", depts)"
   ]
  },
  {
   "cell_type": "code",
   "execution_count": 33,
   "metadata": {},
   "outputs": [],
   "source": [
    "conn.commit()"
   ]
  },
  {
   "cell_type": "markdown",
   "metadata": {},
   "source": [
    "## CROSS JOIN 交叉连接"
   ]
  },
  {
   "cell_type": "code",
   "execution_count": 35,
   "metadata": {},
   "outputs": [],
   "source": [
    "cur.execute(\"SELECT emp_id, name, dept FROM company CROSS JOIN department;\")\n",
    "rows = cur.fetchall()\n",
    "for row in rows:\n",
    "    print (row)"
   ]
  },
  {
   "cell_type": "code",
   "execution_count": 36,
   "metadata": {},
   "outputs": [
    {
     "data": {
      "text/plain": [
       "<sqlite3.Cursor at 0x2d2d64f70a0>"
      ]
     },
     "execution_count": 36,
     "metadata": {},
     "output_type": "execute_result"
    }
   ],
   "source": [
    "# 建 company 表，并插入数据\n",
    "cur.execute(\"DROP TABLE IF EXISTS company\")\n",
    "cur.execute(\"CREATE TABLE company(\\\n",
    "                    id INT PRIMARY KEY NOT NULL, \\\n",
    "                    name CHAR(50) NOT NULL, \\\n",
    "                    age INT NOT NULL, \\\n",
    "                    address CHAR(50) NOT NULL,\\\n",
    "                    salary DOUBLE NOT NULL)\")\n",
    "companies = (\n",
    "        (1, 'Paul', 32, 'California', 20000.0),\n",
    "        (2, 'Allen', 25, 'Texas', 15000.0),\n",
    "        (3, 'Teddy', 23, 'Norway', 20000.0),\n",
    "        (4, 'Mark', 25, 'Rich-Mond', 65000.0),\n",
    "        (5, 'David', 27, 'Texas', 85000.0),\n",
    "        (6, 'Kim', 22, 'South-Hall', 45000.0),\n",
    "        (7, 'James', 24, 'Houston', 10000.0)\n",
    ")\n",
    "cur.executemany(\"INSERT INTO company VALUES (?, ?, ?, ?, ?)\", companies)"
   ]
  },
  {
   "cell_type": "markdown",
   "metadata": {},
   "source": [
    "## INNER JOIN 内连接"
   ]
  },
  {
   "cell_type": "code",
   "execution_count": 38,
   "metadata": {},
   "outputs": [
    {
     "name": "stdout",
     "output_type": "stream",
     "text": [
      "(1, 'Paul', 'IT Builing')\n",
      "(2, 'Allen', 'Engineerin')\n",
      "(7, 'James', 'Finance')\n"
     ]
    }
   ],
   "source": [
    "cur.execute(\"SELECT emp_id, name, dept FROM company INNER JOIN department \\\n",
    "            ON company.id = department.emp_id;\")\n",
    "rows = cur.fetchall()\n",
    "for row in rows:\n",
    "    print (row)"
   ]
  },
  {
   "cell_type": "markdown",
   "metadata": {},
   "source": [
    "## OUTER JOIN 外连接"
   ]
  },
  {
   "cell_type": "code",
   "execution_count": 40,
   "metadata": {},
   "outputs": [
    {
     "name": "stdout",
     "output_type": "stream",
     "text": [
      "(1, 'Paul', 'IT Builing')\n",
      "(2, 'Allen', 'Engineerin')\n",
      "(None, 'Teddy', None)\n",
      "(None, 'Mark', None)\n",
      "(None, 'David', None)\n",
      "(None, 'Kim', None)\n",
      "(7, 'James', 'Finance')\n"
     ]
    }
   ],
   "source": [
    "# 左连接\n",
    "cur.execute(\"SELECT emp_id, name, dept FROM company LEFT OUTER JOIN department \\\n",
    "            ON company.id = department.emp_id;\")\n",
    "rows = cur.fetchall()\n",
    "for row in rows:\n",
    "    print (row)"
   ]
  },
  {
   "cell_type": "code",
   "execution_count": 41,
   "metadata": {},
   "outputs": [
    {
     "ename": "OperationalError",
     "evalue": "RIGHT and FULL OUTER JOINs are not currently supported",
     "output_type": "error",
     "traceback": [
      "\u001b[1;31m---------------------------------------------------------------------------\u001b[0m",
      "\u001b[1;31mOperationalError\u001b[0m                          Traceback (most recent call last)",
      "\u001b[1;32m<ipython-input-41-ce0fc573748b>\u001b[0m in \u001b[0;36m<module>\u001b[1;34m\u001b[0m\n\u001b[0;32m      1\u001b[0m \u001b[1;31m# 右连接 （目前不支持）\u001b[0m\u001b[1;33m\u001b[0m\u001b[1;33m\u001b[0m\u001b[1;33m\u001b[0m\u001b[0m\n\u001b[0;32m      2\u001b[0m cur.execute(\"SELECT emp_id, name, dept FROM company RIGHT OUTER JOIN department \\\n\u001b[1;32m----> 3\u001b[1;33m             ON company.id = department.emp_id;\")\n\u001b[0m\u001b[0;32m      4\u001b[0m \u001b[0mrows\u001b[0m \u001b[1;33m=\u001b[0m \u001b[0mcur\u001b[0m\u001b[1;33m.\u001b[0m\u001b[0mfetchall\u001b[0m\u001b[1;33m(\u001b[0m\u001b[1;33m)\u001b[0m\u001b[1;33m\u001b[0m\u001b[1;33m\u001b[0m\u001b[0m\n\u001b[0;32m      5\u001b[0m \u001b[1;32mfor\u001b[0m \u001b[0mrow\u001b[0m \u001b[1;32min\u001b[0m \u001b[0mrows\u001b[0m\u001b[1;33m:\u001b[0m\u001b[1;33m\u001b[0m\u001b[1;33m\u001b[0m\u001b[0m\n",
      "\u001b[1;31mOperationalError\u001b[0m: RIGHT and FULL OUTER JOINs are not currently supported"
     ]
    }
   ],
   "source": [
    "# 右连接 （目前不支持）\n",
    "cur.execute(\"SELECT emp_id, name, dept FROM company RIGHT OUTER JOIN department \\\n",
    "            ON company.id = department.emp_id;\")\n",
    "rows = cur.fetchall()\n",
    "for row in rows:\n",
    "    print (row)"
   ]
  },
  {
   "cell_type": "code",
   "execution_count": 42,
   "metadata": {},
   "outputs": [
    {
     "name": "stdout",
     "output_type": "stream",
     "text": [
      "(1, 'Paul', 'IT Builing')\n",
      "(2, 'Allen', 'Engineerin')\n",
      "(7, 'James', 'Finance')\n"
     ]
    }
   ],
   "source": [
    "# 右连接，交换两张表\n",
    "cur.execute(\"SELECT emp_id, name, dept FROM department LEFT OUTER JOIN company \\\n",
    "            ON company.id = department.emp_id;\")\n",
    "rows = cur.fetchall()\n",
    "for row in rows:\n",
    "    print (row)"
   ]
  },
  {
   "cell_type": "code",
   "execution_count": 43,
   "metadata": {},
   "outputs": [
    {
     "ename": "SyntaxError",
     "evalue": "invalid syntax (<ipython-input-43-a0833b733075>, line 1)",
     "output_type": "error",
     "traceback": [
      "\u001b[1;36m  File \u001b[1;32m\"<ipython-input-43-a0833b733075>\"\u001b[1;36m, line \u001b[1;32m1\u001b[0m\n\u001b[1;33m    sqlite> SELECT EMP_ID, NAME, DEPT FROM COMPANY LEFT OUTER JOIN DEPARTMENT\u001b[0m\n\u001b[1;37m                        ^\u001b[0m\n\u001b[1;31mSyntaxError\u001b[0m\u001b[1;31m:\u001b[0m invalid syntax\n"
     ]
    }
   ],
   "source": [
    "sqlite> SELECT EMP_ID, NAME, DEPT FROM COMPANY LEFT OUTER JOIN DEPARTMENT\n",
    "      ON COMPANY.ID = DEPARTMENT.EMP_ID;"
   ]
  },
  {
   "cell_type": "code",
   "execution_count": null,
   "metadata": {},
   "outputs": [],
   "source": []
  }
 ],
 "metadata": {
  "anaconda-cloud": {},
  "kernelspec": {
   "display_name": "Python 3",
   "language": "python",
   "name": "python3"
  },
  "language_info": {
   "codemirror_mode": {
    "name": "ipython",
    "version": 3
   },
   "file_extension": ".py",
   "mimetype": "text/x-python",
   "name": "python",
   "nbconvert_exporter": "python",
   "pygments_lexer": "ipython3",
   "version": "3.7.4"
  },
  "toc": {
   "base_numbering": 1,
   "nav_menu": {},
   "number_sections": true,
   "sideBar": true,
   "skip_h1_title": false,
   "title_cell": "Table of Contents",
   "title_sidebar": "Contents",
   "toc_cell": false,
   "toc_position": {},
   "toc_section_display": true,
   "toc_window_display": true
  },
  "varInspector": {
   "cols": {
    "lenName": 16,
    "lenType": 16,
    "lenVar": 40
   },
   "kernels_config": {
    "python": {
     "delete_cmd_postfix": "",
     "delete_cmd_prefix": "del ",
     "library": "var_list.py",
     "varRefreshCmd": "print(var_dic_list())"
    },
    "r": {
     "delete_cmd_postfix": ") ",
     "delete_cmd_prefix": "rm(",
     "library": "var_list.r",
     "varRefreshCmd": "cat(var_dic_list()) "
    }
   },
   "types_to_exclude": [
    "module",
    "function",
    "builtin_function_or_method",
    "instance",
    "_Feature"
   ],
   "window_display": false
  }
 },
 "nbformat": 4,
 "nbformat_minor": 1
}
