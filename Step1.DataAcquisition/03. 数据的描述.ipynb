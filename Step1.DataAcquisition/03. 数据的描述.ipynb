{
 "cells": [
  {
   "cell_type": "code",
   "execution_count": 1,
   "metadata": {},
   "outputs": [],
   "source": [
    "import numpy as np\n",
    "import pandas as pd"
   ]
  },
  {
   "cell_type": "markdown",
   "metadata": {},
   "source": [
    "# 数据预览tail（）和head（）"
   ]
  },
  {
   "cell_type": "code",
   "execution_count": 2,
   "metadata": {},
   "outputs": [
    {
     "name": "stdout",
     "output_type": "stream",
     "text": [
      "          a         b         c         d\n",
      "0 -0.495242 -0.766980 -1.503714 -1.126006\n",
      "1  1.230048  0.316447  2.099542 -2.202615\n",
      "2  0.432719  1.091867 -0.543965  0.126511\n",
      "3 -1.240267 -2.356152  0.877556 -0.275173\n",
      "4  1.150737  1.347802 -0.184266 -0.228699\n",
      "          a         b         c         d\n",
      "0 -0.495242 -0.766980 -1.503714 -1.126006\n",
      "1  1.230048  0.316447  2.099542 -2.202615\n",
      "2  0.432719  1.091867 -0.543965  0.126511\n",
      "3 -1.240267 -2.356152  0.877556 -0.275173\n",
      "4  1.150737  1.347802 -0.184266 -0.228699\n"
     ]
    }
   ],
   "source": [
    "df_obj = pd.DataFrame(np.random.randn(5,4), columns = ['a', 'b', 'c', 'd'])\n",
    "print(df_obj.tail())# 数据预览尾巴\n",
    "print(df_obj.head())# 数据预览头部"
   ]
  },
  {
   "cell_type": "markdown",
   "metadata": {},
   "source": [
    "# 描述性数据info"
   ]
  },
  {
   "cell_type": "code",
   "execution_count": 3,
   "metadata": {},
   "outputs": [
    {
     "name": "stdout",
     "output_type": "stream",
     "text": [
      "数据集有5行，4列\n"
     ]
    }
   ],
   "source": [
    "print ('数据集有%i行，%i列' %(df_obj.shape[0], df_obj.shape[1]))"
   ]
  },
  {
   "cell_type": "code",
   "execution_count": 4,
   "metadata": {},
   "outputs": [
    {
     "name": "stdout",
     "output_type": "stream",
     "text": [
      "<class 'pandas.core.frame.DataFrame'>\n",
      "RangeIndex: 5 entries, 0 to 4\n",
      "Data columns (total 4 columns):\n",
      "a    5 non-null float64\n",
      "b    5 non-null float64\n",
      "c    5 non-null float64\n",
      "d    5 non-null float64\n",
      "dtypes: float64(4)\n",
      "memory usage: 288.0 bytes\n",
      "None\n"
     ]
    }
   ],
   "source": [
    "print(df_obj.info())"
   ]
  },
  {
   "cell_type": "markdown",
   "metadata": {},
   "source": [
    "# 统计性数据describe"
   ]
  },
  {
   "cell_type": "code",
   "execution_count": 5,
   "metadata": {},
   "outputs": [
    {
     "name": "stdout",
     "output_type": "stream",
     "text": [
      "              a         b         c         d\n",
      "count  5.000000  5.000000  5.000000  5.000000\n",
      "mean   0.215599 -0.073403  0.149031 -0.741196\n",
      "std    1.069530  1.518359  1.383667  0.937626\n",
      "min   -1.240267 -2.356152 -1.503714 -2.202615\n",
      "25%   -0.495242 -0.766980 -0.543965 -1.126006\n",
      "50%    0.432719  0.316447 -0.184266 -0.275173\n",
      "75%    1.150737  1.091867  0.877556 -0.228699\n",
      "max    1.230048  1.347802  2.099542  0.126511\n"
     ]
    }
   ],
   "source": [
    "print(df_obj.describe())"
   ]
  },
  {
   "cell_type": "code",
   "execution_count": null,
   "metadata": {},
   "outputs": [],
   "source": []
  }
 ],
 "metadata": {
  "kernelspec": {
   "display_name": "Python 3",
   "language": "python",
   "name": "python3"
  },
  "language_info": {
   "codemirror_mode": {
    "name": "ipython",
    "version": 3
   },
   "file_extension": ".py",
   "mimetype": "text/x-python",
   "name": "python",
   "nbconvert_exporter": "python",
   "pygments_lexer": "ipython3",
   "version": "3.7.4"
  },
  "toc": {
   "base_numbering": 1,
   "nav_menu": {},
   "number_sections": true,
   "sideBar": true,
   "skip_h1_title": false,
   "title_cell": "Table of Contents",
   "title_sidebar": "Contents",
   "toc_cell": false,
   "toc_position": {},
   "toc_section_display": true,
   "toc_window_display": true
  },
  "varInspector": {
   "cols": {
    "lenName": 16,
    "lenType": 16,
    "lenVar": 40
   },
   "kernels_config": {
    "python": {
     "delete_cmd_postfix": "",
     "delete_cmd_prefix": "del ",
     "library": "var_list.py",
     "varRefreshCmd": "print(var_dic_list())"
    },
    "r": {
     "delete_cmd_postfix": ") ",
     "delete_cmd_prefix": "rm(",
     "library": "var_list.r",
     "varRefreshCmd": "cat(var_dic_list()) "
    }
   },
   "types_to_exclude": [
    "module",
    "function",
    "builtin_function_or_method",
    "instance",
    "_Feature"
   ],
   "window_display": false
  }
 },
 "nbformat": 4,
 "nbformat_minor": 2
}
