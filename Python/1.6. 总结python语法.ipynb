{
 "cells": [
  {
   "cell_type": "markdown",
   "metadata": {},
   "source": [
    "# 知识1：Ipython的使用（交互式命令的使用）"
   ]
  },
  {
   "cell_type": "code",
   "execution_count": 3,
   "metadata": {},
   "outputs": [],
   "source": [
    "def output():\n",
    "    print('显示对象的信息')\n",
    "#output?\n",
    "#显示基本信息\n",
    "output??\n",
    "#显示多个信息"
   ]
  },
  {
   "cell_type": "code",
   "execution_count": 8,
   "metadata": {},
   "outputs": [
    {
     "name": "stdout",
     "output_type": "stream",
     "text": [
      "Wall time: 0 ns\n"
     ]
    },
    {
     "data": {
      "text/plain": [
       "<function __main__.output()>"
      ]
     },
     "execution_count": 8,
     "metadata": {},
     "output_type": "execute_result"
    }
   ],
   "source": [
    "#魔术命令的使用\n",
    "#%timeit output\n",
    "%time output"
   ]
  },
  {
   "cell_type": "markdown",
   "metadata": {},
   "source": [
    "# 知识2：python基础知识"
   ]
  },
  {
   "cell_type": "markdown",
   "metadata": {},
   "source": [
    "1.字符串格式化%"
   ]
  },
  {
   "cell_type": "code",
   "execution_count": 11,
   "metadata": {},
   "outputs": [
    {
     "name": "stdout",
     "output_type": "stream",
     "text": [
      "wuzutao--20--尼采般地抒情\n"
     ]
    }
   ],
   "source": [
    "print('%s--%d--%s'%('wuzutao',20,'尼采般地抒情'))\n",
    "#是一条语句；都在print里面"
   ]
  },
  {
   "cell_type": "markdown",
   "metadata": {},
   "source": [
    "2.强制性类型转换；类C"
   ]
  },
  {
   "cell_type": "code",
   "execution_count": 12,
   "metadata": {},
   "outputs": [
    {
     "name": "stdout",
     "output_type": "stream",
     "text": [
      "325353242\n",
      "325353242.35464436\n"
     ]
    }
   ],
   "source": [
    "message=325353242.3546443465656\n",
    "mes1=int(message)\n",
    "print(mes1)\n",
    "mes2=float(message)#小数点后八位\n",
    "print(mes2)"
   ]
  },
  {
   "cell_type": "markdown",
   "metadata": {},
   "source": [
    "3.时间和日期"
   ]
  },
  {
   "cell_type": "code",
   "execution_count": 13,
   "metadata": {},
   "outputs": [
    {
     "name": "stdout",
     "output_type": "stream",
     "text": [
      "2019 5 12\n"
     ]
    }
   ],
   "source": [
    "from datetime import datetime\n",
    "dt=datetime(2019,5,12,9,20)\n",
    "print(dt.year,dt.month,dt.day)"
   ]
  },
  {
   "cell_type": "code",
   "execution_count": 14,
   "metadata": {},
   "outputs": [
    {
     "data": {
      "text/plain": [
       "'2019/05/12 09:20'"
      ]
     },
     "execution_count": 14,
     "metadata": {},
     "output_type": "execute_result"
    }
   ],
   "source": [
    "dt.strftime('%Y/%m/%d %H:%M')\n",
    "#datetime格式转化为字符串"
   ]
  },
  {
   "cell_type": "code",
   "execution_count": 15,
   "metadata": {},
   "outputs": [
    {
     "data": {
      "text/plain": [
       "datetime.datetime(2016, 12, 3, 0, 0)"
      ]
     },
     "execution_count": 15,
     "metadata": {},
     "output_type": "execute_result"
    }
   ],
   "source": [
    "datetime.strptime('20161203', '%Y%m%d')\n",
    "#字符串转化为datetime格式"
   ]
  },
  {
   "cell_type": "markdown",
   "metadata": {},
   "source": [
    "4.pass：相当于空函数"
   ]
  },
  {
   "cell_type": "markdown",
   "metadata": {},
   "source": [
    "5.异常的处理"
   ]
  },
  {
   "cell_type": "code",
   "execution_count": 18,
   "metadata": {},
   "outputs": [
    {
     "name": "stdout",
     "output_type": "stream",
     "text": [
      "4.0\n",
      "输入的信息有误！\n"
     ]
    }
   ],
   "source": [
    "def test(x,y):\n",
    "    try:\n",
    "        print(y/x)\n",
    "    except:\n",
    "        print('输入的信息有误！')\n",
    "test(2,8)\n",
    "test('e',8)"
   ]
  },
  {
   "cell_type": "markdown",
   "metadata": {},
   "source": [
    "6.range和arange的区别"
   ]
  },
  {
   "cell_type": "code",
   "execution_count": 6,
   "metadata": {},
   "outputs": [
    {
     "name": "stdout",
     "output_type": "stream",
     "text": [
      "range(2, 43, 3)\n"
     ]
    }
   ],
   "source": [
    "'''\n",
    "    有问题，和python的版本有关系，有差异。\n",
    "'''\n",
    "import random\n",
    "lst_88=range(2,43,3)\n",
    "print(lst_88)"
   ]
  },
  {
   "cell_type": "markdown",
   "metadata": {},
   "source": [
    "7.python中的对象传递和拷贝"
   ]
  },
  {
   "cell_type": "code",
   "execution_count": 16,
   "metadata": {},
   "outputs": [
    {
     "name": "stdout",
     "output_type": "stream",
     "text": [
      "a-id: 2171119139144\n",
      "b-id: 2171119139144\n",
      "c-id: 2171119848136\n",
      "d-id: 2171119140744\n",
      "processed...\n",
      "[[1, 2, 3], [4, 5, 10], 15]\n",
      "[[1, 2, 3], [4, 5, 10], 15]\n",
      "[[1, 2, 3], [4, 5, 10]]\n",
      "[[1, 2, 3], [4, 5, 6]]\n"
     ]
    }
   ],
   "source": [
    "#变量传递、列表传递和C类似\n",
    "\n",
    "#深拷贝和浅拷贝\n",
    "import copy\n",
    " \n",
    "a = [[1, 2, 3], [4, 5, 6]]\n",
    "b = a\n",
    "c = copy.copy(a)\n",
    "d = copy.deepcopy(a)\n",
    " \n",
    "print ('a-id:',id(a))#相当于内存里面的地址\n",
    "print ('b-id:',id(b))\n",
    "print ('c-id:',id(c))\n",
    "print ('d-id:',id(d))\n",
    "\n",
    "a.append(15)\n",
    "a[1][2] = 10\n",
    "\n",
    "print ('processed...')\n",
    "print (a)\n",
    "print (b)\n",
    "print (c)\n",
    "print (d)"
   ]
  },
  {
   "cell_type": "markdown",
   "metadata": {},
   "source": [
    "# 知识3：python常用数据结构"
   ]
  },
  {
   "cell_type": "markdown",
   "metadata": {},
   "source": [
    "1.元组"
   ]
  },
  {
   "cell_type": "code",
   "execution_count": 21,
   "metadata": {},
   "outputs": [
    {
     "name": "stdout",
     "output_type": "stream",
     "text": [
      "(1, 2, 3, 3)\n",
      "('H', 'e', 'l', 'l', 'o', ' ', 'C', 'h', 'i', 'n', 'a', 'H', 'a', 'd', 'o', 'o', 'p')\n"
     ]
    },
    {
     "data": {
      "text/plain": [
       "2"
      ]
     },
     "execution_count": 21,
     "metadata": {},
     "output_type": "execute_result"
    }
   ],
   "source": [
    "#转换为元组，list->tuple, string->tuple\n",
    "l = [1, 2, 3, 3]\n",
    "print (tuple(l))\n",
    "\n",
    "str = ('Hello ChinaHadoop')\n",
    "print (tuple(str))\n",
    "l.count(3)\n",
    "#计数器"
   ]
  },
  {
   "cell_type": "code",
   "execution_count": 28,
   "metadata": {},
   "outputs": [
    {
     "name": "stdout",
     "output_type": "stream",
     "text": [
      "(1, 2, 3)\n",
      "((1, 2, 3), (4, 5))\n"
     ]
    },
    {
     "data": {
      "text/plain": [
       "(1, 2, 3, (1, 2, 3), (4, 5))"
      ]
     },
     "execution_count": 28,
     "metadata": {},
     "output_type": "execute_result"
    }
   ],
   "source": [
    "tup1 = (1, 2, 3)\n",
    "print (tup1)\n",
    "\n",
    "# 嵌套元组\n",
    "tup2 = ((1, 2, 3), (4, 5))\n",
    "print (tup2)\n",
    "#合并元组\n",
    "tup1 + tup2"
   ]
  },
  {
   "cell_type": "code",
   "execution_count": 32,
   "metadata": {},
   "outputs": [
    {
     "name": "stdout",
     "output_type": "stream",
     "text": [
      "32\n"
     ]
    }
   ],
   "source": [
    "#拆包\n",
    "def test_1():\n",
    "    r=(2,4,5,32)\n",
    "    return r\n",
    "a, b, _, f=test_1()\n",
    "print(f)"
   ]
  },
  {
   "cell_type": "code",
   "execution_count": 1,
   "metadata": {},
   "outputs": [
    {
     "name": "stdout",
     "output_type": "stream",
     "text": [
      "3\n",
      "7\n",
      "11\n"
     ]
    }
   ],
   "source": [
    "# 元组列表迭代\n",
    "tuple_lst = [(1, 2), (3, 4), (5, 6)]\n",
    "for x, y in tuple_lst:\n",
    "    print (x+y)"
   ]
  },
  {
   "cell_type": "code",
   "execution_count": 2,
   "metadata": {},
   "outputs": [
    {
     "ename": "NameError",
     "evalue": "name 'tup3' is not defined",
     "output_type": "error",
     "traceback": [
      "\u001b[1;31m---------------------------------------------------------------------------\u001b[0m",
      "\u001b[1;31mNameError\u001b[0m                                 Traceback (most recent call last)",
      "\u001b[1;32m<ipython-input-2-ecdf9bf6a246>\u001b[0m in \u001b[0;36m<module>\u001b[1;34m\u001b[0m\n\u001b[1;32m----> 1\u001b[1;33m \u001b[0mtup3\u001b[0m\u001b[1;33m.\u001b[0m\u001b[0mcount\u001b[0m\u001b[1;33m(\u001b[0m\u001b[1;34m'o'\u001b[0m\u001b[1;33m)\u001b[0m\u001b[1;33m\u001b[0m\u001b[1;33m\u001b[0m\u001b[0m\n\u001b[0m",
      "\u001b[1;31mNameError\u001b[0m: name 'tup3' is not defined"
     ]
    }
   ],
   "source": [
    ".count('查询的对象')#计数器"
   ]
  },
  {
   "cell_type": "markdown",
   "metadata": {},
   "source": [
    "2.列表"
   ]
  },
  {
   "cell_type": "code",
   "execution_count": 3,
   "metadata": {},
   "outputs": [
    {
     "name": "stdout",
     "output_type": "stream",
     "text": [
      "[352, 2352, 3, 556, 'gew', 'f']\n",
      "[352, 2352, 3, 556, 'gew', 'f']\n"
     ]
    }
   ],
   "source": [
    "#合并列表\n",
    "lst_1=[352,2352,3,556]\n",
    "lst_2=['gew','f']\n",
    "lst_3 = lst_1 + lst_2\n",
    "print (lst_3)\n",
    "\n",
    "lst_1.extend(lst_2)\n",
    "print (lst_1)"
   ]
  },
  {
   "cell_type": "code",
   "execution_count": 13,
   "metadata": {},
   "outputs": [
    {
     "name": "stdout",
     "output_type": "stream",
     "text": [
      "[23, 54, 346, 222, 4, 1]\n",
      "None\n",
      "[1, 4, 23, 54, 222, 346]\n"
     ]
    }
   ],
   "source": [
    "#排序操作\n",
    "#.shuffle(list)函数在该版本下无效\n",
    "list_1=[23,54,346,222,4,1]\n",
    "print(list_1)\n",
    "print(list_1.sort())#查查版本\n",
    "print(sorted(list_1))\n",
    "'''sorted是新起的一个列表'''"
   ]
  },
  {
   "cell_type": "code",
   "execution_count": 14,
   "metadata": {},
   "outputs": [
    {
     "name": "stdout",
     "output_type": "stream",
     "text": [
      "['Analysis', 'Course', 'Data', 'Python', 'Welcome', 'to']\n",
      "['Analysis', 'Welcome', 'Course', 'Python', 'Data', 'to']\n"
     ]
    }
   ],
   "source": [
    "lst_6 = ['Welcome', 'to', 'Python', 'Data', 'Analysis', 'Course']\n",
    "lst_6.sort()\n",
    "print (lst_6)\n",
    "lst_6.sort(key = len, reverse=True)\n",
    "print (lst_6)"
   ]
  },
  {
   "cell_type": "markdown",
   "metadata": {},
   "source": [
    "3.常用的序列函数"
   ]
  },
  {
   "cell_type": "code",
   "execution_count": 15,
   "metadata": {},
   "outputs": [
    {
     "name": "stdout",
     "output_type": "stream",
     "text": [
      "0-Analysis\n",
      "1-Welcome\n",
      "2-Course\n",
      "3-Python\n",
      "4-Data\n",
      "5-to\n"
     ]
    }
   ],
   "source": [
    "'''3.1 enumerate函数'''\n",
    "list_11 = ['Welcome', 'to', 'Python', 'Data', 'Analysis', 'Course'] # (0, 'Welcome')\n",
    "for i, item in enumerate(lst_6):\n",
    "    print ('%i-%s' %(i, item))"
   ]
  },
  {
   "cell_type": "code",
   "execution_count": 17,
   "metadata": {
    "scrolled": true
   },
   "outputs": [
    {
     "name": "stdout",
     "output_type": "stream",
     "text": [
      "{0: 'Welcome', 1: 'to', 2: 'Python', 3: 'Data', 4: 'Analysis', 5: 'Course'}\n"
     ]
    }
   ],
   "source": [
    "str_dict = dict((i, item) for i, item in enumerate(list_11))\n",
    "print (str_dict)"
   ]
  },
  {
   "cell_type": "code",
   "execution_count": 24,
   "metadata": {},
   "outputs": [
    {
     "name": "stdout",
     "output_type": "stream",
     "text": [
      "('Welcome', 'a')\n",
      "('to', 'b')\n",
      "('Python', 'c')\n"
     ]
    }
   ],
   "source": [
    "'''3.2 ZIP压缩'''\n",
    "#python2和3当中有差异\n",
    "#lst_7 = range(5) #[0, 1, 2, 3, 4]\n",
    "lst_6 = ['Welcome', 'to', 'Python', 'Data', 'Analysis', 'Course']\n",
    "lst_8 = ['a', 'b', 'c']\n",
    "zip_lst = zip(lst_6, lst_8)\n",
    "print(list(zip_lst))\n",
    "#方式一：直接转化为列表\n",
    "print(dict(list(zip_lst)))\n",
    "#方式二：转化为字典\n",
    "for i in zip_lst:\n",
    "    print (i)\n",
    "#方式三：直接遍历"
   ]
  },
  {
   "cell_type": "code",
   "execution_count": 27,
   "metadata": {},
   "outputs": [
    {
     "ename": "SyntaxError",
     "evalue": "can't use starred expression here (<ipython-input-27-520328f66d38>, line 4)",
     "output_type": "error",
     "traceback": [
      "\u001b[1;36m  File \u001b[1;32m\"<ipython-input-27-520328f66d38>\"\u001b[1;36m, line \u001b[1;32m4\u001b[0m\n\u001b[1;31mSyntaxError\u001b[0m\u001b[1;31m:\u001b[0m can't use starred expression here\n"
     ]
    }
   ],
   "source": [
    "*zip_lst\n",
    "print(lst_6)"
   ]
  },
  {
   "cell_type": "code",
   "execution_count": 14,
   "metadata": {},
   "outputs": [],
   "source": [
    "#reversed逆序输出"
   ]
  },
  {
   "cell_type": "markdown",
   "metadata": {},
   "source": [
    "4.字典"
   ]
  },
  {
   "cell_type": "code",
   "execution_count": 15,
   "metadata": {},
   "outputs": [
    {
     "name": "stdout",
     "output_type": "stream",
     "text": [
      "{1: 'huhuhu', 4: 'new1', 5: 'news'}\n"
     ]
    }
   ],
   "source": [
    "#合并字典\n",
    "dict1 = {1:'huhuhu'}\n",
    "dict2 = {4: 'new1', 5: 'news'}\n",
    "dict1.update(dict2)\n",
    "print (dict1)"
   ]
  },
  {
   "cell_type": "code",
   "execution_count": 18,
   "metadata": {},
   "outputs": [
    {
     "name": "stdout",
     "output_type": "stream",
     "text": [
      "{32: 4, 543: 7, 6: 2, 2: 6, 7: 543, 4: 32}\n"
     ]
    }
   ],
   "source": [
    "#通过多个列表创建字典\n",
    "dict_3 = {}\n",
    "l1 = [32,543,6,2,7,4]\n",
    "l2 = reversed(l1)\n",
    "for i1, i2 in zip(l1, l2):\n",
    "    dict_3[i1] = i2\n",
    "print (dict_3)"
   ]
  },
  {
   "cell_type": "code",
   "execution_count": 19,
   "metadata": {},
   "outputs": [
    {
     "data": {
      "text/plain": [
       "'hash函数来判断某个对象是否可以做键'"
      ]
     },
     "execution_count": 19,
     "metadata": {},
     "output_type": "execute_result"
    }
   ],
   "source": [
    "'''hash函数来判断某个对象是否可以做键'''"
   ]
  },
  {
   "cell_type": "markdown",
   "metadata": {},
   "source": [
    "5.集合"
   ]
  },
  {
   "cell_type": "code",
   "execution_count": 25,
   "metadata": {},
   "outputs": [
    {
     "name": "stdout",
     "output_type": "stream",
     "text": [
      "{1, 3, 4, 35, 75, 2352}\n",
      "{24354, 3, 2352, 4332432, 54}\n"
     ]
    }
   ],
   "source": [
    "a1=[1,3,4,1,35,2352,75]\n",
    "b1=[3,2352,24354,4332432,54]\n",
    "a=set(a1)\n",
    "b=set(b1)\n",
    "print(a)\n",
    "print(b)"
   ]
  },
  {
   "cell_type": "code",
   "execution_count": 26,
   "metadata": {},
   "outputs": [
    {
     "data": {
      "text/plain": [
       "{1, 4, 35, 54, 75, 24354, 4332432}"
      ]
     },
     "execution_count": 26,
     "metadata": {},
     "output_type": "execute_result"
    }
   ],
   "source": [
    "a | b#并"
   ]
  },
  {
   "cell_type": "code",
   "execution_count": 27,
   "metadata": {},
   "outputs": [
    {
     "data": {
      "text/plain": [
       "{3, 2352}"
      ]
     },
     "execution_count": 27,
     "metadata": {},
     "output_type": "execute_result"
    }
   ],
   "source": [
    "a & b#交"
   ]
  },
  {
   "cell_type": "code",
   "execution_count": 30,
   "metadata": {},
   "outputs": [
    {
     "data": {
      "text/plain": [
       "{1, 4, 35, 75}"
      ]
     },
     "execution_count": 30,
     "metadata": {},
     "output_type": "execute_result"
    }
   ],
   "source": [
    "a - b#呃。。。"
   ]
  },
  {
   "cell_type": "code",
   "execution_count": 29,
   "metadata": {},
   "outputs": [
    {
     "data": {
      "text/plain": [
       "{1, 4, 35, 54, 75, 24354, 4332432}"
      ]
     },
     "execution_count": 29,
     "metadata": {},
     "output_type": "execute_result"
    }
   ],
   "source": [
    "a ^ b#呃。。。"
   ]
  },
  {
   "cell_type": "code",
   "execution_count": 31,
   "metadata": {},
   "outputs": [
    {
     "data": {
      "text/plain": [
       "False"
      ]
     },
     "execution_count": 31,
     "metadata": {},
     "output_type": "execute_result"
    }
   ],
   "source": [
    "a.issubset(b)#判断子集"
   ]
  },
  {
   "cell_type": "code",
   "execution_count": 32,
   "metadata": {},
   "outputs": [
    {
     "data": {
      "text/plain": [
       "False"
      ]
     },
     "execution_count": 32,
     "metadata": {},
     "output_type": "execute_result"
    }
   ],
   "source": [
    "a.issuperset(b)#判断父集"
   ]
  },
  {
   "cell_type": "markdown",
   "metadata": {},
   "source": [
    "\n",
    "# 知识4：python的高级特性"
   ]
  },
  {
   "cell_type": "markdown",
   "metadata": {},
   "source": [
    "1.集合，列表，字典推导式"
   ]
  },
  {
   "cell_type": "code",
   "execution_count": 34,
   "metadata": {},
   "outputs": [
    {
     "name": "stdout",
     "output_type": "stream",
     "text": [
      "['WELCOME', 'PYTHON', 'ANALYSIS', 'COURSE']\n"
     ]
    }
   ],
   "source": [
    "str_lst = ['Welcome', 'to', 'Python', 'Data', 'Analysis', 'Course']\n",
    "result = [x.upper() for x in str_lst if len(x) > 4]\n",
    "print (result)"
   ]
  },
  {
   "cell_type": "markdown",
   "metadata": {},
   "source": [
    "2.多函数模式"
   ]
  },
  {
   "cell_type": "code",
   "execution_count": 38,
   "metadata": {},
   "outputs": [
    {
     "name": "stdout",
     "output_type": "stream",
     "text": [
      "['1.123', '1123.454', '899.12312']\n"
     ]
    }
   ],
   "source": [
    "# 处理字符串\n",
    "str_lst = ['$1.123', ' $1123.454', '$899.12312']\n",
    "\n",
    "def remove_space(str):\n",
    "    \"\"\"\n",
    "        remove space\n",
    "    \"\"\"\n",
    "    str_no_space = str.replace(' ', '')\n",
    "    return str_no_space\n",
    "\n",
    "def remove_dollar(str):\n",
    "    \"\"\"\n",
    "        remove $\n",
    "    \"\"\"\n",
    "    if '$' in str:\n",
    "        return str.replace('$', '')\n",
    "    else:\n",
    "        return str\n",
    "\n",
    "def clean_str_lst(str_lst, operations):\n",
    "    \"\"\"\n",
    "        clean string list\n",
    "    \"\"\"\n",
    "    result = []\n",
    "    for item in str_lst:\n",
    "        for op in operations:\n",
    "            item = op(item)\n",
    "        result.append(item)\n",
    "    return result\n",
    "\n",
    "clean_operations = [remove_space, remove_dollar]\n",
    "result = clean_str_lst(str_lst, clean_operations)\n",
    "print (result)"
   ]
  },
  {
   "cell_type": "markdown",
   "metadata": {},
   "source": [
    "3.匿名函数"
   ]
  },
  {
   "cell_type": "code",
   "execution_count": 39,
   "metadata": {},
   "outputs": [
    {
     "name": "stdout",
     "output_type": "stream",
     "text": [
      "['to', 'Data', 'Python', 'Course', 'Welcome', 'Analysis']\n",
      "['Data', 'Course', 'Welcome', 'Python', 'to', 'Analysis']\n"
     ]
    }
   ],
   "source": [
    "str_lst = ['Welcome', 'to', 'Python', 'Data', 'Analysis', 'Course']\n",
    "str_lst.sort(key=lambda x:len(x)) # sort by length\n",
    "print (str_lst)\n",
    "\n",
    "str_lst.sort(key=lambda x:x[-1]) # sort by the last letter\n",
    "print (str_lst)"
   ]
  },
  {
   "cell_type": "markdown",
   "metadata": {},
   "source": [
    "4.迭代器"
   ]
  },
  {
   "cell_type": "code",
   "execution_count": 40,
   "metadata": {},
   "outputs": [
    {
     "name": "stdout",
     "output_type": "stream",
     "text": [
      "0\n",
      "1\n",
      "2\n"
     ]
    }
   ],
   "source": [
    "def gen_test():\n",
    "    for i in range(3):\n",
    "        yield i\n",
    "        \n",
    "gen = gen_test() #此时不执行生成器\n",
    "type(gen)\n",
    "for i in gen:\n",
    "    print(i)\n",
    "#用意何在呢？？！！"
   ]
  },
  {
   "cell_type": "markdown",
   "metadata": {},
   "source": [
    "# 知识5：python的高级函数"
   ]
  },
  {
   "cell_type": "markdown",
   "metadata": {},
   "source": [
    "1. 函数式编程"
   ]
  },
  {
   "cell_type": "code",
   "execution_count": 41,
   "metadata": {},
   "outputs": [
    {
     "name": "stdout",
     "output_type": "stream",
     "text": [
      "7.0\n",
      "29\n"
     ]
    }
   ],
   "source": [
    "#函数可以作为变量使用;也可以将函数作为参数使用\n",
    "import math\n",
    "def func_add(x, y, f):\n",
    "    \"\"\"\n",
    "        functional addition\n",
    "    \"\"\"\n",
    "    return f(x) + f(y)\n",
    "\n",
    "print (func_add(4, 25, math.sqrt))\n",
    "print (func_add(-4, 25, abs))"
   ]
  },
  {
   "cell_type": "markdown",
   "metadata": {},
   "source": [
    "2.map和reduce函数"
   ]
  },
  {
   "cell_type": "code",
   "execution_count": 44,
   "metadata": {},
   "outputs": [
    {
     "name": "stdout",
     "output_type": "stream",
     "text": [
      "[1, 16, 81]\n",
      "<map object at 0x000002145B2B77F0>\n"
     ]
    }
   ],
   "source": [
    "'''map函数'''\n",
    "list_1=[1,4,9]\n",
    "aaa = [x**2 for x in list_1]\n",
    "print (aaa)\n",
    "\n",
    "bbb = map(math.sqrt, aaa)\n",
    "print (bbb)"
   ]
  },
  {
   "cell_type": "markdown",
   "metadata": {},
   "source": [
    "3.filter"
   ]
  },
  {
   "cell_type": "code",
   "execution_count": 51,
   "metadata": {},
   "outputs": [
    {
     "name": "stdout",
     "output_type": "stream",
     "text": [
      "['韩非', '卫庄', '张良', '盖聂', '逆鳞']\n",
      "['逆鳞']\n"
     ]
    }
   ],
   "source": [
    "天行=['韩非','卫庄','张良','盖聂','逆鳞']\n",
    "def fx(x):\n",
    "    y=['逆鳞']\n",
    "    if x in y:\n",
    "        return x\n",
    "filtered_lst = filter(fx,天行)\n",
    "print(天行)\n",
    "print(list(filtered_lst))\n",
    "#注意python2和3的区别，很多时候要区别出来列表等序列，加上list很有必要"
   ]
  },
  {
   "cell_type": "code",
   "execution_count": null,
   "metadata": {},
   "outputs": [],
   "source": []
  }
 ],
 "metadata": {
  "kernelspec": {
   "display_name": "Python 3",
   "language": "python",
   "name": "python3"
  },
  "language_info": {
   "codemirror_mode": {
    "name": "ipython",
    "version": 3
   },
   "file_extension": ".py",
   "mimetype": "text/x-python",
   "name": "python",
   "nbconvert_exporter": "python",
   "pygments_lexer": "ipython3",
   "version": "3.7.3"
  }
 },
 "nbformat": 4,
 "nbformat_minor": 2
}
