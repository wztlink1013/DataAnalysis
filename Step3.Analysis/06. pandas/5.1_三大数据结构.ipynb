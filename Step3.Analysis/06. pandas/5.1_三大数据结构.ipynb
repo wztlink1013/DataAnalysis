{
 "cells": [
  {
   "cell_type": "markdown",
   "metadata": {},
   "source": [
    "# （一）、Pandas数据结构\n",
    "#### 目录：\n",
    "####     1.Series\n",
    "####     2.Dataframe：构建、操作、内置函数……\n",
    "####     3.索引对象index"
   ]
  },
  {
   "cell_type": "code",
   "execution_count": 1,
   "metadata": {},
   "outputs": [],
   "source": [
    "import pandas as pd"
   ]
  },
  {
   "cell_type": "markdown",
   "metadata": {},
   "source": [
    "### 1. Series"
   ]
  },
  {
   "cell_type": "code",
   "execution_count": 2,
   "metadata": {},
   "outputs": [
    {
     "name": "stdout",
     "output_type": "stream",
     "text": [
      "<class 'pandas.core.series.Series'>\n",
      "0    10\n",
      "1    12\n",
      "2    14\n",
      "3    16\n",
      "4    18\n",
      "dtype: int64\n"
     ]
    }
   ],
   "source": [
    "'''1. 通过list构建Series'''\n",
    "ser_obj = pd.Series(range(10, 20,2))\n",
    "print (type(ser_obj))\n",
    "print(ser_obj)"
   ]
  },
  {
   "cell_type": "code",
   "execution_count": 3,
   "metadata": {},
   "outputs": [
    {
     "name": "stdout",
     "output_type": "stream",
     "text": [
      "[10 12 14 16 18]\n",
      "RangeIndex(start=0, stop=5, step=1)\n",
      "0    10\n",
      "1    12\n",
      "2    14\n",
      "dtype: int64\n"
     ]
    }
   ],
   "source": [
    "# 获取数据\n",
    "print (ser_obj.values)\n",
    "\n",
    "# 获取索引\n",
    "print (ser_obj.index)\n",
    "#范围索引数据类型\n",
    "\n",
    "# 预览数据\n",
    "print (ser_obj.head(3))\n",
    "#默认输出五行"
   ]
  },
  {
   "cell_type": "code",
   "execution_count": 4,
   "metadata": {},
   "outputs": [
    {
     "name": "stdout",
     "output_type": "stream",
     "text": [
      "2001    17.8\n",
      "2002    20.1\n",
      "dtype: float64\n",
      "Int64Index([2001, 2002, 2003, 2004, 2423], dtype='int64')\n",
      "2001     17.8\n",
      "2002     20.1\n",
      "2003     16.5\n",
      "2004    324.0\n",
      "2423    243.0\n",
      "dtype: float64\n"
     ]
    }
   ],
   "source": [
    "'''2. 通过dict构建Series'''\n",
    "year_data = {2001: 17.8, 2002: 20.1, 2003: 16.5,2004:324,2423:243}\n",
    "ser_obj2 = pd.Series(year_data)\n",
    "print (ser_obj2.head(2))\n",
    "print (ser_obj2.index)\n",
    "print(ser_obj2)"
   ]
  },
  {
   "cell_type": "code",
   "execution_count": 5,
   "metadata": {},
   "outputs": [
    {
     "name": "stdout",
     "output_type": "stream",
     "text": [
      "year\n",
      "2001     17.8\n",
      "2002     20.1\n",
      "2003     16.5\n",
      "2004    324.0\n",
      "2423    243.0\n",
      "Name: 钱, dtype: float64\n"
     ]
    }
   ],
   "source": [
    "# name属性【【【【【出问题了！！！】】】】】\n",
    "ser_obj2.name = '钱'\n",
    "ser_obj2.index.name = 'year'\n",
    "print (ser_obj2.head())"
   ]
  },
  {
   "cell_type": "markdown",
   "metadata": {},
   "source": [
    "### 2. DataFrame"
   ]
  },
  {
   "cell_type": "code",
   "execution_count": 13,
   "metadata": {},
   "outputs": [
    {
     "name": "stdout",
     "output_type": "stream",
     "text": [
      "[[0.05782902 0.0809033  0.33156754 0.19493577]\n",
      " [0.62796942 0.57765469 0.73671312 0.3359223 ]\n",
      " [0.29920211 0.65154339 0.02394759 0.58972836]\n",
      " [0.34812741 0.89513238 0.911551   0.8286806 ]\n",
      " [0.77395554 0.39687084 0.11014845 0.03218328]]\n",
      "          a         b         c         d\n",
      "0  0.057829  0.080903  0.331568  0.194936\n",
      "1  0.627969  0.577655  0.736713  0.335922\n",
      "2  0.299202  0.651543  0.023948  0.589728\n",
      "3  0.348127  0.895132  0.911551  0.828681\n",
      "4  0.773956  0.396871  0.110148  0.032183\n",
      "          a         b         c         d\n",
      "4  0.773956  0.396871  0.110148  0.032183\n",
      "1  0.627969  0.577655  0.736713  0.335922\n",
      "3  0.348127  0.895132  0.911551  0.828681\n",
      "2  0.299202  0.651543  0.023948  0.589728\n",
      "0  0.057829  0.080903  0.331568  0.194936\n"
     ]
    }
   ],
   "source": [
    "import numpy as np\n",
    "\n",
    "'''1. 通过ndarray构建DataFrame === 一般是用二维 = = 得复习numpy了'''\n",
    "array = np.random.rand(5,4)\n",
    "print (array)\n",
    "\n",
    "df_obj = pd.DataFrame(array,columns=['a','b','c','d'])\n",
    "print (df_obj.head())\n",
    "print(df_obj.sort_values(by='a', ascending=False))"
   ]
  },
  {
   "cell_type": "code",
   "execution_count": 7,
   "metadata": {},
   "outputs": [
    {
     "name": "stdout",
     "output_type": "stream",
     "text": [
      "     A          B    C  D       E            F\n",
      "0  1.0 2016-12-17  1.0  3  Python  ChinaHadoop\n",
      "1  1.0 2016-12-17  1.0  3    Java  ChinaHadoop\n",
      "2  1.0 2016-12-17  1.0  3     C++  ChinaHadoop\n",
      "3  1.0 2016-12-17  1.0  3      C#  ChinaHadoop\n"
     ]
    }
   ],
   "source": [
    "'''2. 通过dict构建DataFrame'''\n",
    "#一个键值对就相当于一列！！但是具体到字典里面的值所用到的一些函数还是不能很清楚\n",
    "dict_data = {'A': 1., \n",
    "             'B': pd.Timestamp('20161217'),\n",
    "             'C': pd.Series(1, index=list(range(4)),dtype='float32'),\n",
    "             'D': np.array([3] * 4,dtype='int32'),\n",
    "             'E' : pd.Categorical([\"Python\",\"Java\",\"C++\",\"C#\"]),\n",
    "             'F' : 'ChinaHadoop' }\n",
    "df_obj2 = pd.DataFrame(dict_data)\n",
    "print (df_obj2.head())"
   ]
  },
  {
   "cell_type": "code",
   "execution_count": 33,
   "metadata": {},
   "outputs": [
    {
     "name": "stdout",
     "output_type": "stream",
     "text": [
      "     A          B    C  D       E            F  G\n",
      "0  1.0 2016-12-17  1.0  3  Python  ChinaHadoop  7\n",
      "1  1.0 2016-12-17  1.0  3    Java  ChinaHadoop  7\n",
      "2  1.0 2016-12-17  1.0  3     C++  ChinaHadoop  7\n",
      "3  1.0 2016-12-17  1.0  3      C#  ChinaHadoop  7\n",
      "     A          B    C    D       E            F    G   H\n",
      "0  1.0 2016-12-17  1.0  3.0  Python  ChinaHadoop  7.0 NaN\n",
      "1  1.0 2016-12-17  1.0  3.0    Java  ChinaHadoop  7.0 NaN\n",
      "2  1.0 2016-12-17  1.0  3.0     C++  ChinaHadoop  7.0 NaN\n",
      "3  1.0 2016-12-17  1.0  3.0      C#  ChinaHadoop  7.0 NaN\n",
      "4  NaN        NaT  NaN  NaN     NaN          NaN  NaN NaN\n"
     ]
    }
   ],
   "source": [
    "# 增加列\n",
    "df_obj2['G'] = df_obj2['D'] + 4\n",
    "print (df_obj2.head())\n",
    "xxx = pd.DataFrame(df_obj2,columns=['A','B','C','D','E','F','G','H'],index=[0,1,2,3,4])\n",
    "print(xxx)"
   ]
  },
  {
   "cell_type": "markdown",
   "metadata": {},
   "source": [
    "### 3. 索引对象 Index"
   ]
  },
  {
   "cell_type": "code",
   "execution_count": 10,
   "metadata": {},
   "outputs": [
    {
     "name": "stdout",
     "output_type": "stream",
     "text": [
      "<class 'pandas.core.indexes.range.RangeIndex'>\n",
      "<class 'pandas.core.indexes.numeric.Int64Index'>\n",
      "Int64Index([0, 1, 2, 3], dtype='int64')\n"
     ]
    }
   ],
   "source": [
    "print (type(ser_obj.index))\n",
    "print (type(df_obj2.index))\n",
    "\n",
    "print (df_obj2.index)"
   ]
  },
  {
   "cell_type": "code",
   "execution_count": 11,
   "metadata": {},
   "outputs": [
    {
     "ename": "TypeError",
     "evalue": "Index does not support mutable operations",
     "output_type": "error",
     "traceback": [
      "\u001b[1;31m---------------------------------------------------------------------------\u001b[0m",
      "\u001b[1;31mTypeError\u001b[0m                                 Traceback (most recent call last)",
      "\u001b[1;32m<ipython-input-11-6367894e76d8>\u001b[0m in \u001b[0;36m<module>\u001b[1;34m\u001b[0m\n\u001b[0;32m      1\u001b[0m \u001b[1;31m# 索引对象不可变\u001b[0m\u001b[1;33m\u001b[0m\u001b[1;33m\u001b[0m\u001b[1;33m\u001b[0m\u001b[0m\n\u001b[1;32m----> 2\u001b[1;33m \u001b[0mdf_obj2\u001b[0m\u001b[1;33m.\u001b[0m\u001b[0mindex\u001b[0m\u001b[1;33m[\u001b[0m\u001b[1;36m0\u001b[0m\u001b[1;33m]\u001b[0m \u001b[1;33m=\u001b[0m \u001b[1;36m2\u001b[0m\u001b[1;33m\u001b[0m\u001b[1;33m\u001b[0m\u001b[0m\n\u001b[0m",
      "\u001b[1;32mC:\\AppData\\lib\\site-packages\\pandas\\core\\indexes\\base.py\u001b[0m in \u001b[0;36m__setitem__\u001b[1;34m(self, key, value)\u001b[0m\n\u001b[0;32m   3936\u001b[0m \u001b[1;33m\u001b[0m\u001b[0m\n\u001b[0;32m   3937\u001b[0m     \u001b[1;32mdef\u001b[0m \u001b[0m__setitem__\u001b[0m\u001b[1;33m(\u001b[0m\u001b[0mself\u001b[0m\u001b[1;33m,\u001b[0m \u001b[0mkey\u001b[0m\u001b[1;33m,\u001b[0m \u001b[0mvalue\u001b[0m\u001b[1;33m)\u001b[0m\u001b[1;33m:\u001b[0m\u001b[1;33m\u001b[0m\u001b[1;33m\u001b[0m\u001b[0m\n\u001b[1;32m-> 3938\u001b[1;33m         \u001b[1;32mraise\u001b[0m \u001b[0mTypeError\u001b[0m\u001b[1;33m(\u001b[0m\u001b[1;34m\"Index does not support mutable operations\"\u001b[0m\u001b[1;33m)\u001b[0m\u001b[1;33m\u001b[0m\u001b[1;33m\u001b[0m\u001b[0m\n\u001b[0m\u001b[0;32m   3939\u001b[0m \u001b[1;33m\u001b[0m\u001b[0m\n\u001b[0;32m   3940\u001b[0m     \u001b[1;32mdef\u001b[0m \u001b[0m__getitem__\u001b[0m\u001b[1;33m(\u001b[0m\u001b[0mself\u001b[0m\u001b[1;33m,\u001b[0m \u001b[0mkey\u001b[0m\u001b[1;33m)\u001b[0m\u001b[1;33m:\u001b[0m\u001b[1;33m\u001b[0m\u001b[1;33m\u001b[0m\u001b[0m\n",
      "\u001b[1;31mTypeError\u001b[0m: Index does not support mutable operations"
     ]
    }
   ],
   "source": [
    "# 索引对象不可变\n",
    "df_obj2.index[0] = 2"
   ]
  },
  {
   "cell_type": "code",
   "execution_count": null,
   "metadata": {},
   "outputs": [],
   "source": []
  }
 ],
 "metadata": {
  "anaconda-cloud": {},
  "kernelspec": {
   "display_name": "Python 3",
   "language": "python",
   "name": "python3"
  },
  "language_info": {
   "codemirror_mode": {
    "name": "ipython",
    "version": 3
   },
   "file_extension": ".py",
   "mimetype": "text/x-python",
   "name": "python",
   "nbconvert_exporter": "python",
   "pygments_lexer": "ipython3",
   "version": "3.7.3"
  }
 },
 "nbformat": 4,
 "nbformat_minor": 1
}
