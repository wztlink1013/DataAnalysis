{
 "cells": [
  {
   "cell_type": "markdown",
   "metadata": {},
   "source": [
    "# 分组与聚合\n",
    "    目录：\n",
    "    1. GroupBy对象\n",
    "    2. GroupBy分组对象迭代\n",
    "    3. 其他分组方式\n",
    "    4. 聚合"
   ]
  },
  {
   "cell_type": "markdown",
   "metadata": {},
   "source": [
    "### 1. GroupBy对象"
   ]
  },
  {
   "cell_type": "markdown",
   "metadata": {},
   "source": [
    "#### · groupedby函数中的参数：\n",
    "    as_index的作用：控制聚合输出是否以组标签为索引值，默认为True，就是分层次的索引，若为False多加一列默认索引索引，相当于非其他数据排序好了。\n",
    "    但是这两组标签索引值不同有什么作用呢？=== 作用就是，根据的一列是否为索引列。\n",
    "    sort_values的作用：对选定的一列数值数据从上往下从小到大进行排序（如果传值没成功===设置本体覆盖，传值覆盖）"
   ]
  },
  {
   "cell_type": "code",
   "execution_count": 1,
   "metadata": {},
   "outputs": [],
   "source": [
    "import pandas as pd\n",
    "import numpy as np\n",
    "import matplotlib.pyplot as plt\n",
    "import matplotlib.pyplot \n",
    "%matplotlib inline"
   ]
  },
  {
   "cell_type": "code",
   "execution_count": 2,
   "metadata": {},
   "outputs": [
    {
     "name": "stdout",
     "output_type": "stream",
     "text": [
      "  key1   key2     data1     data2\n",
      "0    a    one  0.182229 -0.648371\n",
      "1    b    one  0.977752  1.749360\n",
      "2    a    two  0.162701 -0.176894\n",
      "3    b  three -0.026076 -1.352676\n",
      "4    a    two  0.338570  1.342475\n",
      "5    b    two -0.505157  1.015842\n",
      "6    a    one -1.583258 -1.313521\n",
      "7    a  three  0.588953 -0.768686\n"
     ]
    }
   ],
   "source": [
    "dict_obj = {'key1' : ['a', 'b', 'a', 'b', \n",
    "                      'a', 'b', 'a', 'a'],\n",
    "            'key2' : ['one', 'one', 'two', 'three',\n",
    "                      'two', 'two', 'one', 'three'],\n",
    "            'data1': np.random.randn(8),\n",
    "            'data2': np.random.randn(8)}\n",
    "df_obj = pd.DataFrame(dict_obj)\n",
    "print (df_obj)"
   ]
  },
  {
   "cell_type": "code",
   "execution_count": 3,
   "metadata": {},
   "outputs": [
    {
     "name": "stdout",
     "output_type": "stream",
     "text": [
      "key2\n",
      "one      3\n",
      "three    2\n",
      "two      3\n",
      "Name: key1, dtype: int64\n",
      "<class 'pandas.core.groupby.generic.DataFrameGroupBy'>\n"
     ]
    }
   ],
   "source": [
    "'''1. dataframe根据key2进行分组'''\n",
    "print(df_obj.groupby('key2')['key1'].count())\n",
    "\n",
    "print (type(df_obj.groupby('key1')))\n",
    "#没有可视化的输出 "
   ]
  },
  {
   "cell_type": "code",
   "execution_count": 4,
   "metadata": {},
   "outputs": [
    {
     "name": "stdout",
     "output_type": "stream",
     "text": [
      "<class 'pandas.core.groupby.generic.SeriesGroupBy'>\n"
     ]
    }
   ],
   "source": [
    "'''2. 指定列根据key1进行分组'''\n",
    "print (type(df_obj['data1'].groupby(df_obj['key1'])))"
   ]
  },
  {
   "cell_type": "code",
   "execution_count": 5,
   "metadata": {},
   "outputs": [
    {
     "name": "stdout",
     "output_type": "stream",
     "text": [
      "  key1     data1     data2\n",
      "0    a -0.062161 -0.312999\n",
      "1    b  0.148839  0.470842\n",
      "key1\n",
      "a   -0.062161\n",
      "b    0.148839\n",
      "Name: data1, dtype: float64\n"
     ]
    }
   ],
   "source": [
    "# 分组运算\n",
    "grouped1 = df_obj.groupby('key1',as_index=False)\n",
    "print (grouped1.mean())\n",
    "\n",
    "grouped2 = df_obj['data1'].groupby(df_obj['key1'])#指定某一列的数据在该索引下进行分组并且加以聚合\n",
    "print (grouped2.mean())"
   ]
  },
  {
   "cell_type": "code",
   "execution_count": 6,
   "metadata": {},
   "outputs": [
    {
     "data": {
      "text/html": [
       "<div>\n",
       "<style scoped>\n",
       "    .dataframe tbody tr th:only-of-type {\n",
       "        vertical-align: middle;\n",
       "    }\n",
       "\n",
       "    .dataframe tbody tr th {\n",
       "        vertical-align: top;\n",
       "    }\n",
       "\n",
       "    .dataframe thead th {\n",
       "        text-align: right;\n",
       "    }\n",
       "</style>\n",
       "<table border=\"1\" class=\"dataframe\">\n",
       "  <thead>\n",
       "    <tr style=\"text-align: right;\">\n",
       "      <th></th>\n",
       "      <th>data1</th>\n",
       "      <th>data2</th>\n",
       "    </tr>\n",
       "  </thead>\n",
       "  <tbody>\n",
       "    <tr>\n",
       "      <th>1</th>\n",
       "      <td>-0.067896</td>\n",
       "      <td>0.006925</td>\n",
       "    </tr>\n",
       "    <tr>\n",
       "      <th>2</th>\n",
       "      <td>0.158398</td>\n",
       "      <td>-0.062365</td>\n",
       "    </tr>\n",
       "  </tbody>\n",
       "</table>\n",
       "</div>"
      ],
      "text/plain": [
       "      data1     data2\n",
       "1 -0.067896  0.006925\n",
       "2  0.158398 -0.062365"
      ]
     },
     "execution_count": 6,
     "metadata": {},
     "output_type": "execute_result"
    }
   ],
   "source": [
    "'''3. 按自定义key分组，列表'''\n",
    "self_def_key = [1, 1, 2, 2, 2, 1, 1, 1]\n",
    "df_obj.groupby(self_def_key).mean()"
   ]
  },
  {
   "cell_type": "code",
   "execution_count": 7,
   "metadata": {},
   "outputs": [
    {
     "data": {
      "text/html": [
       "<div>\n",
       "<style scoped>\n",
       "    .dataframe tbody tr th:only-of-type {\n",
       "        vertical-align: middle;\n",
       "    }\n",
       "\n",
       "    .dataframe tbody tr th {\n",
       "        vertical-align: top;\n",
       "    }\n",
       "\n",
       "    .dataframe thead th {\n",
       "        text-align: right;\n",
       "    }\n",
       "</style>\n",
       "<table border=\"1\" class=\"dataframe\">\n",
       "  <thead>\n",
       "    <tr style=\"text-align: right;\">\n",
       "      <th></th>\n",
       "      <th>key1</th>\n",
       "      <th>key2</th>\n",
       "      <th>data1</th>\n",
       "      <th>data2</th>\n",
       "    </tr>\n",
       "  </thead>\n",
       "  <tbody>\n",
       "    <tr>\n",
       "      <th>0</th>\n",
       "      <td>a</td>\n",
       "      <td>one</td>\n",
       "      <td>0.182229</td>\n",
       "      <td>-0.648371</td>\n",
       "    </tr>\n",
       "    <tr>\n",
       "      <th>1</th>\n",
       "      <td>b</td>\n",
       "      <td>one</td>\n",
       "      <td>0.977752</td>\n",
       "      <td>1.749360</td>\n",
       "    </tr>\n",
       "    <tr>\n",
       "      <th>2</th>\n",
       "      <td>a</td>\n",
       "      <td>two</td>\n",
       "      <td>0.162701</td>\n",
       "      <td>-0.176894</td>\n",
       "    </tr>\n",
       "    <tr>\n",
       "      <th>3</th>\n",
       "      <td>b</td>\n",
       "      <td>three</td>\n",
       "      <td>-0.026076</td>\n",
       "      <td>-1.352676</td>\n",
       "    </tr>\n",
       "    <tr>\n",
       "      <th>4</th>\n",
       "      <td>a</td>\n",
       "      <td>two</td>\n",
       "      <td>0.338570</td>\n",
       "      <td>1.342475</td>\n",
       "    </tr>\n",
       "    <tr>\n",
       "      <th>5</th>\n",
       "      <td>b</td>\n",
       "      <td>two</td>\n",
       "      <td>-0.505157</td>\n",
       "      <td>1.015842</td>\n",
       "    </tr>\n",
       "    <tr>\n",
       "      <th>6</th>\n",
       "      <td>a</td>\n",
       "      <td>one</td>\n",
       "      <td>-1.583258</td>\n",
       "      <td>-1.313521</td>\n",
       "    </tr>\n",
       "    <tr>\n",
       "      <th>7</th>\n",
       "      <td>a</td>\n",
       "      <td>three</td>\n",
       "      <td>0.588953</td>\n",
       "      <td>-0.768686</td>\n",
       "    </tr>\n",
       "  </tbody>\n",
       "</table>\n",
       "</div>"
      ],
      "text/plain": [
       "  key1   key2     data1     data2\n",
       "0    a    one  0.182229 -0.648371\n",
       "1    b    one  0.977752  1.749360\n",
       "2    a    two  0.162701 -0.176894\n",
       "3    b  three -0.026076 -1.352676\n",
       "4    a    two  0.338570  1.342475\n",
       "5    b    two -0.505157  1.015842\n",
       "6    a    one -1.583258 -1.313521\n",
       "7    a  three  0.588953 -0.768686"
      ]
     },
     "execution_count": 7,
     "metadata": {},
     "output_type": "execute_result"
    }
   ],
   "source": [
    "df_obj"
   ]
  },
  {
   "cell_type": "code",
   "execution_count": 8,
   "metadata": {},
   "outputs": [
    {
     "name": "stdout",
     "output_type": "stream",
     "text": [
      "  key1   key2     data1     data2\n",
      "0    a    one -0.700514 -0.980946\n",
      "1    a  three  0.588953 -0.768686\n",
      "2    a    two  0.250636  0.582790\n",
      "3    b    one  0.977752  1.749360\n",
      "4    b  three -0.026076 -1.352676\n",
      "5    b    two -0.505157  1.015842\n",
      "--------比较asindex的差异-------\n",
      "               data1     data2\n",
      "key1 key2                     \n",
      "a    one   -0.700514 -0.980946\n",
      "     three  0.588953 -0.768686\n",
      "     two    0.250636  0.582790\n",
      "b    one    0.977752  1.749360\n",
      "     three -0.026076 -1.352676\n",
      "     two   -0.505157  1.015842\n"
     ]
    }
   ],
   "source": [
    "'''4. 按多个列多层分组 = = = 通过列表'''\n",
    "grouped2 = df_obj.groupby(['key1', 'key2'],as_index=False)\n",
    "print (grouped2.mean())\n",
    "print('--------比较asindex的差异-------')\n",
    "grouped2 = df_obj.groupby(['key1', 'key2'],as_index=True)\n",
    "print (grouped2.mean())"
   ]
  },
  {
   "cell_type": "code",
   "execution_count": 9,
   "metadata": {},
   "outputs": [
    {
     "name": "stdout",
     "output_type": "stream",
     "text": [
      "               data1     data2\n",
      "key2  key1                    \n",
      "one   a    -0.700514 -0.980946\n",
      "      b     0.977752  1.749360\n",
      "three a     0.588953 -0.768686\n",
      "      b    -0.026076 -1.352676\n",
      "two   a     0.250636  0.582790\n",
      "      b    -0.505157  1.015842\n",
      "=============================================\n",
      "          data1               data2          \n",
      "key1          a         b         a         b\n",
      "key2                                         \n",
      "one   -0.700514  0.977752 -0.980946  1.749360\n",
      "three  0.588953 -0.026076 -0.768686 -1.352676\n",
      "two    0.250636 -0.505157  0.582790  1.015842\n"
     ]
    }
   ],
   "source": [
    "# 多层分组按key的顺序进行===和上面的asindex作用一样，把所选取的列数据当成索引，这才是区别之处\n",
    "grouped3 = df_obj.groupby(['key2', 'key1'])\n",
    "print (grouped3.mean())\n",
    "print ('=============================================')\n",
    "'''PS：如果想按照列进行分组聚合运算 === unstack===也可以通过转置'''\n",
    "print (grouped3.mean().unstack())"
   ]
  },
  {
   "cell_type": "markdown",
   "metadata": {},
   "source": [
    "### 2. GroupBy对象分组迭代===“遍历”"
   ]
  },
  {
   "cell_type": "code",
   "execution_count": 10,
   "metadata": {},
   "outputs": [
    {
     "data": {
      "text/plain": [
       "<pandas.core.groupby.generic.DataFrameGroupBy object at 0x000001A4727FA518>"
      ]
     },
     "execution_count": 10,
     "metadata": {},
     "output_type": "execute_result"
    }
   ],
   "source": [
    "grouped1"
   ]
  },
  {
   "cell_type": "code",
   "execution_count": 11,
   "metadata": {},
   "outputs": [
    {
     "name": "stdout",
     "output_type": "stream",
     "text": [
      "  key1   key2     data1     data2\n",
      "0    a    one  0.182229 -0.648371\n",
      "1    b    one  0.977752  1.749360\n",
      "2    a    two  0.162701 -0.176894\n",
      "3    b  three -0.026076 -1.352676\n",
      "4    a    two  0.338570  1.342475\n",
      "5    b    two -0.505157  1.015842\n",
      "6    a    one -1.583258 -1.313521\n",
      "7    a  three  0.588953 -0.768686\n",
      "------------------------------------分割线------------------------------------------\n",
      "a\n",
      "0    0.182229\n",
      "2    0.162701\n",
      "4    0.338570\n",
      "6   -1.583258\n",
      "7    0.588953\n",
      "Name: data1, dtype: float64\n",
      "b\n",
      "1    0.977752\n",
      "3   -0.026076\n",
      "5   -0.505157\n",
      "Name: data1, dtype: float64\n"
     ]
    }
   ],
   "source": [
    "# 单层分组\n",
    "print(grouped1.head(5))\n",
    "print(\"------------------------------------分割线------------------------------------------\")\n",
    "for group_name, group_data in grouped1:\n",
    "    print (group_name)\n",
    "    print (group_data['data1'])"
   ]
  },
  {
   "cell_type": "code",
   "execution_count": 12,
   "metadata": {},
   "outputs": [
    {
     "name": "stdout",
     "output_type": "stream",
     "text": [
      "('a', 'one')\n",
      "  key1 key2     data1     data2\n",
      "0    a  one  0.182229 -0.648371\n",
      "6    a  one -1.583258 -1.313521\n",
      "('a', 'three')\n",
      "  key1   key2     data1     data2\n",
      "7    a  three  0.588953 -0.768686\n",
      "('a', 'two')\n",
      "  key1 key2     data1     data2\n",
      "2    a  two  0.162701 -0.176894\n",
      "4    a  two  0.338570  1.342475\n",
      "('b', 'one')\n",
      "  key1 key2     data1    data2\n",
      "1    b  one  0.977752  1.74936\n",
      "('b', 'three')\n",
      "  key1   key2     data1     data2\n",
      "3    b  three -0.026076 -1.352676\n",
      "('b', 'two')\n",
      "  key1 key2     data1     data2\n",
      "5    b  two -0.505157  1.015842\n"
     ]
    }
   ],
   "source": [
    "# 多层分组\n",
    "for group_name, group_data in grouped2:\n",
    "    print (group_name)\n",
    "    print (group_data)"
   ]
  },
  {
   "cell_type": "code",
   "execution_count": 13,
   "metadata": {},
   "outputs": [
    {
     "name": "stdout",
     "output_type": "stream",
     "text": [
      "  key1     data1     data2\n",
      "0    a -0.062161 -0.312999\n",
      "1    b  0.148839  0.470842\n"
     ]
    },
    {
     "data": {
      "text/plain": [
       "[('a',   key1   key2     data1     data2\n",
       "  0    a    one  0.182229 -0.648371\n",
       "  2    a    two  0.162701 -0.176894\n",
       "  4    a    two  0.338570  1.342475\n",
       "  6    a    one -1.583258 -1.313521\n",
       "  7    a  three  0.588953 -0.768686), ('b',   key1   key2     data1     data2\n",
       "  1    b    one  0.977752  1.749360\n",
       "  3    b  three -0.026076 -1.352676\n",
       "  5    b    two -0.505157  1.015842)]"
      ]
     },
     "execution_count": 13,
     "metadata": {},
     "output_type": "execute_result"
    }
   ],
   "source": [
    "# GroupBy对象转换list\n",
    "print(grouped1.mean())\n",
    "list(grouped1)"
   ]
  },
  {
   "cell_type": "code",
   "execution_count": 14,
   "metadata": {},
   "outputs": [
    {
     "data": {
      "text/plain": [
       "{'a':   key1   key2     data1     data2\n",
       " 0    a    one  0.182229 -0.648371\n",
       " 2    a    two  0.162701 -0.176894\n",
       " 4    a    two  0.338570  1.342475\n",
       " 6    a    one -1.583258 -1.313521\n",
       " 7    a  three  0.588953 -0.768686, 'b':   key1   key2     data1     data2\n",
       " 1    b    one  0.977752  1.749360\n",
       " 3    b  three -0.026076 -1.352676\n",
       " 5    b    two -0.505157  1.015842}"
      ]
     },
     "execution_count": 14,
     "metadata": {},
     "output_type": "execute_result"
    }
   ],
   "source": [
    "# GroupBy对象转换dict\n",
    "dict(list(grouped1))"
   ]
  },
  {
   "cell_type": "code",
   "execution_count": 15,
   "metadata": {},
   "outputs": [
    {
     "name": "stdout",
     "output_type": "stream",
     "text": [
      "key1      object\n",
      "key2      object\n",
      "data1    float64\n",
      "data2    float64\n",
      "dtype: object\n"
     ]
    },
    {
     "data": {
      "text/html": [
       "<div>\n",
       "<style scoped>\n",
       "    .dataframe tbody tr th:only-of-type {\n",
       "        vertical-align: middle;\n",
       "    }\n",
       "\n",
       "    .dataframe tbody tr th {\n",
       "        vertical-align: top;\n",
       "    }\n",
       "\n",
       "    .dataframe thead th {\n",
       "        text-align: right;\n",
       "    }\n",
       "</style>\n",
       "<table border=\"1\" class=\"dataframe\">\n",
       "  <thead>\n",
       "    <tr style=\"text-align: right;\">\n",
       "      <th></th>\n",
       "      <th>float64</th>\n",
       "      <th>object</th>\n",
       "    </tr>\n",
       "  </thead>\n",
       "  <tbody>\n",
       "    <tr>\n",
       "      <th>0</th>\n",
       "      <td>-0.466142</td>\n",
       "      <td>aone</td>\n",
       "    </tr>\n",
       "    <tr>\n",
       "      <th>1</th>\n",
       "      <td>2.727112</td>\n",
       "      <td>bone</td>\n",
       "    </tr>\n",
       "    <tr>\n",
       "      <th>2</th>\n",
       "      <td>-0.014193</td>\n",
       "      <td>atwo</td>\n",
       "    </tr>\n",
       "    <tr>\n",
       "      <th>3</th>\n",
       "      <td>-1.378753</td>\n",
       "      <td>bthree</td>\n",
       "    </tr>\n",
       "    <tr>\n",
       "      <th>4</th>\n",
       "      <td>1.681045</td>\n",
       "      <td>atwo</td>\n",
       "    </tr>\n",
       "    <tr>\n",
       "      <th>5</th>\n",
       "      <td>0.510685</td>\n",
       "      <td>btwo</td>\n",
       "    </tr>\n",
       "    <tr>\n",
       "      <th>6</th>\n",
       "      <td>-2.896778</td>\n",
       "      <td>aone</td>\n",
       "    </tr>\n",
       "    <tr>\n",
       "      <th>7</th>\n",
       "      <td>-0.179732</td>\n",
       "      <td>athree</td>\n",
       "    </tr>\n",
       "  </tbody>\n",
       "</table>\n",
       "</div>"
      ],
      "text/plain": [
       "    float64  object\n",
       "0 -0.466142    aone\n",
       "1  2.727112    bone\n",
       "2 -0.014193    atwo\n",
       "3 -1.378753  bthree\n",
       "4  1.681045    atwo\n",
       "5  0.510685    btwo\n",
       "6 -2.896778    aone\n",
       "7 -0.179732  athree"
      ]
     },
     "execution_count": 15,
     "metadata": {},
     "output_type": "execute_result"
    }
   ],
   "source": [
    "# 按列分组\n",
    "print (df_obj.dtypes)\n",
    "\n",
    "# 按数据类型分组\n",
    "df_obj.groupby(df_obj.dtypes, axis=1).size()\n",
    "df_obj.groupby(df_obj.dtypes, axis=1).sum()"
   ]
  },
  {
   "cell_type": "markdown",
   "metadata": {},
   "source": [
    "### 3. 其他分组方法"
   ]
  },
  {
   "cell_type": "markdown",
   "metadata": {},
   "source": [
    "0. 其实列表也是分组的一种方式\n",
    "    ===用到列表时候，一般都是多层索引了"
   ]
  },
  {
   "cell_type": "code",
   "execution_count": 16,
   "metadata": {},
   "outputs": [
    {
     "name": "stderr",
     "output_type": "stream",
     "text": [
      "C:\\AppData\\lib\\site-packages\\ipykernel_launcher.py:4: DeprecationWarning: \n",
      ".ix is deprecated. Please use\n",
      ".loc for label based indexing or\n",
      ".iloc for positional indexing\n",
      "\n",
      "See the documentation here:\n",
      "http://pandas.pydata.org/pandas-docs/stable/indexing.html#ix-indexer-is-deprecated\n",
      "  after removing the cwd from sys.path.\n"
     ]
    },
    {
     "data": {
      "text/html": [
       "<div>\n",
       "<style scoped>\n",
       "    .dataframe tbody tr th:only-of-type {\n",
       "        vertical-align: middle;\n",
       "    }\n",
       "\n",
       "    .dataframe tbody tr th {\n",
       "        vertical-align: top;\n",
       "    }\n",
       "\n",
       "    .dataframe thead th {\n",
       "        text-align: right;\n",
       "    }\n",
       "</style>\n",
       "<table border=\"1\" class=\"dataframe\">\n",
       "  <thead>\n",
       "    <tr style=\"text-align: right;\">\n",
       "      <th></th>\n",
       "      <th>a</th>\n",
       "      <th>b</th>\n",
       "      <th>c</th>\n",
       "      <th>d</th>\n",
       "      <th>e</th>\n",
       "    </tr>\n",
       "  </thead>\n",
       "  <tbody>\n",
       "    <tr>\n",
       "      <th>A</th>\n",
       "      <td>9</td>\n",
       "      <td>1.0</td>\n",
       "      <td>9.0</td>\n",
       "      <td>8.0</td>\n",
       "      <td>5</td>\n",
       "    </tr>\n",
       "    <tr>\n",
       "      <th>B</th>\n",
       "      <td>6</td>\n",
       "      <td>NaN</td>\n",
       "      <td>NaN</td>\n",
       "      <td>NaN</td>\n",
       "      <td>1</td>\n",
       "    </tr>\n",
       "    <tr>\n",
       "      <th>C</th>\n",
       "      <td>4</td>\n",
       "      <td>7.0</td>\n",
       "      <td>5.0</td>\n",
       "      <td>9.0</td>\n",
       "      <td>8</td>\n",
       "    </tr>\n",
       "    <tr>\n",
       "      <th>D</th>\n",
       "      <td>6</td>\n",
       "      <td>8.0</td>\n",
       "      <td>6.0</td>\n",
       "      <td>1.0</td>\n",
       "      <td>2</td>\n",
       "    </tr>\n",
       "    <tr>\n",
       "      <th>E</th>\n",
       "      <td>6</td>\n",
       "      <td>1.0</td>\n",
       "      <td>8.0</td>\n",
       "      <td>3.0</td>\n",
       "      <td>5</td>\n",
       "    </tr>\n",
       "  </tbody>\n",
       "</table>\n",
       "</div>"
      ],
      "text/plain": [
       "   a    b    c    d  e\n",
       "A  9  1.0  9.0  8.0  5\n",
       "B  6  NaN  NaN  NaN  1\n",
       "C  4  7.0  5.0  9.0  8\n",
       "D  6  8.0  6.0  1.0  2\n",
       "E  6  1.0  8.0  3.0  5"
      ]
     },
     "execution_count": 16,
     "metadata": {},
     "output_type": "execute_result"
    }
   ],
   "source": [
    "df_obj2 = pd.DataFrame(np.random.randint(1, 10, (5,5)),\n",
    "                       columns=['a', 'b', 'c', 'd', 'e'],\n",
    "                       index=['A', 'B', 'C', 'D', 'E'])\n",
    "df_obj2.ix[1, 1:4] = np.NaN\n",
    "df_obj2"
   ]
  },
  {
   "cell_type": "markdown",
   "metadata": {},
   "source": [
    "1. 通过字典分组"
   ]
  },
  {
   "cell_type": "code",
   "execution_count": 17,
   "metadata": {},
   "outputs": [
    {
     "name": "stdout",
     "output_type": "stream",
     "text": [
      "         a    b     c     d   e\n",
      "C        6  8.0   6.0   1.0   2\n",
      "java    10  8.0  13.0  12.0  13\n",
      "python  15  1.0   9.0   8.0   6\n"
     ]
    }
   ],
   "source": [
    "# 通过字典分组\n",
    "mapping_dict = {'A':'python', 'B':'python', 'C':'java', 'D':'C', 'E':'java'}\n",
    "#df_obj2.groupby(mapping_dict, axis=1).size()\n",
    "#df_obj2.groupby(mapping_dict, axis=1).count() # 非NaN的个数\n",
    "print(df_obj2.groupby(mapping_dict, axis=0).sum())"
   ]
  },
  {
   "cell_type": "markdown",
   "metadata": {},
   "source": [
    "2. 通过函数分组"
   ]
  },
  {
   "cell_type": "code",
   "execution_count": 18,
   "metadata": {},
   "outputs": [
    {
     "data": {
      "text/plain": [
       "1    1\n",
       "2    3\n",
       "3    1\n",
       "dtype: int64"
      ]
     },
     "execution_count": 18,
     "metadata": {},
     "output_type": "execute_result"
    }
   ],
   "source": [
    "# 通过函数分组\n",
    "df_obj3 = pd.DataFrame(np.random.randint(1, 10, (5,5)),\n",
    "                       columns=['a', 'b', 'c', 'd', 'e'],\n",
    "                       index=['AA', 'BBB', 'CC', 'D', 'EE'])\n",
    "#df_obj3\n",
    "\n",
    "def group_key(idx):\n",
    "    \"\"\"\n",
    "        idx 为列索引或行索引\n",
    "    \"\"\"\n",
    "    #return idx\n",
    "    return len(idx)\n",
    "\n",
    "df_obj3.groupby(group_key).size()\n",
    "\n",
    "# 以上自定义函数等价于\n",
    "#df_obj3.groupby(len).size()"
   ]
  },
  {
   "cell_type": "markdown",
   "metadata": {},
   "source": [
    "3. 通过层级索引级别分组"
   ]
  },
  {
   "cell_type": "code",
   "execution_count": 19,
   "metadata": {},
   "outputs": [
    {
     "data": {
      "text/html": [
       "<div>\n",
       "<style scoped>\n",
       "    .dataframe tbody tr th:only-of-type {\n",
       "        vertical-align: middle;\n",
       "    }\n",
       "\n",
       "    .dataframe tbody tr th {\n",
       "        vertical-align: top;\n",
       "    }\n",
       "\n",
       "    .dataframe thead tr th {\n",
       "        text-align: left;\n",
       "    }\n",
       "</style>\n",
       "<table border=\"1\" class=\"dataframe\">\n",
       "  <thead>\n",
       "    <tr>\n",
       "      <th>language</th>\n",
       "      <th>Python</th>\n",
       "      <th>Java</th>\n",
       "      <th>Python</th>\n",
       "      <th>Java</th>\n",
       "      <th>Python</th>\n",
       "    </tr>\n",
       "    <tr>\n",
       "      <th>index</th>\n",
       "      <th>A</th>\n",
       "      <th>A</th>\n",
       "      <th>B</th>\n",
       "      <th>C</th>\n",
       "      <th>B</th>\n",
       "    </tr>\n",
       "  </thead>\n",
       "  <tbody>\n",
       "    <tr>\n",
       "      <th>0</th>\n",
       "      <td>4</td>\n",
       "      <td>2</td>\n",
       "      <td>1</td>\n",
       "      <td>8</td>\n",
       "      <td>3</td>\n",
       "    </tr>\n",
       "    <tr>\n",
       "      <th>1</th>\n",
       "      <td>5</td>\n",
       "      <td>1</td>\n",
       "      <td>5</td>\n",
       "      <td>4</td>\n",
       "      <td>5</td>\n",
       "    </tr>\n",
       "    <tr>\n",
       "      <th>2</th>\n",
       "      <td>6</td>\n",
       "      <td>7</td>\n",
       "      <td>6</td>\n",
       "      <td>5</td>\n",
       "      <td>1</td>\n",
       "    </tr>\n",
       "    <tr>\n",
       "      <th>3</th>\n",
       "      <td>3</td>\n",
       "      <td>5</td>\n",
       "      <td>3</td>\n",
       "      <td>9</td>\n",
       "      <td>5</td>\n",
       "    </tr>\n",
       "    <tr>\n",
       "      <th>4</th>\n",
       "      <td>5</td>\n",
       "      <td>4</td>\n",
       "      <td>5</td>\n",
       "      <td>6</td>\n",
       "      <td>3</td>\n",
       "    </tr>\n",
       "  </tbody>\n",
       "</table>\n",
       "</div>"
      ],
      "text/plain": [
       "language Python Java Python Java Python\n",
       "index         A    A      B    C      B\n",
       "0             4    2      1    8      3\n",
       "1             5    1      5    4      5\n",
       "2             6    7      6    5      1\n",
       "3             3    5      3    9      5\n",
       "4             5    4      5    6      3"
      ]
     },
     "execution_count": 19,
     "metadata": {},
     "output_type": "execute_result"
    }
   ],
   "source": [
    "# 通过索引级别分组\n",
    "columns = pd.MultiIndex.from_arrays([['Python', 'Java', 'Python', 'Java', 'Python'],\n",
    "                                     ['A', 'A', 'B', 'C', 'B']], names=['language', 'index'])\n",
    "df_obj4 = pd.DataFrame(np.random.randint(1, 10, (5, 5)), columns=columns)\n",
    "df_obj4"
   ]
  },
  {
   "cell_type": "code",
   "execution_count": 20,
   "metadata": {},
   "outputs": [
    {
     "data": {
      "text/html": [
       "<div>\n",
       "<style scoped>\n",
       "    .dataframe tbody tr th:only-of-type {\n",
       "        vertical-align: middle;\n",
       "    }\n",
       "\n",
       "    .dataframe tbody tr th {\n",
       "        vertical-align: top;\n",
       "    }\n",
       "\n",
       "    .dataframe thead th {\n",
       "        text-align: right;\n",
       "    }\n",
       "</style>\n",
       "<table border=\"1\" class=\"dataframe\">\n",
       "  <thead>\n",
       "    <tr style=\"text-align: right;\">\n",
       "      <th>index</th>\n",
       "      <th>A</th>\n",
       "      <th>B</th>\n",
       "      <th>C</th>\n",
       "    </tr>\n",
       "  </thead>\n",
       "  <tbody>\n",
       "    <tr>\n",
       "      <th>0</th>\n",
       "      <td>6</td>\n",
       "      <td>4</td>\n",
       "      <td>8</td>\n",
       "    </tr>\n",
       "    <tr>\n",
       "      <th>1</th>\n",
       "      <td>6</td>\n",
       "      <td>10</td>\n",
       "      <td>4</td>\n",
       "    </tr>\n",
       "    <tr>\n",
       "      <th>2</th>\n",
       "      <td>13</td>\n",
       "      <td>7</td>\n",
       "      <td>5</td>\n",
       "    </tr>\n",
       "    <tr>\n",
       "      <th>3</th>\n",
       "      <td>8</td>\n",
       "      <td>8</td>\n",
       "      <td>9</td>\n",
       "    </tr>\n",
       "    <tr>\n",
       "      <th>4</th>\n",
       "      <td>9</td>\n",
       "      <td>8</td>\n",
       "      <td>6</td>\n",
       "    </tr>\n",
       "  </tbody>\n",
       "</table>\n",
       "</div>"
      ],
      "text/plain": [
       "index   A   B  C\n",
       "0       6   4  8\n",
       "1       6  10  4\n",
       "2      13   7  5\n",
       "3       8   8  9\n",
       "4       9   8  6"
      ]
     },
     "execution_count": 20,
     "metadata": {},
     "output_type": "execute_result"
    }
   ],
   "source": [
    "# 根据language进行分组\n",
    "df_obj4.groupby(level='language', axis=1).sum()\n",
    "df_obj4.groupby(level='index', axis=1).sum()"
   ]
  },
  {
   "cell_type": "markdown",
   "metadata": {},
   "source": [
    "### 4. 聚合"
   ]
  },
  {
   "cell_type": "code",
   "execution_count": 21,
   "metadata": {},
   "outputs": [
    {
     "name": "stdout",
     "output_type": "stream",
     "text": [
      "  key1   key2  data1  data2\n",
      "0    a    one      4      8\n",
      "1    b    one      7      9\n",
      "2    a    two      1      4\n",
      "3    b  three      3      3\n",
      "4    a    two      6      2\n",
      "5    b    two      7      3\n",
      "6    a    one      2      3\n",
      "7    a  three      7      5\n"
     ]
    }
   ],
   "source": [
    "dict_obj = {'key1' : ['a', 'b', 'a', 'b', \n",
    "                      'a', 'b', 'a', 'a'],\n",
    "            'key2' : ['one', 'one', 'two', 'three',\n",
    "                      'two', 'two', 'one', 'three'],\n",
    "            'data1': np.random.randint(1,10, 8),\n",
    "            'data2': np.random.randint(1,10, 8)}\n",
    "df_obj5 = pd.DataFrame(dict_obj)\n",
    "print (df_obj5)"
   ]
  },
  {
   "cell_type": "markdown",
   "metadata": {},
   "source": [
    "1. 内置的聚合函数"
   ]
  },
  {
   "cell_type": "code",
   "execution_count": 22,
   "metadata": {},
   "outputs": [
    {
     "data": {
      "text/html": [
       "<div>\n",
       "<style scoped>\n",
       "    .dataframe tbody tr th:only-of-type {\n",
       "        vertical-align: middle;\n",
       "    }\n",
       "\n",
       "    .dataframe tbody tr th {\n",
       "        vertical-align: top;\n",
       "    }\n",
       "\n",
       "    .dataframe thead th {\n",
       "        text-align: right;\n",
       "    }\n",
       "</style>\n",
       "<table border=\"1\" class=\"dataframe\">\n",
       "  <thead>\n",
       "    <tr style=\"text-align: right;\">\n",
       "      <th></th>\n",
       "      <th>key1</th>\n",
       "      <th>key2</th>\n",
       "      <th>data1</th>\n",
       "      <th>data2</th>\n",
       "    </tr>\n",
       "  </thead>\n",
       "  <tbody>\n",
       "    <tr>\n",
       "      <th>0</th>\n",
       "      <td>a</td>\n",
       "      <td>one</td>\n",
       "      <td>4</td>\n",
       "      <td>8</td>\n",
       "    </tr>\n",
       "    <tr>\n",
       "      <th>1</th>\n",
       "      <td>b</td>\n",
       "      <td>one</td>\n",
       "      <td>7</td>\n",
       "      <td>9</td>\n",
       "    </tr>\n",
       "    <tr>\n",
       "      <th>2</th>\n",
       "      <td>a</td>\n",
       "      <td>two</td>\n",
       "      <td>1</td>\n",
       "      <td>4</td>\n",
       "    </tr>\n",
       "    <tr>\n",
       "      <th>3</th>\n",
       "      <td>b</td>\n",
       "      <td>three</td>\n",
       "      <td>3</td>\n",
       "      <td>3</td>\n",
       "    </tr>\n",
       "    <tr>\n",
       "      <th>4</th>\n",
       "      <td>a</td>\n",
       "      <td>two</td>\n",
       "      <td>6</td>\n",
       "      <td>2</td>\n",
       "    </tr>\n",
       "    <tr>\n",
       "      <th>5</th>\n",
       "      <td>b</td>\n",
       "      <td>two</td>\n",
       "      <td>7</td>\n",
       "      <td>3</td>\n",
       "    </tr>\n",
       "    <tr>\n",
       "      <th>6</th>\n",
       "      <td>a</td>\n",
       "      <td>one</td>\n",
       "      <td>2</td>\n",
       "      <td>3</td>\n",
       "    </tr>\n",
       "    <tr>\n",
       "      <th>7</th>\n",
       "      <td>a</td>\n",
       "      <td>three</td>\n",
       "      <td>7</td>\n",
       "      <td>5</td>\n",
       "    </tr>\n",
       "  </tbody>\n",
       "</table>\n",
       "</div>"
      ],
      "text/plain": [
       "  key1   key2  data1  data2\n",
       "0    a    one      4      8\n",
       "1    b    one      7      9\n",
       "2    a    two      1      4\n",
       "3    b  three      3      3\n",
       "4    a    two      6      2\n",
       "5    b    two      7      3\n",
       "6    a    one      2      3\n",
       "7    a  three      7      5"
      ]
     },
     "execution_count": 22,
     "metadata": {},
     "output_type": "execute_result"
    }
   ],
   "source": [
    "df_obj5"
   ]
  },
  {
   "cell_type": "code",
   "execution_count": 29,
   "metadata": {},
   "outputs": [
    {
     "name": "stdout",
     "output_type": "stream",
     "text": [
      "         data1  data2\n",
      "key1                 \n",
      "a     4.000000    4.4\n",
      "b     5.666667    5.0\n"
     ]
    },
    {
     "data": {
      "text/plain": [
       "'\\ncount：分组中非NA的值\\nstd：标准差\\nvar：方差\\nmedian：非NA中的中位数\\nmean：非NA的平均值\\n25%||50%||75%是什么意思==不造？\\n'"
      ]
     },
     "execution_count": 29,
     "metadata": {},
     "output_type": "execute_result"
    }
   ],
   "source": [
    "# 内置的聚合函数\n",
    "#print (df_obj5.groupby('key1').sum())\n",
    "#print (df_obj5.groupby('key1').max())\n",
    "#print (df_obj5.groupby('key1').min())\n",
    "print (df_obj5.groupby('key1').mean())\n",
    "#print (df_obj5.groupby('key1').size())\n",
    "#print (df_obj5.groupby('key1').count())\n",
    "#print (df_obj5.groupby('key1').describe())\n",
    "'''\n",
    "count：分组中非NA的值\n",
    "std：标准差\n",
    "var：方差\n",
    "median：非NA中的中位数\n",
    "mean：非NA的平均值\n",
    "25%||50%||75%是什么意思==不造？\n",
    "'''"
   ]
  },
  {
   "cell_type": "markdown",
   "metadata": {},
   "source": [
    "2. 自定义聚合函数"
   ]
  },
  {
   "cell_type": "code",
   "execution_count": 24,
   "metadata": {},
   "outputs": [
    {
     "name": "stdout",
     "output_type": "stream",
     "text": [
      "      data1  data2\n",
      "key1              \n",
      "a         6      6\n",
      "b         4      6\n"
     ]
    }
   ],
   "source": [
    "# 自定义聚合函数\n",
    "def peak_range(df):\n",
    "    \"\"\"\n",
    "        返回数值范围\n",
    "    \"\"\"\n",
    "    #print type(df) #参数为索引所对应的记录\n",
    "    return df.max() - df.min()\n",
    "\n",
    "print (df_obj5.groupby('key1').agg(peak_range))\n",
    "#print df_obj.groupby('key1').agg(lambda df : df.max() - df.min())\n",
    "#默认列名就是函数名。"
   ]
  },
  {
   "cell_type": "markdown",
   "metadata": {},
   "source": [
    "3. 同时应用多个聚合函数：agg"
   ]
  },
  {
   "cell_type": "code",
   "execution_count": 25,
   "metadata": {},
   "outputs": [
    {
     "name": "stdout",
     "output_type": "stream",
     "text": [
      "         data1                    data2                \n",
      "          mean      std count      mean       std count\n",
      "key1                                                   \n",
      "a    -0.062161  0.86726     5 -0.312999  1.009986     5\n",
      "b     0.148839  0.75677     3  0.470842  1.621242     3\n"
     ]
    }
   ],
   "source": [
    "# 同时应用多个聚合函数：agg\n",
    "print (df_obj.groupby('key1').agg(['mean', 'std', 'count'])) \n"
   ]
  },
  {
   "cell_type": "code",
   "execution_count": 26,
   "metadata": {},
   "outputs": [
    {
     "name": "stdout",
     "output_type": "stream",
     "text": [
      "         data1                              data2                          \n",
      "          mean      std count     range      mean       std count     range\n",
      "key1                                                                       \n",
      "a    -0.062161  0.86726     5  2.172211 -0.312999  1.009986     5  2.655995\n",
      "b     0.148839  0.75677     3  1.482909  0.470842  1.621242     3  3.102036\n"
     ]
    }
   ],
   "source": [
    "print (df_obj.groupby('key1').agg(['mean', 'std', 'count', ('range', peak_range)])) # 通过元组提供新的列名"
   ]
  },
  {
   "cell_type": "code",
   "execution_count": 27,
   "metadata": {},
   "outputs": [
    {
     "name": "stdout",
     "output_type": "stream",
     "text": [
      "         data1     data2\n",
      "key1                    \n",
      "a    -0.062161 -1.564997\n",
      "b     0.148839  1.412526\n"
     ]
    }
   ],
   "source": [
    "# 每列作用不同的聚合函数\n",
    "dict_mapping = {'data1':'mean',\n",
    "                'data2':'sum'}\n",
    "print (df_obj.groupby('key1').agg(dict_mapping))"
   ]
  },
  {
   "cell_type": "code",
   "execution_count": 28,
   "metadata": {},
   "outputs": [
    {
     "name": "stdout",
     "output_type": "stream",
     "text": [
      "         data1               data2\n",
      "          mean       max       sum\n",
      "key1                              \n",
      "a    -0.062161  0.588953 -1.564997\n",
      "b     0.148839  0.977752  1.412526\n"
     ]
    }
   ],
   "source": [
    "dict_mapping = {'data1':['mean','max'],\n",
    "                'data2':'sum'}\n",
    "print (df_obj.groupby('key1').agg(dict_mapping))"
   ]
  },
  {
   "cell_type": "code",
   "execution_count": null,
   "metadata": {},
   "outputs": [],
   "source": []
  }
 ],
 "metadata": {
  "anaconda-cloud": {},
  "kernelspec": {
   "display_name": "Python 3",
   "language": "python",
   "name": "python3"
  },
  "language_info": {
   "codemirror_mode": {
    "name": "ipython",
    "version": 3
   },
   "file_extension": ".py",
   "mimetype": "text/x-python",
   "name": "python",
   "nbconvert_exporter": "python",
   "pygments_lexer": "ipython3",
   "version": "3.7.6"
  },
  "toc": {
   "base_numbering": 1,
   "nav_menu": {},
   "number_sections": true,
   "sideBar": true,
   "skip_h1_title": false,
   "title_cell": "Table of Contents",
   "title_sidebar": "Contents",
   "toc_cell": false,
   "toc_position": {},
   "toc_section_display": true,
   "toc_window_display": true
  }
 },
 "nbformat": 4,
 "nbformat_minor": 1
}
