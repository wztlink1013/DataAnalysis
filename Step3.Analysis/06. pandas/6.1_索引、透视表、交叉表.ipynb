{
 "cells": [
  {
   "cell_type": "markdown",
   "metadata": {},
   "source": [
    "# （1）基本索引\n",
    "# （2）多层索引\n",
    "# （3）透视表和交叉表"
   ]
  },
  {
   "cell_type": "code",
   "execution_count": 1,
   "metadata": {},
   "outputs": [],
   "source": [
    "import pandas as pd\n",
    "import numpy as np"
   ]
  },
  {
   "cell_type": "markdown",
   "metadata": {},
   "source": [
    "# （1）基本索引\n",
    "    Series索引\n",
    "    DataFrame索引\n",
    "    三种索引方式"
   ]
  },
  {
   "cell_type": "markdown",
   "metadata": {},
   "source": [
    "### 1. Series索引===行，切片，不连续，布尔"
   ]
  },
  {
   "cell_type": "code",
   "execution_count": 2,
   "metadata": {},
   "outputs": [
    {
     "name": "stdout",
     "output_type": "stream",
     "text": [
      "a    0\n",
      "b    1\n",
      "c    2\n",
      "d    3\n",
      "e    4\n",
      "dtype: int64\n"
     ]
    }
   ],
   "source": [
    "ser_obj1 = pd.Series(range(5), index = ['a', 'b', 'c', 'd', 'e'])\n",
    "print (ser_obj1.head())"
   ]
  },
  {
   "cell_type": "code",
   "execution_count": 3,
   "metadata": {},
   "outputs": [
    {
     "name": "stdout",
     "output_type": "stream",
     "text": [
      "行索引====================================================================\n",
      "1\n",
      "0\n",
      "切片索引====================================================================\n",
      "b    1\n",
      "c    2\n",
      "dtype: int64\n",
      "b    1\n",
      "c    2\n",
      "d    3\n",
      "dtype: int64\n",
      "不连续索引索引====================================================================\n",
      "a    0\n",
      "c    2\n",
      "e    4\n",
      "dtype: int64\n",
      "a    0\n",
      "e    4\n",
      "dtype: int64\n",
      "布尔索引====================================================================\n",
      "a    False\n",
      "b    False\n",
      "c    False\n",
      "d     True\n",
      "e     True\n",
      "dtype: bool\n",
      "d    3\n",
      "e    4\n",
      "dtype: int64\n",
      "d    3\n",
      "e    4\n",
      "dtype: int64\n"
     ]
    }
   ],
   "source": [
    "'''1. 行索引'''\n",
    "print('行索引====================================================================')\n",
    "print (ser_obj1['b'])\n",
    "print (ser_obj1[0])\n",
    "print('切片索引====================================================================')\n",
    "'''2. 切片索引'''\n",
    "print (ser_obj1[1:3])\n",
    "print (ser_obj1['b':'d'])\n",
    "print('不连续索引索引====================================================================')\n",
    "#注意会不会包含尾巴。。\n",
    "'''3. 不连续索引'''\n",
    "print (ser_obj1[[0, 2, 4]])\n",
    "print (ser_obj1[['a', 'e']])\n",
    "print('布尔索引====================================================================')\n",
    "'''4. 布尔索引'''\n",
    "#是对里面的值进行判断，不是对索引\n",
    "ser_bool = ser_obj1 > 2\n",
    "print (ser_bool)\n",
    "print (ser_obj1[ser_bool])#运用的方式\n",
    "print (ser_obj1[ser_obj1 > 2])"
   ]
  },
  {
   "cell_type": "markdown",
   "metadata": {},
   "source": [
    "### 2. DataFrame索引===转换为行的方式+列，不连续"
   ]
  },
  {
   "cell_type": "code",
   "execution_count": 4,
   "metadata": {},
   "outputs": [
    {
     "name": "stdout",
     "output_type": "stream",
     "text": [
      "          a         b         c         d\n",
      "0  1.012319  0.616951  0.623926  0.953297\n",
      "1 -0.376777  0.361733  0.453687 -0.620992\n",
      "2 -0.991679  0.238925  1.464551 -0.606710\n",
      "3  0.115045  1.269416  0.243239 -0.096736\n",
      "4 -0.247549  1.519254 -3.232396 -0.425300\n"
     ]
    }
   ],
   "source": [
    "df_obj1 = pd.DataFrame(np.random.randn(5,4), columns = ['a', 'b', 'c', 'd'])\n",
    "print (df_obj1.head())"
   ]
  },
  {
   "cell_type": "code",
   "execution_count": 5,
   "metadata": {},
   "outputs": [
    {
     "name": "stdout",
     "output_type": "stream",
     "text": [
      "          0         1         2         3         4\n",
      "a  1.012319 -0.376777 -0.991679  0.115045 -0.247549\n",
      "b  0.616951  0.361733  0.238925  1.269416  1.519254\n",
      "c  0.623926  0.453687  1.464551  0.243239 -3.232396\n",
      "d  0.953297 -0.620992 -0.606710 -0.096736 -0.425300\n",
      "          0         1         2         3         4\n",
      "a  1.012319 -0.376777 -0.991679  0.115045 -0.247549\n",
      "b  0.616951  0.361733  0.238925  1.269416  1.519254\n",
      "c  0.623926  0.453687  1.464551  0.243239 -3.232396\n",
      "d  0.953297 -0.620992 -0.606710 -0.096736 -0.425300\n"
     ]
    },
    {
     "data": {
      "text/plain": [
       "'0. 转换成行索引的话===方式二：重构/重塑===还没有完全明白'"
      ]
     },
     "execution_count": 5,
     "metadata": {},
     "output_type": "execute_result"
    }
   ],
   "source": [
    "'''0. 转换成行索引的话===方式一：transpose或者T'''\n",
    "bb=df_obj1.transpose()\n",
    "print(df_obj1.T)\n",
    "print(bb)\n",
    "'''0. 转换成行索引的话===方式二：重构/重塑===还没有完全明白'''"
   ]
  },
  {
   "cell_type": "code",
   "execution_count": 6,
   "metadata": {},
   "outputs": [
    {
     "name": "stdout",
     "output_type": "stream",
     "text": [
      "列索引\n",
      "0    0.616951\n",
      "1    0.361733\n",
      "2    0.238925\n",
      "3    1.269416\n",
      "4    1.519254\n",
      "Name: b, dtype: float64\n",
      "===================\n",
      "0    1.012319\n",
      "1   -0.376777\n",
      "2   -0.991679\n",
      "3    0.115045\n",
      "4   -0.247549\n",
      "Name: a, dtype: float64\n",
      "<class 'pandas.core.series.Series'>\n",
      "          a\n",
      "0  1.012319\n",
      "1 -0.376777\n",
      "2 -0.991679\n",
      "3  0.115045\n",
      "4 -0.247549\n",
      "<class 'pandas.core.frame.DataFrame'>\n",
      "不连续索引\n",
      "          a         c\n",
      "0  1.012319  0.623926\n",
      "1 -0.376777  0.453687\n",
      "2 -0.991679  1.464551\n",
      "3  0.115045  0.243239\n",
      "4 -0.247549 -3.232396\n",
      "          a         c\n",
      "0  1.012319  0.623926\n",
      "1 -0.376777  0.453687\n",
      "2 -0.991679  1.464551\n",
      "3  0.115045  0.243239\n",
      "4 -0.247549 -3.232396\n"
     ]
    }
   ],
   "source": [
    "'''1. 列索引=====默认为列索引来操作'''\n",
    "print ('列索引')\n",
    "print(df_obj1.b)#当成属性来获取值\n",
    "print('===================')\n",
    "print (df_obj1['a']) # 返回Series类型\n",
    "print (type(df_obj1['a']))\n",
    "print (df_obj1[['a']]) # 返回DataFrame类型\n",
    "print (type(df_obj1[['a']]))\n",
    "'''2. 不连续索引'''\n",
    "print ('不连续索引')\n",
    "print (df_obj1[['a','c']])\n",
    "print (df_obj1[['a','c']])"
   ]
  },
  {
   "cell_type": "markdown",
   "metadata": {},
   "source": [
    "### 3. 三种索引方式"
   ]
  },
  {
   "cell_type": "code",
   "execution_count": 7,
   "metadata": {},
   "outputs": [
    {
     "name": "stdout",
     "output_type": "stream",
     "text": [
      "a    0\n",
      "b    1\n",
      "c    2\n",
      "d    3\n",
      "e    4\n",
      "dtype: int64\n",
      "============================\n",
      "          a         b         c         d\n",
      "0  1.012319  0.616951  0.623926  0.953297\n",
      "1 -0.376777  0.361733  0.453687 -0.620992\n",
      "2 -0.991679  0.238925  1.464551 -0.606710\n",
      "3  0.115045  1.269416  0.243239 -0.096736\n",
      "4 -0.247549  1.519254 -3.232396 -0.425300\n"
     ]
    }
   ],
   "source": [
    "print(ser_obj1)\n",
    "print('============================')\n",
    "print(df_obj1)"
   ]
  },
  {
   "cell_type": "code",
   "execution_count": 8,
   "metadata": {},
   "outputs": [
    {
     "name": "stdout",
     "output_type": "stream",
     "text": [
      "b    1\n",
      "c    2\n",
      "d    3\n",
      "dtype: int64\n",
      "b    1\n",
      "c    2\n",
      "d    3\n",
      "dtype: int64\n",
      "          a\n",
      "0  1.012319\n",
      "1 -0.376777\n",
      "2 -0.991679\n",
      "3  0.115045\n",
      "4 -0.247549\n",
      "          a         b         c\n",
      "0  1.012319  0.616951  0.623926\n",
      "1 -0.376777  0.361733  0.453687\n",
      "2 -0.991679  0.238925  1.464551\n"
     ]
    }
   ],
   "source": [
    "'''1. 标签索引 loc===用的是index和column的值索引【标签索引】'''\n",
    "# Series\n",
    "print (ser_obj1['b':'d'])\n",
    "print (ser_obj1.loc['b':'d'])\n",
    "\n",
    "# DataFrame\n",
    "print (df_obj1[['a']])\n",
    "print (df_obj1.loc[0:2,'a':'c'])"
   ]
  },
  {
   "cell_type": "code",
   "execution_count": 9,
   "metadata": {},
   "outputs": [
    {
     "name": "stdout",
     "output_type": "stream",
     "text": [
      "b    1\n",
      "c    2\n",
      "dtype: int64\n",
      "b    1\n",
      "c    2\n",
      "dtype: int64\n",
      "          a         b\n",
      "0  1.012319  0.616951\n",
      "1 -0.376777  0.361733\n"
     ]
    }
   ],
   "source": [
    "'''2. 位置索引 iloc====用的是index和column的默认0，1，2，3···的值索引【位置索引】'''\n",
    "print (ser_obj1[1:3])\n",
    "print (ser_obj1.iloc[1:3])\n",
    "\n",
    "# DataFrame\n",
    "print (df_obj1.iloc[0:2, 0:2])\n",
    "# 注意和df_obj.loc[0:2, 'a']的区别 = = = 行和列：都不包括尾巴"
   ]
  },
  {
   "cell_type": "code",
   "execution_count": 10,
   "metadata": {},
   "outputs": [
    {
     "name": "stdout",
     "output_type": "stream",
     "text": [
      "b    1\n",
      "c    2\n",
      "dtype: int64\n",
      "b    1\n",
      "c    2\n",
      "dtype: int64\n",
      "          a         b         c\n",
      "0  1.012319  0.616951  0.623926\n",
      "1 -0.376777  0.361733  0.453687\n",
      "2 -0.991679  0.238925  1.464551\n"
     ]
    },
    {
     "name": "stderr",
     "output_type": "stream",
     "text": [
      "C:\\AppData\\lib\\site-packages\\ipykernel_launcher.py:2: DeprecationWarning: \n",
      ".ix is deprecated. Please use\n",
      ".loc for label based indexing or\n",
      ".iloc for positional indexing\n",
      "\n",
      "See the documentation here:\n",
      "http://pandas.pydata.org/pandas-docs/stable/indexing.html#ix-indexer-is-deprecated\n",
      "  \n",
      "C:\\AppData\\lib\\site-packages\\ipykernel_launcher.py:3: DeprecationWarning: \n",
      ".ix is deprecated. Please use\n",
      ".loc for label based indexing or\n",
      ".iloc for positional indexing\n",
      "\n",
      "See the documentation here:\n",
      "http://pandas.pydata.org/pandas-docs/stable/indexing.html#ix-indexer-is-deprecated\n",
      "  This is separate from the ipykernel package so we can avoid doing imports until\n",
      "C:\\AppData\\lib\\site-packages\\ipykernel_launcher.py:6: DeprecationWarning: \n",
      ".ix is deprecated. Please use\n",
      ".loc for label based indexing or\n",
      ".iloc for positional indexing\n",
      "\n",
      "See the documentation here:\n",
      "http://pandas.pydata.org/pandas-docs/stable/indexing.html#ix-indexer-is-deprecated\n",
      "  \n"
     ]
    }
   ],
   "source": [
    "'''3. 混合索引 ix===先按标签索引loc尝试操作，然后再按位置索引iloc尝试操作'''\n",
    "print (ser_obj1.ix[1:3])\n",
    "print (ser_obj1.ix['b':'c'])\n",
    "\n",
    "# DataFrame\n",
    "print (df_obj1.ix[0:2, 0:3]) "
   ]
  },
  {
   "cell_type": "markdown",
   "metadata": {},
   "source": [
    "# （2）Pandas层级索引\n",
    "    目录：\n",
    "    1. 构造索引目录\n",
    "    2. 选取子集\n",
    "    3. 交换分层顺序\n",
    "    4. 交换并排序分层"
   ]
  },
  {
   "cell_type": "markdown",
   "metadata": {},
   "source": [
    "### 1. 构造层级索引"
   ]
  },
  {
   "cell_type": "code",
   "execution_count": 11,
   "metadata": {},
   "outputs": [
    {
     "name": "stdout",
     "output_type": "stream",
     "text": [
      "a  0    0.267298\n",
      "   1    1.215220\n",
      "   2    0.545496\n",
      "b  0    0.751175\n",
      "   1    0.033965\n",
      "   2    0.502887\n",
      "c  0   -1.108911\n",
      "   1   -0.322437\n",
      "   2    1.115986\n",
      "d  0   -0.282982\n",
      "   1    0.444111\n",
      "   2   -0.804391\n",
      "dtype: float64\n"
     ]
    }
   ],
   "source": [
    "ser_obj = pd.Series(np.random.randn(12),\n",
    "                    index=[['a', 'a', 'a', 'b', 'b', 'b', 'c', 'c', 'c', 'd', 'd', 'd'],\n",
    "                           [0, 1, 2, 0, 1, 2, 0, 1, 2, 0, 1, 2]])\n",
    "#列表里面的列表\n",
    "print (ser_obj)"
   ]
  },
  {
   "cell_type": "markdown",
   "metadata": {},
   "source": [
    "* MultiIndex索引对象"
   ]
  },
  {
   "cell_type": "code",
   "execution_count": 12,
   "metadata": {},
   "outputs": [
    {
     "name": "stdout",
     "output_type": "stream",
     "text": [
      "<class 'pandas.core.indexes.multi.MultiIndex'>\n",
      "MultiIndex(levels=[['a', 'b', 'c', 'd'], [0, 1, 2]],\n",
      "           codes=[[0, 0, 0, 1, 1, 1, 2, 2, 2, 3, 3, 3], [0, 1, 2, 0, 1, 2, 0, 1, 2, 0, 1, 2]])\n"
     ]
    }
   ],
   "source": [
    "print (type(ser_obj.index))\n",
    "print (ser_obj.index)"
   ]
  },
  {
   "cell_type": "markdown",
   "metadata": {},
   "source": [
    "### 2. 选取子集"
   ]
  },
  {
   "cell_type": "code",
   "execution_count": 13,
   "metadata": {},
   "outputs": [
    {
     "name": "stdout",
     "output_type": "stream",
     "text": [
      "0   -1.108911\n",
      "1   -0.322437\n",
      "2    1.115986\n",
      "dtype: float64\n"
     ]
    }
   ],
   "source": [
    "# 外层选取\n",
    "print (ser_obj['c'])"
   ]
  },
  {
   "cell_type": "code",
   "execution_count": 14,
   "metadata": {},
   "outputs": [
    {
     "name": "stdout",
     "output_type": "stream",
     "text": [
      "a    0.545496\n",
      "b    0.502887\n",
      "c    1.115986\n",
      "d   -0.804391\n",
      "dtype: float64\n"
     ]
    }
   ],
   "source": [
    "# 内层选取\n",
    "print (ser_obj[:, 2])"
   ]
  },
  {
   "cell_type": "markdown",
   "metadata": {},
   "source": [
    "### 3. 交换分层顺序"
   ]
  },
  {
   "cell_type": "code",
   "execution_count": 15,
   "metadata": {},
   "outputs": [
    {
     "name": "stdout",
     "output_type": "stream",
     "text": [
      "            a         b         c         d\n",
      "a 1  0.860869  0.096465  1.422626  0.818000\n",
      "  2  0.232094  0.037507  0.424915 -1.131530\n",
      "  3  0.308923  0.606272 -1.377272  0.853719\n",
      "b 1 -0.176629 -0.392059 -2.018028  1.497732\n",
      "  2  0.891686  0.122558  1.487353 -0.312214\n",
      "  3  0.301888  1.062693  1.167418 -0.385816\n"
     ]
    }
   ],
   "source": [
    "df_obj2 = pd.DataFrame(np.random.randn(6,4), columns = ['a', 'b', 'c', 'd'],index=[['a', 'a', 'a', 'b', 'b','b'],[1, 2, 3, 1, 2,3]])\n",
    "#print (df_obj1.swaplevel())\n",
    "print (df_obj2)"
   ]
  },
  {
   "cell_type": "markdown",
   "metadata": {},
   "source": [
    "### 4. 交换并排序分层"
   ]
  },
  {
   "cell_type": "code",
   "execution_count": 16,
   "metadata": {},
   "outputs": [
    {
     "ename": "AttributeError",
     "evalue": "'DataFrame' object has no attribute 'sortvalues'",
     "output_type": "error",
     "traceback": [
      "\u001b[1;31m---------------------------------------------------------------------------\u001b[0m",
      "\u001b[1;31mAttributeError\u001b[0m                            Traceback (most recent call last)",
      "\u001b[1;32m<ipython-input-16-e96ebee945b5>\u001b[0m in \u001b[0;36m<module>\u001b[1;34m\u001b[0m\n\u001b[1;32m----> 1\u001b[1;33m \u001b[0mprint\u001b[0m \u001b[1;33m(\u001b[0m\u001b[0mdf_obj2\u001b[0m\u001b[1;33m.\u001b[0m\u001b[0mswaplevel\u001b[0m\u001b[1;33m(\u001b[0m\u001b[1;33m)\u001b[0m\u001b[1;33m.\u001b[0m\u001b[0msortvalues\u001b[0m\u001b[1;33m(\u001b[0m\u001b[0mby\u001b[0m\u001b[1;33m=\u001b[0m\u001b[1;34m'a'\u001b[0m\u001b[1;33m)\u001b[0m\u001b[1;33m)\u001b[0m\u001b[1;33m\u001b[0m\u001b[1;33m\u001b[0m\u001b[0m\n\u001b[0m\u001b[0;32m      2\u001b[0m \u001b[1;31m#Series没有这个内置函数sortlevel===dataframe有\u001b[0m\u001b[1;33m\u001b[0m\u001b[1;33m\u001b[0m\u001b[1;33m\u001b[0m\u001b[0m\n",
      "\u001b[1;32mC:\\AppData\\lib\\site-packages\\pandas\\core\\generic.py\u001b[0m in \u001b[0;36m__getattr__\u001b[1;34m(self, name)\u001b[0m\n\u001b[0;32m   5065\u001b[0m             \u001b[1;32mif\u001b[0m \u001b[0mself\u001b[0m\u001b[1;33m.\u001b[0m\u001b[0m_info_axis\u001b[0m\u001b[1;33m.\u001b[0m\u001b[0m_can_hold_identifiers_and_holds_name\u001b[0m\u001b[1;33m(\u001b[0m\u001b[0mname\u001b[0m\u001b[1;33m)\u001b[0m\u001b[1;33m:\u001b[0m\u001b[1;33m\u001b[0m\u001b[1;33m\u001b[0m\u001b[0m\n\u001b[0;32m   5066\u001b[0m                 \u001b[1;32mreturn\u001b[0m \u001b[0mself\u001b[0m\u001b[1;33m[\u001b[0m\u001b[0mname\u001b[0m\u001b[1;33m]\u001b[0m\u001b[1;33m\u001b[0m\u001b[1;33m\u001b[0m\u001b[0m\n\u001b[1;32m-> 5067\u001b[1;33m             \u001b[1;32mreturn\u001b[0m \u001b[0mobject\u001b[0m\u001b[1;33m.\u001b[0m\u001b[0m__getattribute__\u001b[0m\u001b[1;33m(\u001b[0m\u001b[0mself\u001b[0m\u001b[1;33m,\u001b[0m \u001b[0mname\u001b[0m\u001b[1;33m)\u001b[0m\u001b[1;33m\u001b[0m\u001b[1;33m\u001b[0m\u001b[0m\n\u001b[0m\u001b[0;32m   5068\u001b[0m \u001b[1;33m\u001b[0m\u001b[0m\n\u001b[0;32m   5069\u001b[0m     \u001b[1;32mdef\u001b[0m \u001b[0m__setattr__\u001b[0m\u001b[1;33m(\u001b[0m\u001b[0mself\u001b[0m\u001b[1;33m,\u001b[0m \u001b[0mname\u001b[0m\u001b[1;33m,\u001b[0m \u001b[0mvalue\u001b[0m\u001b[1;33m)\u001b[0m\u001b[1;33m:\u001b[0m\u001b[1;33m\u001b[0m\u001b[1;33m\u001b[0m\u001b[0m\n",
      "\u001b[1;31mAttributeError\u001b[0m: 'DataFrame' object has no attribute 'sortvalues'"
     ]
    }
   ],
   "source": [
    "print (df_obj2.swaplevel().sortvalues(by='a'))\n",
    "#Series没有这个内置函数sortlevel===dataframe有"
   ]
  },
  {
   "cell_type": "markdown",
   "metadata": {
    "collapsed": true
   },
   "source": [
    "# （3）透视表和交叉表"
   ]
  },
  {
   "cell_type": "code",
   "execution_count": null,
   "metadata": {},
   "outputs": [],
   "source": [
    "dataset_path = './data/starcraft.csv'\n",
    "df_data = pd.read_csv(dataset_path, usecols=['LeagueIndex', 'Age', 'HoursPerWeek', \n",
    "                                             'TotalHours', 'APM'])\n",
    "print(df_data.head())"
   ]
  },
  {
   "cell_type": "markdown",
   "metadata": {},
   "source": [
    "1. 透视表"
   ]
  },
  {
   "cell_type": "code",
   "execution_count": null,
   "metadata": {},
   "outputs": [],
   "source": [
    "pd.pivot_table(df_data, \n",
    "               index=['Age'],\n",
    "               columns=['LeagueIndex'],\n",
    "               aggfunc=np.sum)"
   ]
  },
  {
   "cell_type": "code",
   "execution_count": null,
   "metadata": {},
   "outputs": [],
   "source": [
    "pd.pivot_table(df_data, \n",
    "               index=['Age'],\n",
    "               columns=['LeagueIndex'],\n",
    "               aggfunc=np.sum,\n",
    "               fill_value=-100.)"
   ]
  },
  {
   "cell_type": "markdown",
   "metadata": {},
   "source": [
    "2. 交叉表"
   ]
  },
  {
   "cell_type": "code",
   "execution_count": null,
   "metadata": {},
   "outputs": [],
   "source": [
    "pd.crosstab(df_data['LeagueIndex'],\n",
    "            df_data['Age'])"
   ]
  },
  {
   "cell_type": "code",
   "execution_count": null,
   "metadata": {},
   "outputs": [],
   "source": [
    "pd.crosstab(df_data['LeagueIndex'],\n",
    "            [df_data['Age'], df_data['HoursPerWeek']])"
   ]
  },
  {
   "cell_type": "code",
   "execution_count": null,
   "metadata": {},
   "outputs": [],
   "source": []
  }
 ],
 "metadata": {
  "anaconda-cloud": {},
  "kernelspec": {
   "display_name": "Python 3",
   "language": "python",
   "name": "python3"
  },
  "language_info": {
   "codemirror_mode": {
    "name": "ipython",
    "version": 3
   },
   "file_extension": ".py",
   "mimetype": "text/x-python",
   "name": "python",
   "nbconvert_exporter": "python",
   "pygments_lexer": "ipython3",
   "version": "3.7.3"
  }
 },
 "nbformat": 4,
 "nbformat_minor": 1
}
