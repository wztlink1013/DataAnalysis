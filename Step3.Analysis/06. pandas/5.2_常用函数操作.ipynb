{
 "cells": [
  {
   "cell_type": "markdown",
   "metadata": {},
   "source": [
    "# （二）、Pandas数据操作\n",
    "    匿名函数应用\n",
    "    排序"
   ]
  },
  {
   "cell_type": "markdown",
   "metadata": {},
   "source": [
    "##### ·shape  获取数据的尺寸\n",
    "     获得df的size：df.shape\n",
    "     获得df中的行数：df.shape[0]\n",
    "     获得df中的列数： df.shape[1]\n",
    "     获得行索引信息：df.index\n",
    "     获得列索引信息：df.colomns\n",
    "##### ·values  获得df中的值===中文没用\n",
    "    df.values === 以列表的形式展现出来，去除了索引===dataframe类型数据转换成array类型\n",
    "##### ·setindex和resetindex\n",
    "    reset_index可以还原索引，从新变为默认的整型索引 \n",
    "        DataFrame.reset_index(level=None, drop=False, inplace=False, col_level=0, col_fill=”) \n",
    "        level控制了具体要还原的那个等级的索引 \n",
    "        drop为False则索引列会被还原为普通列，否则会丢失\n",
    "    set_index方法，设置单索引和复合索引抑或是添加索引。 \n",
    "        DataFrame.set_index(keys, drop=True, append=False, inplace=False, verify_integrity=False) \n",
    "        append添加新索引，drop为False，inplace为True时，索引将会还原为列\n",
    "##### ·iterrows（）遍历DataFrame中的数据\n",
    "    for index,row in df.iterrows():\n",
    "#### ·split(sep,n,expand=false)\n",
    "    sep表示用于分割的字符；n表格分割成多少列；expand表示是否展开为数据款，True输出Series，False输出Dataframe。\n",
    "    字段拆分：是指按照固定的字符，拆分已有字符串\n"
   ]
  },
  {
   "cell_type": "code",
   "execution_count": 13,
   "metadata": {},
   "outputs": [],
   "source": [
    "import pandas as pd\n",
    "import numpy as np"
   ]
  },
  {
   "cell_type": "markdown",
   "metadata": {},
   "source": [
    "### 1. 匿名函数应用"
   ]
  },
  {
   "cell_type": "code",
   "execution_count": 14,
   "metadata": {},
   "outputs": [
    {
     "name": "stdout",
     "output_type": "stream",
     "text": [
      "          0         1         2         3\n",
      "0 -0.496894 -3.046936 -2.728638 -1.017100\n",
      "1 -0.361720 -0.296708  0.743171 -1.780793\n",
      "2 -0.133560  0.467765  0.952942 -0.961164\n",
      "3 -1.186573 -2.778039 -0.872602 -0.640796\n",
      "4 -0.335266 -0.406740 -2.854803  0.058314\n",
      "          0         1         2         3\n",
      "0  0.496894  3.046936  2.728638  1.017100\n",
      "1  0.361720  0.296708  0.743171  1.780793\n",
      "2  0.133560  0.467765  0.952942  0.961164\n",
      "3  1.186573  2.778039  0.872602  0.640796\n",
      "4  0.335266  0.406740  2.854803  0.058314\n"
     ]
    }
   ],
   "source": [
    "# Numpy ufunc 函数\n",
    "df = pd.DataFrame(np.random.randn(5,4) - 1)\n",
    "print (df)\n",
    "\n",
    "print (np.abs(df))"
   ]
  },
  {
   "cell_type": "code",
   "execution_count": 15,
   "metadata": {},
   "outputs": [
    {
     "name": "stdout",
     "output_type": "stream",
     "text": [
      "0   -0.133560\n",
      "1    0.467765\n",
      "2    0.952942\n",
      "3    0.058314\n",
      "dtype: float64\n"
     ]
    }
   ],
   "source": [
    "# 使用apply应用行或列数据\n",
    "f = lambda x : x.max()\n",
    "print (df.apply(f))"
   ]
  },
  {
   "cell_type": "code",
   "execution_count": 16,
   "metadata": {},
   "outputs": [
    {
     "name": "stdout",
     "output_type": "stream",
     "text": [
      "0   -0.496894\n",
      "1    0.743171\n",
      "2    0.952942\n",
      "3   -0.640796\n",
      "4    0.058314\n",
      "dtype: float64\n"
     ]
    }
   ],
   "source": [
    "# 指定轴方向\n",
    "print (df.apply(f, axis=1))"
   ]
  },
  {
   "cell_type": "code",
   "execution_count": 17,
   "metadata": {},
   "outputs": [
    {
     "name": "stdout",
     "output_type": "stream",
     "text": [
      "       0      1      2      3\n",
      "0  -0.50  -3.05  -2.73  -1.02\n",
      "1  -0.36  -0.30   0.74  -1.78\n",
      "2  -0.13   0.47   0.95  -0.96\n",
      "3  -1.19  -2.78  -0.87  -0.64\n",
      "4  -0.34  -0.41  -2.85   0.06\n"
     ]
    }
   ],
   "source": [
    "# 使用applymap应用到每个数据\n",
    "f2 = lambda x : '%.2f' % x\n",
    "print (df.applymap(f2))"
   ]
  },
  {
   "cell_type": "markdown",
   "metadata": {},
   "source": [
    "### 2. 排序"
   ]
  },
  {
   "cell_type": "code",
   "execution_count": 18,
   "metadata": {},
   "outputs": [
    {
     "name": "stdout",
     "output_type": "stream",
     "text": [
      "3    10\n",
      "4    11\n",
      "4    12\n",
      "2    13\n",
      "4    14\n",
      "dtype: int64\n"
     ]
    }
   ],
   "source": [
    "s4 = pd.Series(range(10, 15), index = np.random.randint(5, size=5))\n",
    "print (s4)"
   ]
  },
  {
   "cell_type": "code",
   "execution_count": 19,
   "metadata": {},
   "outputs": [
    {
     "data": {
      "text/plain": [
       "2    13\n",
       "3    10\n",
       "4    11\n",
       "4    12\n",
       "4    14\n",
       "dtype: int64"
      ]
     },
     "execution_count": 19,
     "metadata": {},
     "output_type": "execute_result"
    }
   ],
   "source": [
    "'''1. 索引排序'''\n",
    "s4.sort_index()"
   ]
  },
  {
   "cell_type": "code",
   "execution_count": 29,
   "metadata": {},
   "outputs": [],
   "source": [
    "df4 = pd.DataFrame(np.random.randn(3, 4), \n",
    "                   index=np.random.randint(3, size=3),\n",
    "                   columns=np.random.randint(4, size=4))\n"
   ]
  },
  {
   "cell_type": "code",
   "execution_count": 30,
   "metadata": {},
   "outputs": [
    {
     "data": {
      "text/html": [
       "<div>\n",
       "<style scoped>\n",
       "    .dataframe tbody tr th:only-of-type {\n",
       "        vertical-align: middle;\n",
       "    }\n",
       "\n",
       "    .dataframe tbody tr th {\n",
       "        vertical-align: top;\n",
       "    }\n",
       "\n",
       "    .dataframe thead th {\n",
       "        text-align: right;\n",
       "    }\n",
       "</style>\n",
       "<table border=\"1\" class=\"dataframe\">\n",
       "  <thead>\n",
       "    <tr style=\"text-align: right;\">\n",
       "      <th></th>\n",
       "      <th>2</th>\n",
       "      <th>2</th>\n",
       "      <th>1</th>\n",
       "      <th>2</th>\n",
       "    </tr>\n",
       "  </thead>\n",
       "  <tbody>\n",
       "    <tr>\n",
       "      <th>1</th>\n",
       "      <td>-1.207349</td>\n",
       "      <td>1.318339</td>\n",
       "      <td>0.715597</td>\n",
       "      <td>-0.123828</td>\n",
       "    </tr>\n",
       "    <tr>\n",
       "      <th>2</th>\n",
       "      <td>1.458933</td>\n",
       "      <td>-0.992514</td>\n",
       "      <td>-0.668835</td>\n",
       "      <td>0.468963</td>\n",
       "    </tr>\n",
       "    <tr>\n",
       "      <th>1</th>\n",
       "      <td>-1.692899</td>\n",
       "      <td>0.162599</td>\n",
       "      <td>2.365497</td>\n",
       "      <td>-2.141556</td>\n",
       "    </tr>\n",
       "  </tbody>\n",
       "</table>\n",
       "</div>"
      ],
      "text/plain": [
       "          2         2         1         2\n",
       "1 -1.207349  1.318339  0.715597 -0.123828\n",
       "2  1.458933 -0.992514 -0.668835  0.468963\n",
       "1 -1.692899  0.162599  2.365497 -2.141556"
      ]
     },
     "execution_count": 30,
     "metadata": {},
     "output_type": "execute_result"
    }
   ],
   "source": [
    "df4"
   ]
  },
  {
   "cell_type": "code",
   "execution_count": 33,
   "metadata": {},
   "outputs": [
    {
     "data": {
      "text/html": [
       "<div>\n",
       "<style scoped>\n",
       "    .dataframe tbody tr th:only-of-type {\n",
       "        vertical-align: middle;\n",
       "    }\n",
       "\n",
       "    .dataframe tbody tr th {\n",
       "        vertical-align: top;\n",
       "    }\n",
       "\n",
       "    .dataframe thead th {\n",
       "        text-align: right;\n",
       "    }\n",
       "</style>\n",
       "<table border=\"1\" class=\"dataframe\">\n",
       "  <thead>\n",
       "    <tr style=\"text-align: right;\">\n",
       "      <th></th>\n",
       "      <th>1</th>\n",
       "      <th>2</th>\n",
       "      <th>2</th>\n",
       "      <th>2</th>\n",
       "    </tr>\n",
       "  </thead>\n",
       "  <tbody>\n",
       "    <tr>\n",
       "      <th>1</th>\n",
       "      <td>0.715597</td>\n",
       "      <td>-1.207349</td>\n",
       "      <td>1.318339</td>\n",
       "      <td>-0.123828</td>\n",
       "    </tr>\n",
       "    <tr>\n",
       "      <th>2</th>\n",
       "      <td>-0.668835</td>\n",
       "      <td>1.458933</td>\n",
       "      <td>-0.992514</td>\n",
       "      <td>0.468963</td>\n",
       "    </tr>\n",
       "    <tr>\n",
       "      <th>1</th>\n",
       "      <td>2.365497</td>\n",
       "      <td>-1.692899</td>\n",
       "      <td>0.162599</td>\n",
       "      <td>-2.141556</td>\n",
       "    </tr>\n",
       "  </tbody>\n",
       "</table>\n",
       "</div>"
      ],
      "text/plain": [
       "          1         2         2         2\n",
       "1  0.715597 -1.207349  1.318339 -0.123828\n",
       "2 -0.668835  1.458933 -0.992514  0.468963\n",
       "1  2.365497 -1.692899  0.162599 -2.141556"
      ]
     },
     "execution_count": 33,
     "metadata": {},
     "output_type": "execute_result"
    }
   ],
   "source": [
    "#df4.sort_index(ascending=False)\n",
    "df4.sort_index(axis=1)"
   ]
  },
  {
   "cell_type": "code",
   "execution_count": 34,
   "metadata": {},
   "outputs": [
    {
     "data": {
      "text/html": [
       "<div>\n",
       "<style scoped>\n",
       "    .dataframe tbody tr th:only-of-type {\n",
       "        vertical-align: middle;\n",
       "    }\n",
       "\n",
       "    .dataframe tbody tr th {\n",
       "        vertical-align: top;\n",
       "    }\n",
       "\n",
       "    .dataframe thead th {\n",
       "        text-align: right;\n",
       "    }\n",
       "</style>\n",
       "<table border=\"1\" class=\"dataframe\">\n",
       "  <thead>\n",
       "    <tr style=\"text-align: right;\">\n",
       "      <th></th>\n",
       "      <th>2</th>\n",
       "      <th>2</th>\n",
       "      <th>1</th>\n",
       "      <th>2</th>\n",
       "    </tr>\n",
       "  </thead>\n",
       "  <tbody>\n",
       "    <tr>\n",
       "      <th>2</th>\n",
       "      <td>1.458933</td>\n",
       "      <td>-0.992514</td>\n",
       "      <td>-0.668835</td>\n",
       "      <td>0.468963</td>\n",
       "    </tr>\n",
       "    <tr>\n",
       "      <th>1</th>\n",
       "      <td>-1.207349</td>\n",
       "      <td>1.318339</td>\n",
       "      <td>0.715597</td>\n",
       "      <td>-0.123828</td>\n",
       "    </tr>\n",
       "    <tr>\n",
       "      <th>1</th>\n",
       "      <td>-1.692899</td>\n",
       "      <td>0.162599</td>\n",
       "      <td>2.365497</td>\n",
       "      <td>-2.141556</td>\n",
       "    </tr>\n",
       "  </tbody>\n",
       "</table>\n",
       "</div>"
      ],
      "text/plain": [
       "          2         2         1         2\n",
       "2  1.458933 -0.992514 -0.668835  0.468963\n",
       "1 -1.207349  1.318339  0.715597 -0.123828\n",
       "1 -1.692899  0.162599  2.365497 -2.141556"
      ]
     },
     "execution_count": 34,
     "metadata": {},
     "output_type": "execute_result"
    }
   ],
   "source": [
    "'''2. 按值排序'''\n",
    "#df.sortvalues(by='a', ascending=False) === 通过a的值\n",
    "#    作用是对选定的一列数值（'a'）数据从上往下从小到大进行排序（如果传值没成功===设置本体覆盖，传值覆盖）\n",
    "df4.sort_values(by=1)"
   ]
  },
  {
   "cell_type": "code",
   "execution_count": null,
   "metadata": {},
   "outputs": [],
   "source": []
  }
 ],
 "metadata": {
  "anaconda-cloud": {},
  "kernelspec": {
   "display_name": "Python 3",
   "language": "python",
   "name": "python3"
  },
  "language_info": {
   "codemirror_mode": {
    "name": "ipython",
    "version": 3
   },
   "file_extension": ".py",
   "mimetype": "text/x-python",
   "name": "python",
   "nbconvert_exporter": "python",
   "pygments_lexer": "ipython3",
   "version": "3.7.3"
  }
 },
 "nbformat": 4,
 "nbformat_minor": 1
}
