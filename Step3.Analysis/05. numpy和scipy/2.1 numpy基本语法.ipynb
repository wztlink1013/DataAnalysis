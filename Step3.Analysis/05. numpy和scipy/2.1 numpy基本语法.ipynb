{
 "cells": [
  {
   "cell_type": "markdown",
   "metadata": {},
   "source": [
    "# NumPy"
   ]
  },
  {
   "cell_type": "markdown",
   "metadata": {},
   "source": [
    "## ndarray 理解多维数组"
   ]
  },
  {
   "cell_type": "code",
   "execution_count": 1,
   "metadata": {
    "scrolled": true
   },
   "outputs": [
    {
     "name": "stdout",
     "output_type": "stream",
     "text": [
      "[[0.46686682 0.68844304 0.76663872]\n",
      " [0.70747721 0.47887587 0.25943412]]\n",
      "<class 'numpy.ndarray'>\n"
     ]
    }
   ],
   "source": [
    "import numpy as np\n",
    "\n",
    "# 生成指定维度的随机多维数据\n",
    "#数学建模应该用不到\n",
    "data = np.random.rand(2, 3)\n",
    "print (data)\n",
    "print (type(data))\n",
    "#type是显示数据类型；shape显示维度；ndim维度个数;type另外的作用"
   ]
  },
  {
   "cell_type": "markdown",
   "metadata": {},
   "source": [
    "##### ndim, shape 和 dtype 属性"
   ]
  },
  {
   "cell_type": "code",
   "execution_count": 2,
   "metadata": {
    "scrolled": true
   },
   "outputs": [
    {
     "name": "stdout",
     "output_type": "stream",
     "text": [
      "维度个数 2\n",
      "各维度大小:  (2, 3)\n",
      "数据类型:  float64\n"
     ]
    }
   ],
   "source": [
    "print ('维度个数', data.ndim)\n",
    "print ('各维度大小: ', data.shape)\n",
    "print ('数据类型: ', data.dtype)"
   ]
  },
  {
   "cell_type": "markdown",
   "metadata": {},
   "source": [
    "## 创建ndarray"
   ]
  },
  {
   "cell_type": "code",
   "execution_count": 3,
   "metadata": {},
   "outputs": [
    {
     "name": "stdout",
     "output_type": "stream",
     "text": [
      "[0 1 2 3 4 5 6 7 8 9]\n",
      "(10,)\n",
      "1\n"
     ]
    }
   ],
   "source": [
    "'''1. array创建'''\n",
    "# list转换为 ndarray\n",
    "l = range(10)\n",
    "data = np.array(l)\n",
    "print (data)\n",
    "print (data.shape)\n",
    "print (data.ndim)"
   ]
  },
  {
   "cell_type": "code",
   "execution_count": 4,
   "metadata": {},
   "outputs": [
    {
     "name": "stdout",
     "output_type": "stream",
     "text": [
      "[[0 1 2 3 4 5 6 7 8 9]\n",
      " [0 1 2 3 4 5 6 7 8 9]]\n",
      "(2, 10)\n"
     ]
    }
   ],
   "source": [
    "# 嵌套序列转换为ndarray\n",
    "l2 = [range(10), range(10)]\n",
    "#就这样形成了一个数组\n",
    "data = np.array(l2)\n",
    "print (data)\n",
    "print (data.shape)"
   ]
  },
  {
   "cell_type": "code",
   "execution_count": 5,
   "metadata": {},
   "outputs": [
    {
     "name": "stdout",
     "output_type": "stream",
     "text": [
      "[[0. 0. 0. 0.]\n",
      " [0. 0. 0. 0.]\n",
      " [0. 0. 0. 0.]]\n",
      "-------------\n",
      "[[1. 1. 1.]\n",
      " [1. 1. 1.]]\n",
      "-------------\n",
      "[[0.000e+000 0.000e+000 0.000e+000]\n",
      " [0.000e+000 0.000e+000 2.174e-321]\n",
      " [0.000e+000 0.000e+000 0.000e+000]]\n",
      "-------------\n",
      "[[0 0 0]\n",
      " [0 0 0]\n",
      " [0 0 0]]\n"
     ]
    }
   ],
   "source": [
    "'''2. zeros;ones;empty创建'''\n",
    "\n",
    "# np.zeros\n",
    "zeros_arr = np.zeros((3, 4))\n",
    "#注意元组，这里经常报错\n",
    "# np.ones\n",
    "ones_arr = np.ones((2, 3))\n",
    "\n",
    "# np.empty[不全为零，而且是随机的一些数字]\n",
    "empty_arr = np.empty((3, 3))\n",
    "\n",
    "# np.empty 指定数据类型\n",
    "empty_int_arr = np.empty((3, 3), int)\n",
    "\n",
    "print (zeros_arr)\n",
    "print ('-------------')\n",
    "print (ones_arr)\n",
    "print ('-------------')\n",
    "print (empty_arr)\n",
    "print ('-------------')\n",
    "print (empty_int_arr)"
   ]
  },
  {
   "cell_type": "code",
   "execution_count": 6,
   "metadata": {},
   "outputs": [
    {
     "name": "stdout",
     "output_type": "stream",
     "text": [
      "[0 1 2 3 4 5 6 7 8 9]\n"
     ]
    }
   ],
   "source": [
    "# np.arange()\n",
    "#创建一系列连续的数算是numpy里面类似python里面range的功能\n",
    "print (np.arange(10))"
   ]
  },
  {
   "cell_type": "markdown",
   "metadata": {},
   "source": [
    "## 操作nddarray"
   ]
  },
  {
   "cell_type": "markdown",
   "metadata": {
    "collapsed": true
   },
   "source": [
    "##### 矢量化 (vectorization)"
   ]
  },
  {
   "cell_type": "code",
   "execution_count": 7,
   "metadata": {},
   "outputs": [
    {
     "name": "stdout",
     "output_type": "stream",
     "text": [
      "元素之间相乘：\n",
      "[[ 1  4  9]\n",
      " [16 25 36]]\n",
      "矩阵相加：\n",
      "[[ 2  4  6]\n",
      " [ 8 10 12]]\n"
     ]
    }
   ],
   "source": [
    "# 矢量与矢量运算\n",
    "arr = np.array([[1, 2, 3],\n",
    "                [4, 5, 6]])\n",
    "\n",
    "print (\"元素之间相乘：\")\n",
    "#注意区分矩阵之间的运算。这里的矢量原酸相当于是广播式的运算\n",
    "print (arr * arr)\n",
    "\n",
    "print (\"矩阵相加：\")\n",
    "print (arr + arr)"
   ]
  },
  {
   "cell_type": "code",
   "execution_count": 8,
   "metadata": {},
   "outputs": [
    {
     "name": "stdout",
     "output_type": "stream",
     "text": [
      "[[1.         0.5        0.33333333]\n",
      " [0.25       0.2        0.16666667]]\n",
      "[[ 2.  4.  6.]\n",
      " [ 8. 10. 12.]]\n"
     ]
    }
   ],
   "source": [
    "# 矢量与标量运算\n",
    "print (1. / arr)\n",
    "print (2. * arr)"
   ]
  },
  {
   "cell_type": "markdown",
   "metadata": {},
   "source": [
    "##### 索引与切片"
   ]
  },
  {
   "cell_type": "code",
   "execution_count": 9,
   "metadata": {},
   "outputs": [
    {
     "name": "stdout",
     "output_type": "stream",
     "text": [
      "[0 1 2 3 4 5 6 7 8 9]\n",
      "[2 3 4]\n"
     ]
    }
   ],
   "source": [
    "# 一维数组\n",
    "arr1 = np.arange(10)\n",
    "print (arr1)\n",
    "\n",
    "print (arr1[2:5])"
   ]
  },
  {
   "cell_type": "code",
   "execution_count": 10,
   "metadata": {},
   "outputs": [
    {
     "name": "stdout",
     "output_type": "stream",
     "text": [
      "[[ 0  1  2  3]\n",
      " [ 4  5  6  7]\n",
      " [ 8  9 10 11]]\n"
     ]
    }
   ],
   "source": [
    "# 多维数组\n",
    "arr2 = np.arange(12).reshape(3,4)\n",
    "#要学会定义多维数组，arange是形成12个随机数，之后的reshape是形成维数\n",
    "#多维数组的空间含义就是比如：3.4.5=长4宽5高3\n",
    "#还有点数就是应用函数\n",
    "print (arr2)"
   ]
  },
  {
   "cell_type": "code",
   "execution_count": 11,
   "metadata": {},
   "outputs": [
    {
     "name": "stdout",
     "output_type": "stream",
     "text": [
      "[4 5 6 7]\n",
      "[[2 3]\n",
      " [6 7]]\n",
      "[[ 1  2]\n",
      " [ 5  6]\n",
      " [ 9 10]]\n"
     ]
    }
   ],
   "source": [
    "print (arr2[1])\n",
    "\n",
    "print (arr2[0:2, 2:])\n",
    "\n",
    "print (arr2[:, 1:3])"
   ]
  },
  {
   "cell_type": "code",
   "execution_count": 12,
   "metadata": {
    "scrolled": true
   },
   "outputs": [
    {
     "name": "stdout",
     "output_type": "stream",
     "text": [
      "[[0.61482194 0.0249229  0.28525661]\n",
      " [0.05121173 0.37672803 0.86259463]\n",
      " [0.22648329 0.4581513  0.18620441]]\n",
      "[[False False False]\n",
      " [ True False  True]\n",
      " [False False  True]] bool\n",
      "[0.05121173 0.86259463 0.18620441]\n"
     ]
    }
   ],
   "source": [
    "# 条件索引\n",
    "\n",
    "# 找出 data_arr 中 2015年后的数据\n",
    "data_arr = np.random.rand(3,3)\n",
    "print (data_arr)\n",
    "\n",
    "year_arr = np.array([[2000, 2001, 2000],\n",
    "                     [2005, 2002, 2009],\n",
    "                     [2001, 2003, 2010]])\n",
    "\n",
    "is_year_after_2005 = year_arr >= 2005\n",
    "#:他会扩展成同类型的数组\n",
    "print (is_year_after_2005, is_year_after_2005.dtype)\n",
    "\n",
    "filtered_arr = data_arr[is_year_after_2005]\n",
    "\n",
    "filtered_arr = data_arr[year_arr >= 2005]\n",
    "print (filtered_arr)\n",
    "#中间的一些语句可以删除\n",
    "#最后生成得是一维数组，进行数据过滤的时候很有用"
   ]
  },
  {
   "cell_type": "code",
   "execution_count": 13,
   "metadata": {},
   "outputs": [
    {
     "name": "stdout",
     "output_type": "stream",
     "text": [
      "[0.61482194 0.28525661 0.37672803]\n"
     ]
    }
   ],
   "source": [
    "# 多个条件& |\n",
    "filtered_arr = data_arr[(year_arr <= 2005) & (year_arr % 2 == 0)]\n",
    "print (filtered_arr)"
   ]
  },
  {
   "cell_type": "markdown",
   "metadata": {},
   "source": [
    "##### 转置 === transpose"
   ]
  },
  {
   "cell_type": "code",
   "execution_count": 14,
   "metadata": {},
   "outputs": [
    {
     "name": "stdout",
     "output_type": "stream",
     "text": [
      "[[0.01538974 0.47573964 0.90684253]\n",
      " [0.93683601 0.64306611 0.63846634]]\n",
      "[[0.01538974 0.93683601]\n",
      " [0.47573964 0.64306611]\n",
      " [0.90684253 0.63846634]]\n"
     ]
    }
   ],
   "source": [
    "arr = np.random.rand(2,3)\n",
    "print (arr)\n",
    "print (arr.transpose())"
   ]
  },
  {
   "cell_type": "code",
   "execution_count": 15,
   "metadata": {},
   "outputs": [
    {
     "name": "stdout",
     "output_type": "stream",
     "text": [
      "[[[0.18074837 0.64652003 0.80527972 0.67800268]\n",
      "  [0.95766577 0.2498768  0.00304503 0.7058178 ]\n",
      "  [0.12523549 0.18796252 0.72463798 0.15352211]]\n",
      "\n",
      " [[0.38808013 0.31075033 0.53082474 0.32254431]\n",
      "  [0.6861262  0.02999367 0.70980993 0.09099878]\n",
      "  [0.14987301 0.78237398 0.90159408 0.82897071]]]\n",
      "----------------------\n",
      "[[[0.18074837 0.64652003 0.80527972 0.67800268]\n",
      "  [0.38808013 0.31075033 0.53082474 0.32254431]]\n",
      "\n",
      " [[0.95766577 0.2498768  0.00304503 0.7058178 ]\n",
      "  [0.6861262  0.02999367 0.70980993 0.09099878]]\n",
      "\n",
      " [[0.12523549 0.18796252 0.72463798 0.15352211]\n",
      "  [0.14987301 0.78237398 0.90159408 0.82897071]]]\n"
     ]
    }
   ],
   "source": [
    "#高维数组的转换(图像里面会用得到转换维度)\n",
    "#不懂这里！！！\n",
    "arr3d = np.random.rand(2,3,4)\n",
    "print (arr3d)\n",
    "print ('----------------------')\n",
    "print (arr3d.transpose((1,0,2))) # 多维数组的转置和定义不会"
   ]
  },
  {
   "cell_type": "markdown",
   "metadata": {},
   "source": [
    "##### ndarray数据类型转化 === astype"
   ]
  },
  {
   "cell_type": "code",
   "execution_count": 16,
   "metadata": {},
   "outputs": [
    {
     "name": "stdout",
     "output_type": "stream",
     "text": [
      "[[0. 0. 0. 0.]\n",
      " [0. 0. 0. 0.]\n",
      " [0. 0. 0. 0.]]\n",
      "float64\n",
      "[[0 0 0 0]\n",
      " [0 0 0 0]\n",
      " [0 0 0 0]]\n",
      "int32\n"
     ]
    }
   ],
   "source": [
    "zeros_float_arr = np.zeros((3, 4), dtype=np.float64)\n",
    "print (zeros_float_arr)\n",
    "print (zeros_float_arr.dtype)\n",
    "\n",
    "# astype转换数据类型\n",
    "zeros_int_arr = zeros_float_arr.astype(np.int32)\n",
    "print (zeros_int_arr)\n",
    "print (zeros_int_arr.dtype)"
   ]
  },
  {
   "cell_type": "markdown",
   "metadata": {},
   "source": [
    "## 文本文件的读取"
   ]
  },
  {
   "cell_type": "code",
   "execution_count": 17,
   "metadata": {},
   "outputs": [
    {
     "name": "stdout",
     "output_type": "stream",
     "text": [
      "[['cycle' 'type' 'matchup']\n",
      " ['2016' '\"polls-plus\"' '\"Clinton vs. Trump vs. Johnson\"']\n",
      " ['2016' '\"polls-plus\"' '\"Clinton vs. Trump vs. Johnson\"']\n",
      " ...\n",
      " ['2016' '\"polls-only\"' '\"Clinton vs. Trump vs. Johnson\"']\n",
      " ['2016' '\"polls-only\"' '\"Clinton vs. Trump vs. Johnson\"']\n",
      " ['2016' '\"polls-only\"' '\"Clinton vs. Trump vs. Johnson\"']] (10237, 3)\n"
     ]
    }
   ],
   "source": [
    "# loadtxt\n",
    "filename = './presidential_polls.csv'\n",
    "data_array = np.loadtxt(filename,      # 文件名\n",
    "                        delimiter=',', # 指定里面的元素分隔符\n",
    "                        dtype=str,     # 指定数据类型\n",
    "                        usecols=(0,2,3)) # 指定读取的列索引号\n",
    "print (data_array, data_array.shape)"
   ]
  },
  {
   "cell_type": "code",
   "execution_count": 18,
   "metadata": {},
   "outputs": [
    {
     "name": "stdout",
     "output_type": "stream",
     "text": [
      "[(2016, b'\"polls-plus\"', b'\"Clinton vs. Trump vs. Johnson\"')\n",
      " (2016, b'\"polls-plus\"', b'\"Clinton vs. Trump vs. Johnson\"')\n",
      " (2016, b'\"polls-plus\"', b'\"Clinton vs. Trump vs. Johnson\"') ...\n",
      " (2016, b'\"polls-only\"', b'\"Clinton vs. Trump vs. Johnson\"')\n",
      " (2016, b'\"polls-only\"', b'\"Clinton vs. Trump vs. Johnson\"')\n",
      " (2016, b'\"polls-only\"', b'\"Clinton vs. Trump vs. Johnson\"')] (10236,)\n"
     ]
    }
   ],
   "source": [
    "# loadtxt, 明确指定每列数据的类型\n",
    "filename = './presidential_polls.csv'\n",
    "data_array = np.loadtxt(filename,      # 文件名\n",
    "                        delimiter=',', # 分隔符\n",
    "                        skiprows=1,\n",
    "                        dtype={'names':('cycle', 'type', 'matchup'),\n",
    "                               'formats':('i4', 'S15', 'S50')},     # 数据类型\n",
    "                        usecols=(0,2,3)) # 指定读取的列索引号\n",
    "\n",
    "print (data_array, data_array.shape) # 读取的结果是一维的数组，每个元素是一个元组"
   ]
  },
  {
   "cell_type": "code",
   "execution_count": null,
   "metadata": {},
   "outputs": [],
   "source": []
  }
 ],
 "metadata": {
  "anaconda-cloud": {},
  "celltoolbar": "Raw Cell Format",
  "kernelspec": {
   "display_name": "Python 3",
   "language": "python",
   "name": "python3"
  },
  "language_info": {
   "codemirror_mode": {
    "name": "ipython",
    "version": 3
   },
   "file_extension": ".py",
   "mimetype": "text/x-python",
   "name": "python",
   "nbconvert_exporter": "python",
   "pygments_lexer": "ipython3",
   "version": "3.7.4"
  },
  "toc": {
   "base_numbering": 1,
   "nav_menu": {},
   "number_sections": true,
   "sideBar": true,
   "skip_h1_title": false,
   "title_cell": "Table of Contents",
   "title_sidebar": "Contents",
   "toc_cell": false,
   "toc_position": {},
   "toc_section_display": true,
   "toc_window_display": true
  },
  "varInspector": {
   "cols": {
    "lenName": 16,
    "lenType": 16,
    "lenVar": 40
   },
   "kernels_config": {
    "python": {
     "delete_cmd_postfix": "",
     "delete_cmd_prefix": "del ",
     "library": "var_list.py",
     "varRefreshCmd": "print(var_dic_list())"
    },
    "r": {
     "delete_cmd_postfix": ") ",
     "delete_cmd_prefix": "rm(",
     "library": "var_list.r",
     "varRefreshCmd": "cat(var_dic_list()) "
    }
   },
   "types_to_exclude": [
    "module",
    "function",
    "builtin_function_or_method",
    "instance",
    "_Feature"
   ],
   "window_display": false
  }
 },
 "nbformat": 4,
 "nbformat_minor": 1
}
