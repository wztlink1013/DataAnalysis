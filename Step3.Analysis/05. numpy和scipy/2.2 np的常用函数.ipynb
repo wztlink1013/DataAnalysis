{
 "cells": [
  {
   "cell_type": "markdown",
   "metadata": {},
   "source": [
    "# np的常用函数\n"
   ]
  },
  {
   "cell_type": "markdown",
   "metadata": {},
   "source": [
    "## 转置transpose"
   ]
  },
  {
   "cell_type": "code",
   "execution_count": 1,
   "metadata": {},
   "outputs": [],
   "source": [
    "import numpy as np"
   ]
  },
  {
   "cell_type": "code",
   "execution_count": 2,
   "metadata": {},
   "outputs": [
    {
     "name": "stdout",
     "output_type": "stream",
     "text": [
      "[[0.78485041 0.88817969 0.34809014]\n",
      " [0.32744286 0.97539301 0.94401872]]\n",
      "[[0.78485041 0.32744286]\n",
      " [0.88817969 0.97539301]\n",
      " [0.34809014 0.94401872]]\n"
     ]
    }
   ],
   "source": [
    "arr = np.random.rand(2,3)\n",
    "print (arr)\n",
    "print (arr.transpose())"
   ]
  },
  {
   "cell_type": "code",
   "execution_count": 3,
   "metadata": {},
   "outputs": [
    {
     "name": "stdout",
     "output_type": "stream",
     "text": [
      "[[[0.28492549 0.60197236 0.45582367 0.21992479]\n",
      "  [0.1747163  0.69201365 0.85460359 0.65311699]\n",
      "  [0.62189644 0.25217555 0.16347156 0.29831219]]\n",
      "\n",
      " [[0.42826733 0.81396165 0.187138   0.560564  ]\n",
      "  [0.10162186 0.66419751 0.03261665 0.06969256]\n",
      "  [0.55461652 0.55020586 0.50693591 0.31741807]]]\n",
      "----------------------\n",
      "[[[0.28492549 0.60197236 0.45582367 0.21992479]\n",
      "  [0.42826733 0.81396165 0.187138   0.560564  ]]\n",
      "\n",
      " [[0.1747163  0.69201365 0.85460359 0.65311699]\n",
      "  [0.10162186 0.66419751 0.03261665 0.06969256]]\n",
      "\n",
      " [[0.62189644 0.25217555 0.16347156 0.29831219]\n",
      "  [0.55461652 0.55020586 0.50693591 0.31741807]]]\n"
     ]
    }
   ],
   "source": [
    "#高维数组的转换(图像里面会用得到转换维度)\n",
    "#不懂这里！！！\n",
    "arr3d = np.random.rand(2,3,4)\n",
    "print (arr3d)\n",
    "print ('----------------------')\n",
    "print (arr3d.transpose((1,0,2))) # 多维数组的转置和定义不会"
   ]
  },
  {
   "cell_type": "markdown",
   "metadata": {},
   "source": [
    "## 通用函数 ：ceil；floor；rint；isnan"
   ]
  },
  {
   "cell_type": "code",
   "execution_count": 4,
   "metadata": {},
   "outputs": [
    {
     "name": "stdout",
     "output_type": "stream",
     "text": [
      "[[ 0.262106   -1.33680008 -1.08562543]\n",
      " [ 0.3990978   0.1410074   0.64278274]]\n",
      "[[ 1. -1. -1.]\n",
      " [ 1.  1.  1.]]\n",
      "[[ 0. -2. -2.]\n",
      " [ 0.  0.  0.]]\n",
      "[[ 0. -1. -1.]\n",
      " [ 0.  0.  1.]]\n",
      "[[False False False]\n",
      " [False False False]]\n"
     ]
    }
   ],
   "source": [
    "arr = np.random.randn(2,3)\n",
    "\n",
    "print (arr)\n",
    "print (np.ceil(arr))\n",
    "#向上最接近的整数\n",
    "print (np.floor(arr))\n",
    "#向下最接近的整数\n",
    "print (np.rint(arr))\n",
    "#四舍五入\n",
    "print (np.isnan(arr))\n",
    "#判断元素是否为NaN\n",
    "#笔记上还有其他的函数"
   ]
  },
  {
   "cell_type": "markdown",
   "metadata": {},
   "source": [
    "## where"
   ]
  },
  {
   "cell_type": "code",
   "execution_count": 5,
   "metadata": {},
   "outputs": [
    {
     "name": "stdout",
     "output_type": "stream",
     "text": [
      "[[ 2.04688394  0.48063737  1.20876913 -0.93412937]\n",
      " [-0.43427472 -1.47755481  0.36882256 -0.08943138]\n",
      " [-0.2847686   0.96915893  0.32641235  0.28346922]]\n"
     ]
    },
    {
     "data": {
      "text/plain": [
       "array([[ 1,  1,  1, -1],\n",
       "       [-1, -1,  1, -1],\n",
       "       [-1,  1,  1,  1]])"
      ]
     },
     "execution_count": 5,
     "metadata": {},
     "output_type": "execute_result"
    }
   ],
   "source": [
    "arr = np.random.randn(3,4)\n",
    "print (arr)\n",
    "\n",
    "np.where(arr > 0, 1, -1)\n",
    "#（条件，满足输出，不满足输出）"
   ]
  },
  {
   "cell_type": "markdown",
   "metadata": {},
   "source": [
    "## sum"
   ]
  },
  {
   "cell_type": "code",
   "execution_count": 6,
   "metadata": {},
   "outputs": [
    {
     "name": "stdout",
     "output_type": "stream",
     "text": [
      "[[0 1]\n",
      " [2 3]\n",
      " [4 5]\n",
      " [6 7]\n",
      " [8 9]]\n",
      "45\n",
      "[20 25]\n",
      "[ 1  5  9 13 17]\n"
     ]
    }
   ],
   "source": [
    "arr = np.arange(10).reshape(5,2)\n",
    "print (arr)\n",
    "\n",
    "print (np.sum(arr))\n",
    "print (np.sum(arr, axis=0))\n",
    "print (np.sum(arr, axis=1))"
   ]
  },
  {
   "cell_type": "markdown",
   "metadata": {},
   "source": [
    "## all 和any"
   ]
  },
  {
   "cell_type": "code",
   "execution_count": 7,
   "metadata": {},
   "outputs": [
    {
     "name": "stdout",
     "output_type": "stream",
     "text": [
      "[[-1.020184   -0.48466272 -0.8496271 ]\n",
      " [ 0.88815825 -0.81911857  0.64570539]]\n",
      "True\n",
      "False\n"
     ]
    },
    {
     "data": {
      "text/plain": [
       "'\\n·用处就是判断一组数据当中，是否===有点类似布尔类型的\\n·这个也可以应用在pandas中的DataFrame中\\n'"
      ]
     },
     "execution_count": 7,
     "metadata": {},
     "output_type": "execute_result"
    }
   ],
   "source": [
    "import numpy as np\n",
    "arr = np.random.randn(2,3)\n",
    "print (arr)\n",
    "\n",
    "print (np.any(arr > 0))\n",
    "#有一个就对\n",
    "print (np.all(arr > 0))\n",
    "#全部对才对\n",
    "'''\n",
    "·用处就是判断一组数据当中，是否===有点类似布尔类型的\n",
    "·这个也可以应用在pandas中的DataFrame中\n",
    "'''"
   ]
  },
  {
   "cell_type": "markdown",
   "metadata": {},
   "source": [
    "## unique"
   ]
  },
  {
   "cell_type": "code",
   "execution_count": 8,
   "metadata": {},
   "outputs": [
    {
     "name": "stdout",
     "output_type": "stream",
     "text": [
      "[[1 2 1]\n",
      " [2 3 4]]\n",
      "[1 2 3 4]\n"
     ]
    }
   ],
   "source": [
    "arr = np.array([[1, 2, 1], [2, 3, 4]])\n",
    "print (arr)\n",
    "print (np.unique(arr))"
   ]
  },
  {
   "cell_type": "code",
   "execution_count": null,
   "metadata": {},
   "outputs": [],
   "source": []
  }
 ],
 "metadata": {
  "kernelspec": {
   "display_name": "Python 3",
   "language": "python",
   "name": "python3"
  },
  "language_info": {
   "codemirror_mode": {
    "name": "ipython",
    "version": 3
   },
   "file_extension": ".py",
   "mimetype": "text/x-python",
   "name": "python",
   "nbconvert_exporter": "python",
   "pygments_lexer": "ipython3",
   "version": "3.7.4"
  },
  "toc": {
   "base_numbering": 1,
   "nav_menu": {},
   "number_sections": true,
   "sideBar": true,
   "skip_h1_title": false,
   "title_cell": "Table of Contents",
   "title_sidebar": "Contents",
   "toc_cell": false,
   "toc_position": {},
   "toc_section_display": true,
   "toc_window_display": true
  },
  "varInspector": {
   "cols": {
    "lenName": 16,
    "lenType": 16,
    "lenVar": 40
   },
   "kernels_config": {
    "python": {
     "delete_cmd_postfix": "",
     "delete_cmd_prefix": "del ",
     "library": "var_list.py",
     "varRefreshCmd": "print(var_dic_list())"
    },
    "r": {
     "delete_cmd_postfix": ") ",
     "delete_cmd_prefix": "rm(",
     "library": "var_list.r",
     "varRefreshCmd": "cat(var_dic_list()) "
    }
   },
   "types_to_exclude": [
    "module",
    "function",
    "builtin_function_or_method",
    "instance",
    "_Feature"
   ],
   "window_display": false
  }
 },
 "nbformat": 4,
 "nbformat_minor": 2
}
